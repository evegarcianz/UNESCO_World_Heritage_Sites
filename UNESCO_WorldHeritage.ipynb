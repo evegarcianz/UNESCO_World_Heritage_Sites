{
 "cells": [
  {
   "cell_type": "markdown",
   "metadata": {},
   "source": [
    "## Unesco World Heritage Sites Visualisation\n"
   ]
  },
  {
   "cell_type": "markdown",
   "metadata": {},
   "source": [
    "## Data to use"
   ]
  },
  {
   "cell_type": "markdown",
   "metadata": {},
   "source": [
    " UNESCO designates landmarks as World Heritage Sites for cultural, historical, scientific, or other significance. The sites contain \"cultural and natural heritage worldwide, considered of outstanding value to humanity\".\n",
    "\n",
    "So I'm curious about the Mexican Heritage Sites included in the list, and to learn more about them, I will use a dataset from Kaggle, which is already curated:\n",
    "\n",
    "Unesco Heritage sites(2021) from Jam Ras Maurya.\n",
    "https://www.kaggle.com/ramjasmaurya/unesco-heritage-sites2021\n",
    "https://www.kaggle.com/ramjasmaurya\n",
    "\n",
    "More data on the World Heritage List and other details can be found at https://whc.unesco.org."
   ]
  },
  {
   "cell_type": "markdown",
   "metadata": {},
   "source": [
    "## Libraries set up"
   ]
  },
  {
   "cell_type": "markdown",
   "metadata": {},
   "source": [
    "\n",
    "First we import the libraries we will be using and load the csv file and make it a dataframe"
   ]
  },
  {
   "cell_type": "code",
   "execution_count": 1,
   "metadata": {},
   "outputs": [],
   "source": [
    "import pandas as pd\n",
    "import seaborn as sns\n",
    "import numpy as np\n",
    "import matplotlib.pyplot as plt\n",
    "import plotly.express as px\n"
   ]
  },
  {
   "cell_type": "markdown",
   "metadata": {},
   "source": [
    "Once I have the dataset, I will work with it as a pandas dataframe"
   ]
  },
  {
   "cell_type": "code",
   "execution_count": 2,
   "metadata": {},
   "outputs": [],
   "source": [
    "df = pd.read_csv('C:/Users/EDGAR/OneDrive/Documentos/MSc Data Science and AI/Other projects/Unesco/whc-sites(tangibles)-2021.csv')"
   ]
  },
  {
   "cell_type": "markdown",
   "metadata": {},
   "source": [
    "## Data Exploration and cleaning"
   ]
  },
  {
   "cell_type": "markdown",
   "metadata": {},
   "source": [
    "I can see the database has 1155 entries, in this case, heritage sites in the world and also contains 15 columns"
   ]
  },
  {
   "cell_type": "code",
   "execution_count": 3,
   "metadata": {},
   "outputs": [
    {
     "data": {
      "text/plain": [
       "(1155, 15)"
      ]
     },
     "execution_count": 3,
     "metadata": {},
     "output_type": "execute_result"
    }
   ],
   "source": [
    "df.shape"
   ]
  },
  {
   "cell_type": "markdown",
   "metadata": {},
   "source": [
    "Let's look a the columns we have"
   ]
  },
  {
   "cell_type": "code",
   "execution_count": 4,
   "metadata": {},
   "outputs": [
    {
     "data": {
      "text/plain": [
       "Index(['Name', 'short_description', 'date_inscribed', 'danger', 'date_end',\n",
       "       'longitude', 'latitude', 'area_hectares', 'category_long',\n",
       "       'category_short', 'Country name', 'Region', 'iso_code', 'transboundary',\n",
       "       'rev_bis'],\n",
       "      dtype='object')"
      ]
     },
     "execution_count": 4,
     "metadata": {},
     "output_type": "execute_result"
    }
   ],
   "source": [
    "df.columns"
   ]
  },
  {
   "cell_type": "markdown",
   "metadata": {},
   "source": [
    "The columns category_short, iso_code and rev_bis seem not to be useful for our purposes so we will delet it"
   ]
  },
  {
   "cell_type": "code",
   "execution_count": 5,
   "metadata": {},
   "outputs": [],
   "source": [
    "df=df.drop('category_short',axis=1)\n",
    "df=df.drop('iso_code',axis=1)\n",
    "df=df.drop('rev_bis',axis=1)"
   ]
  },
  {
   "cell_type": "markdown",
   "metadata": {},
   "source": [
    "I want to know what kind of categories we have"
   ]
  },
  {
   "cell_type": "code",
   "execution_count": 6,
   "metadata": {},
   "outputs": [
    {
     "data": {
      "text/plain": [
       "array(['Cultural', 'Natural', 'Mixed'], dtype=object)"
      ]
     },
     "execution_count": 6,
     "metadata": {},
     "output_type": "execute_result"
    }
   ],
   "source": [
    "df['category_long'].unique()"
   ]
  },
  {
   "cell_type": "markdown",
   "metadata": {},
   "source": [
    "I also want to know the regions we have. I see weir combinations but I will fix it later."
   ]
  },
  {
   "cell_type": "code",
   "execution_count": 7,
   "metadata": {},
   "outputs": [
    {
     "data": {
      "text/plain": [
       "array(['Europe and North America', 'Latin America and the Caribbean',\n",
       "       'Africa', 'Arab States', 'Asia and the Pacific',\n",
       "       'Asia and the Pacific,Europe and North America',\n",
       "       'Asia and the Pacific,Europe and North America,Latin America and the Caribbean'],\n",
       "      dtype=object)"
      ]
     },
     "execution_count": 7,
     "metadata": {},
     "output_type": "execute_result"
    }
   ],
   "source": [
    "df['Region'].unique()"
   ]
  },
  {
   "cell_type": "markdown",
   "metadata": {},
   "source": [
    "The first obvious question that comes to mind is: How many heritage sites does Mexico hold? "
   ]
  },
  {
   "cell_type": "code",
   "execution_count": 8,
   "metadata": {},
   "outputs": [
    {
     "data": {
      "text/plain": [
       "Name                 35\n",
       "short_description    35\n",
       "date_inscribed       35\n",
       "danger               35\n",
       "date_end              0\n",
       "longitude            35\n",
       "latitude             35\n",
       "area_hectares        35\n",
       "category_long        35\n",
       "Country name         35\n",
       "Region               35\n",
       "transboundary        35\n",
       "dtype: int64"
      ]
     },
     "execution_count": 8,
     "metadata": {},
     "output_type": "execute_result"
    }
   ],
   "source": [
    "df[df['Country name']=='Mexico'].count()"
   ]
  },
  {
   "cell_type": "markdown",
   "metadata": {},
   "source": [
    "We find out that the answer is 35, but is that a considerable amount, or is this just average or maybe very low? Let's find out."
   ]
  },
  {
   "cell_type": "markdown",
   "metadata": {},
   "source": [
    "Let's observe the top 20 countries. There Mexico is, in 7th place."
   ]
  },
  {
   "cell_type": "code",
   "execution_count": 9,
   "metadata": {},
   "outputs": [
    {
     "data": {
      "text/html": [
       "<div>\n",
       "<style scoped>\n",
       "    .dataframe tbody tr th:only-of-type {\n",
       "        vertical-align: middle;\n",
       "    }\n",
       "\n",
       "    .dataframe tbody tr th {\n",
       "        vertical-align: top;\n",
       "    }\n",
       "\n",
       "    .dataframe thead th {\n",
       "        text-align: right;\n",
       "    }\n",
       "</style>\n",
       "<table border=\"1\" class=\"dataframe\">\n",
       "  <thead>\n",
       "    <tr style=\"text-align: right;\">\n",
       "      <th></th>\n",
       "      <th>Name</th>\n",
       "      <th>short_description</th>\n",
       "      <th>date_inscribed</th>\n",
       "      <th>danger</th>\n",
       "      <th>date_end</th>\n",
       "      <th>longitude</th>\n",
       "      <th>latitude</th>\n",
       "      <th>area_hectares</th>\n",
       "      <th>category_long</th>\n",
       "      <th>Region</th>\n",
       "      <th>transboundary</th>\n",
       "    </tr>\n",
       "    <tr>\n",
       "      <th>Country name</th>\n",
       "      <th></th>\n",
       "      <th></th>\n",
       "      <th></th>\n",
       "      <th></th>\n",
       "      <th></th>\n",
       "      <th></th>\n",
       "      <th></th>\n",
       "      <th></th>\n",
       "      <th></th>\n",
       "      <th></th>\n",
       "      <th></th>\n",
       "    </tr>\n",
       "  </thead>\n",
       "  <tbody>\n",
       "    <tr>\n",
       "      <th>China</th>\n",
       "      <td>55</td>\n",
       "      <td>55</td>\n",
       "      <td>55</td>\n",
       "      <td>55</td>\n",
       "      <td>0</td>\n",
       "      <td>55</td>\n",
       "      <td>55</td>\n",
       "      <td>54</td>\n",
       "      <td>55</td>\n",
       "      <td>55</td>\n",
       "      <td>55</td>\n",
       "    </tr>\n",
       "    <tr>\n",
       "      <th>Italy</th>\n",
       "      <td>51</td>\n",
       "      <td>51</td>\n",
       "      <td>51</td>\n",
       "      <td>51</td>\n",
       "      <td>0</td>\n",
       "      <td>51</td>\n",
       "      <td>51</td>\n",
       "      <td>50</td>\n",
       "      <td>51</td>\n",
       "      <td>51</td>\n",
       "      <td>51</td>\n",
       "    </tr>\n",
       "    <tr>\n",
       "      <th>Spain</th>\n",
       "      <td>45</td>\n",
       "      <td>45</td>\n",
       "      <td>45</td>\n",
       "      <td>45</td>\n",
       "      <td>0</td>\n",
       "      <td>45</td>\n",
       "      <td>45</td>\n",
       "      <td>44</td>\n",
       "      <td>45</td>\n",
       "      <td>45</td>\n",
       "      <td>45</td>\n",
       "    </tr>\n",
       "    <tr>\n",
       "      <th>France</th>\n",
       "      <td>43</td>\n",
       "      <td>43</td>\n",
       "      <td>43</td>\n",
       "      <td>43</td>\n",
       "      <td>0</td>\n",
       "      <td>43</td>\n",
       "      <td>43</td>\n",
       "      <td>42</td>\n",
       "      <td>43</td>\n",
       "      <td>43</td>\n",
       "      <td>43</td>\n",
       "    </tr>\n",
       "    <tr>\n",
       "      <th>Germany</th>\n",
       "      <td>41</td>\n",
       "      <td>41</td>\n",
       "      <td>41</td>\n",
       "      <td>41</td>\n",
       "      <td>1</td>\n",
       "      <td>41</td>\n",
       "      <td>41</td>\n",
       "      <td>40</td>\n",
       "      <td>41</td>\n",
       "      <td>41</td>\n",
       "      <td>41</td>\n",
       "    </tr>\n",
       "    <tr>\n",
       "      <th>India</th>\n",
       "      <td>39</td>\n",
       "      <td>39</td>\n",
       "      <td>39</td>\n",
       "      <td>39</td>\n",
       "      <td>2</td>\n",
       "      <td>39</td>\n",
       "      <td>39</td>\n",
       "      <td>39</td>\n",
       "      <td>39</td>\n",
       "      <td>39</td>\n",
       "      <td>39</td>\n",
       "    </tr>\n",
       "    <tr>\n",
       "      <th>Mexico</th>\n",
       "      <td>35</td>\n",
       "      <td>35</td>\n",
       "      <td>35</td>\n",
       "      <td>35</td>\n",
       "      <td>0</td>\n",
       "      <td>35</td>\n",
       "      <td>35</td>\n",
       "      <td>35</td>\n",
       "      <td>35</td>\n",
       "      <td>35</td>\n",
       "      <td>35</td>\n",
       "    </tr>\n",
       "    <tr>\n",
       "      <th>United Kingdom of Great Britain and Northern Ireland</th>\n",
       "      <td>32</td>\n",
       "      <td>32</td>\n",
       "      <td>32</td>\n",
       "      <td>32</td>\n",
       "      <td>1</td>\n",
       "      <td>32</td>\n",
       "      <td>32</td>\n",
       "      <td>32</td>\n",
       "      <td>32</td>\n",
       "      <td>32</td>\n",
       "      <td>32</td>\n",
       "    </tr>\n",
       "    <tr>\n",
       "      <th>Russian Federation</th>\n",
       "      <td>26</td>\n",
       "      <td>26</td>\n",
       "      <td>26</td>\n",
       "      <td>26</td>\n",
       "      <td>0</td>\n",
       "      <td>26</td>\n",
       "      <td>26</td>\n",
       "      <td>26</td>\n",
       "      <td>26</td>\n",
       "      <td>26</td>\n",
       "      <td>26</td>\n",
       "    </tr>\n",
       "    <tr>\n",
       "      <th>Iran (Islamic Republic of)</th>\n",
       "      <td>26</td>\n",
       "      <td>26</td>\n",
       "      <td>26</td>\n",
       "      <td>26</td>\n",
       "      <td>1</td>\n",
       "      <td>26</td>\n",
       "      <td>26</td>\n",
       "      <td>26</td>\n",
       "      <td>26</td>\n",
       "      <td>26</td>\n",
       "      <td>26</td>\n",
       "    </tr>\n",
       "    <tr>\n",
       "      <th>Japan</th>\n",
       "      <td>24</td>\n",
       "      <td>24</td>\n",
       "      <td>24</td>\n",
       "      <td>24</td>\n",
       "      <td>0</td>\n",
       "      <td>24</td>\n",
       "      <td>24</td>\n",
       "      <td>24</td>\n",
       "      <td>24</td>\n",
       "      <td>24</td>\n",
       "      <td>24</td>\n",
       "    </tr>\n",
       "    <tr>\n",
       "      <th>United States of America</th>\n",
       "      <td>22</td>\n",
       "      <td>22</td>\n",
       "      <td>22</td>\n",
       "      <td>22</td>\n",
       "      <td>2</td>\n",
       "      <td>22</td>\n",
       "      <td>22</td>\n",
       "      <td>22</td>\n",
       "      <td>22</td>\n",
       "      <td>22</td>\n",
       "      <td>22</td>\n",
       "    </tr>\n",
       "    <tr>\n",
       "      <th>Brazil</th>\n",
       "      <td>22</td>\n",
       "      <td>22</td>\n",
       "      <td>22</td>\n",
       "      <td>22</td>\n",
       "      <td>1</td>\n",
       "      <td>22</td>\n",
       "      <td>22</td>\n",
       "      <td>22</td>\n",
       "      <td>22</td>\n",
       "      <td>22</td>\n",
       "      <td>22</td>\n",
       "    </tr>\n",
       "    <tr>\n",
       "      <th>Australia</th>\n",
       "      <td>20</td>\n",
       "      <td>20</td>\n",
       "      <td>20</td>\n",
       "      <td>20</td>\n",
       "      <td>0</td>\n",
       "      <td>20</td>\n",
       "      <td>20</td>\n",
       "      <td>20</td>\n",
       "      <td>20</td>\n",
       "      <td>20</td>\n",
       "      <td>20</td>\n",
       "    </tr>\n",
       "    <tr>\n",
       "      <th>Turkey</th>\n",
       "      <td>19</td>\n",
       "      <td>19</td>\n",
       "      <td>19</td>\n",
       "      <td>19</td>\n",
       "      <td>0</td>\n",
       "      <td>19</td>\n",
       "      <td>19</td>\n",
       "      <td>19</td>\n",
       "      <td>19</td>\n",
       "      <td>19</td>\n",
       "      <td>19</td>\n",
       "    </tr>\n",
       "    <tr>\n",
       "      <th>Canada</th>\n",
       "      <td>18</td>\n",
       "      <td>18</td>\n",
       "      <td>18</td>\n",
       "      <td>18</td>\n",
       "      <td>0</td>\n",
       "      <td>18</td>\n",
       "      <td>18</td>\n",
       "      <td>18</td>\n",
       "      <td>18</td>\n",
       "      <td>18</td>\n",
       "      <td>18</td>\n",
       "    </tr>\n",
       "    <tr>\n",
       "      <th>Greece</th>\n",
       "      <td>18</td>\n",
       "      <td>18</td>\n",
       "      <td>18</td>\n",
       "      <td>18</td>\n",
       "      <td>0</td>\n",
       "      <td>18</td>\n",
       "      <td>18</td>\n",
       "      <td>18</td>\n",
       "      <td>18</td>\n",
       "      <td>18</td>\n",
       "      <td>18</td>\n",
       "    </tr>\n",
       "    <tr>\n",
       "      <th>Portugal</th>\n",
       "      <td>16</td>\n",
       "      <td>16</td>\n",
       "      <td>16</td>\n",
       "      <td>16</td>\n",
       "      <td>0</td>\n",
       "      <td>16</td>\n",
       "      <td>16</td>\n",
       "      <td>16</td>\n",
       "      <td>16</td>\n",
       "      <td>16</td>\n",
       "      <td>16</td>\n",
       "    </tr>\n",
       "    <tr>\n",
       "      <th>Republic of Korea</th>\n",
       "      <td>15</td>\n",
       "      <td>15</td>\n",
       "      <td>15</td>\n",
       "      <td>15</td>\n",
       "      <td>0</td>\n",
       "      <td>15</td>\n",
       "      <td>15</td>\n",
       "      <td>15</td>\n",
       "      <td>15</td>\n",
       "      <td>15</td>\n",
       "      <td>15</td>\n",
       "    </tr>\n",
       "    <tr>\n",
       "      <th>Sweden</th>\n",
       "      <td>13</td>\n",
       "      <td>13</td>\n",
       "      <td>13</td>\n",
       "      <td>13</td>\n",
       "      <td>0</td>\n",
       "      <td>13</td>\n",
       "      <td>13</td>\n",
       "      <td>13</td>\n",
       "      <td>13</td>\n",
       "      <td>13</td>\n",
       "      <td>13</td>\n",
       "    </tr>\n",
       "  </tbody>\n",
       "</table>\n",
       "</div>"
      ],
      "text/plain": [
       "                                                    Name  short_description  \\\n",
       "Country name                                                                  \n",
       "China                                                 55                 55   \n",
       "Italy                                                 51                 51   \n",
       "Spain                                                 45                 45   \n",
       "France                                                43                 43   \n",
       "Germany                                               41                 41   \n",
       "India                                                 39                 39   \n",
       "Mexico                                                35                 35   \n",
       "United Kingdom of Great Britain and Northern Ir...    32                 32   \n",
       "Russian Federation                                    26                 26   \n",
       "Iran (Islamic Republic of)                            26                 26   \n",
       "Japan                                                 24                 24   \n",
       "United States of America                              22                 22   \n",
       "Brazil                                                22                 22   \n",
       "Australia                                             20                 20   \n",
       "Turkey                                                19                 19   \n",
       "Canada                                                18                 18   \n",
       "Greece                                                18                 18   \n",
       "Portugal                                              16                 16   \n",
       "Republic of Korea                                     15                 15   \n",
       "Sweden                                                13                 13   \n",
       "\n",
       "                                                    date_inscribed  danger  \\\n",
       "Country name                                                                 \n",
       "China                                                           55      55   \n",
       "Italy                                                           51      51   \n",
       "Spain                                                           45      45   \n",
       "France                                                          43      43   \n",
       "Germany                                                         41      41   \n",
       "India                                                           39      39   \n",
       "Mexico                                                          35      35   \n",
       "United Kingdom of Great Britain and Northern Ir...              32      32   \n",
       "Russian Federation                                              26      26   \n",
       "Iran (Islamic Republic of)                                      26      26   \n",
       "Japan                                                           24      24   \n",
       "United States of America                                        22      22   \n",
       "Brazil                                                          22      22   \n",
       "Australia                                                       20      20   \n",
       "Turkey                                                          19      19   \n",
       "Canada                                                          18      18   \n",
       "Greece                                                          18      18   \n",
       "Portugal                                                        16      16   \n",
       "Republic of Korea                                               15      15   \n",
       "Sweden                                                          13      13   \n",
       "\n",
       "                                                    date_end  longitude  \\\n",
       "Country name                                                              \n",
       "China                                                      0         55   \n",
       "Italy                                                      0         51   \n",
       "Spain                                                      0         45   \n",
       "France                                                     0         43   \n",
       "Germany                                                    1         41   \n",
       "India                                                      2         39   \n",
       "Mexico                                                     0         35   \n",
       "United Kingdom of Great Britain and Northern Ir...         1         32   \n",
       "Russian Federation                                         0         26   \n",
       "Iran (Islamic Republic of)                                 1         26   \n",
       "Japan                                                      0         24   \n",
       "United States of America                                   2         22   \n",
       "Brazil                                                     1         22   \n",
       "Australia                                                  0         20   \n",
       "Turkey                                                     0         19   \n",
       "Canada                                                     0         18   \n",
       "Greece                                                     0         18   \n",
       "Portugal                                                   0         16   \n",
       "Republic of Korea                                          0         15   \n",
       "Sweden                                                     0         13   \n",
       "\n",
       "                                                    latitude  area_hectares  \\\n",
       "Country name                                                                  \n",
       "China                                                     55             54   \n",
       "Italy                                                     51             50   \n",
       "Spain                                                     45             44   \n",
       "France                                                    43             42   \n",
       "Germany                                                   41             40   \n",
       "India                                                     39             39   \n",
       "Mexico                                                    35             35   \n",
       "United Kingdom of Great Britain and Northern Ir...        32             32   \n",
       "Russian Federation                                        26             26   \n",
       "Iran (Islamic Republic of)                                26             26   \n",
       "Japan                                                     24             24   \n",
       "United States of America                                  22             22   \n",
       "Brazil                                                    22             22   \n",
       "Australia                                                 20             20   \n",
       "Turkey                                                    19             19   \n",
       "Canada                                                    18             18   \n",
       "Greece                                                    18             18   \n",
       "Portugal                                                  16             16   \n",
       "Republic of Korea                                         15             15   \n",
       "Sweden                                                    13             13   \n",
       "\n",
       "                                                    category_long  Region  \\\n",
       "Country name                                                                \n",
       "China                                                          55      55   \n",
       "Italy                                                          51      51   \n",
       "Spain                                                          45      45   \n",
       "France                                                         43      43   \n",
       "Germany                                                        41      41   \n",
       "India                                                          39      39   \n",
       "Mexico                                                         35      35   \n",
       "United Kingdom of Great Britain and Northern Ir...             32      32   \n",
       "Russian Federation                                             26      26   \n",
       "Iran (Islamic Republic of)                                     26      26   \n",
       "Japan                                                          24      24   \n",
       "United States of America                                       22      22   \n",
       "Brazil                                                         22      22   \n",
       "Australia                                                      20      20   \n",
       "Turkey                                                         19      19   \n",
       "Canada                                                         18      18   \n",
       "Greece                                                         18      18   \n",
       "Portugal                                                       16      16   \n",
       "Republic of Korea                                              15      15   \n",
       "Sweden                                                         13      13   \n",
       "\n",
       "                                                    transboundary  \n",
       "Country name                                                       \n",
       "China                                                          55  \n",
       "Italy                                                          51  \n",
       "Spain                                                          45  \n",
       "France                                                         43  \n",
       "Germany                                                        41  \n",
       "India                                                          39  \n",
       "Mexico                                                         35  \n",
       "United Kingdom of Great Britain and Northern Ir...             32  \n",
       "Russian Federation                                             26  \n",
       "Iran (Islamic Republic of)                                     26  \n",
       "Japan                                                          24  \n",
       "United States of America                                       22  \n",
       "Brazil                                                         22  \n",
       "Australia                                                      20  \n",
       "Turkey                                                         19  \n",
       "Canada                                                         18  \n",
       "Greece                                                         18  \n",
       "Portugal                                                       16  \n",
       "Republic of Korea                                              15  \n",
       "Sweden                                                         13  "
      ]
     },
     "execution_count": 9,
     "metadata": {},
     "output_type": "execute_result"
    }
   ],
   "source": [
    "df.groupby('Country name').count().sort_values(by='Name',ascending=False).head(20)"
   ]
  },
  {
   "cell_type": "markdown",
   "metadata": {},
   "source": [
    "Let's observe the top 20 countries.\n",
    "Now I want to explore data by region. But at this point, we observe something strange. Europe and North America, for some reason, form one area. There is also one region called 'Asia and the Pacific' but 'Asia and the Pacific, Europe and North America', 'Asia and the Pacific, Europe and North America, Latin America and the Caribbean' also exist. That seems redundant, so we need to fix it."
   ]
  },
  {
   "cell_type": "code",
   "execution_count": 10,
   "metadata": {},
   "outputs": [
    {
     "data": {
      "text/plain": [
       "array(['Europe and North America', 'Latin America and the Caribbean',\n",
       "       'Africa', 'Arab States', 'Asia and the Pacific',\n",
       "       'Asia and the Pacific,Europe and North America',\n",
       "       'Asia and the Pacific,Europe and North America,Latin America and the Caribbean'],\n",
       "      dtype=object)"
      ]
     },
     "execution_count": 10,
     "metadata": {},
     "output_type": "execute_result"
    }
   ],
   "source": [
    "df['Region'].unique()"
   ]
  },
  {
   "cell_type": "markdown",
   "metadata": {},
   "source": [
    "First, let's separate North America from Europe. I will list all the countries in this region."
   ]
  },
  {
   "cell_type": "code",
   "execution_count": 11,
   "metadata": {},
   "outputs": [
    {
     "data": {
      "text/plain": [
       "array(['Canada', 'Germany', 'Poland', 'United States of America',\n",
       "       'Bulgaria', 'Croatia', 'France', 'Italy', 'Montenegro', 'Norway',\n",
       "       'Serbia', 'Cyprus', 'Malta', 'Portugal', 'Switzerland', 'Holy See',\n",
       "       'Spain', 'Turkey', 'Greece', 'Slovenia',\n",
       "       'United Kingdom of Great Britain and Northern Ireland', 'Hungary',\n",
       "       'Russian Federation', 'Ukraine', 'Finland', 'Romania', 'Sweden',\n",
       "       'Albania', 'Czechia', 'Ireland', 'Slovakia', 'Denmark', 'Georgia',\n",
       "       'Lithuania', 'Luxembourg', 'Netherlands', 'Armenia', 'Austria',\n",
       "       'Estonia', 'Latvia', 'Belgium', 'Azerbaijan', 'Belarus', 'Israel',\n",
       "       'Andorra', 'Iceland', 'Bosnia and Herzegovina', 'San Marino'],\n",
       "      dtype=object)"
      ]
     },
     "execution_count": 11,
     "metadata": {},
     "output_type": "execute_result"
    }
   ],
   "source": [
    "df[(df['Region']=='Europe and North America') & (df['transboundary']==0)]['Country name'].unique()"
   ]
  },
  {
   "cell_type": "markdown",
   "metadata": {},
   "source": [
    "United Kingdom of Great Britain and Northern Ireland is such a long name. For simplicity, I will replace it with United Kingdom."
   ]
  },
  {
   "cell_type": "code",
   "execution_count": 12,
   "metadata": {},
   "outputs": [],
   "source": [
    "df.loc[(df['Country name']=='United Kingdom of Great Britain and Northern Ireland') , 'Country name'] = 'United Kingdom'"
   ]
  },
  {
   "cell_type": "markdown",
   "metadata": {},
   "source": [
    "Now, I will set the column \"Region\" as \"North America\" for the instances in which the column \"Country name\" is Canada or United States of America."
   ]
  },
  {
   "cell_type": "code",
   "execution_count": 13,
   "metadata": {},
   "outputs": [],
   "source": [
    "df.loc[(df['Country name']=='Canada') | (df['Country name']=='United States of America') , 'Region'] = 'North America'"
   ]
  },
  {
   "cell_type": "markdown",
   "metadata": {},
   "source": [
    "And the region that used to be \"Europe and North America\" now will be \"Europe\"."
   ]
  },
  {
   "cell_type": "code",
   "execution_count": 14,
   "metadata": {},
   "outputs": [],
   "source": [
    "df.loc[(df['Region']=='Europe and North America') , 'Region'] = 'Europe'"
   ]
  },
  {
   "cell_type": "markdown",
   "metadata": {},
   "source": [
    "We can see the data frame successfully updated."
   ]
  },
  {
   "cell_type": "code",
   "execution_count": 15,
   "metadata": {},
   "outputs": [
    {
     "data": {
      "text/html": [
       "<div>\n",
       "<style scoped>\n",
       "    .dataframe tbody tr th:only-of-type {\n",
       "        vertical-align: middle;\n",
       "    }\n",
       "\n",
       "    .dataframe tbody tr th {\n",
       "        vertical-align: top;\n",
       "    }\n",
       "\n",
       "    .dataframe thead th {\n",
       "        text-align: right;\n",
       "    }\n",
       "</style>\n",
       "<table border=\"1\" class=\"dataframe\">\n",
       "  <thead>\n",
       "    <tr style=\"text-align: right;\">\n",
       "      <th></th>\n",
       "      <th>Name</th>\n",
       "      <th>short_description</th>\n",
       "      <th>date_inscribed</th>\n",
       "      <th>danger</th>\n",
       "      <th>date_end</th>\n",
       "      <th>longitude</th>\n",
       "      <th>latitude</th>\n",
       "      <th>area_hectares</th>\n",
       "      <th>category_long</th>\n",
       "      <th>Country name</th>\n",
       "      <th>Region</th>\n",
       "      <th>transboundary</th>\n",
       "    </tr>\n",
       "  </thead>\n",
       "  <tbody>\n",
       "    <tr>\n",
       "      <th>0</th>\n",
       "      <td>L’Anse aux Meadows National Historic Site</td>\n",
       "      <td>&lt;p&gt;At the tip of the Great Northern Peninsula ...</td>\n",
       "      <td>1978</td>\n",
       "      <td>0</td>\n",
       "      <td>NaN</td>\n",
       "      <td>-55.616667</td>\n",
       "      <td>51.466667</td>\n",
       "      <td>7991.0</td>\n",
       "      <td>Cultural</td>\n",
       "      <td>Canada</td>\n",
       "      <td>North America</td>\n",
       "      <td>0</td>\n",
       "    </tr>\n",
       "    <tr>\n",
       "      <th>1</th>\n",
       "      <td>Nahanni National Park</td>\n",
       "      <td>&lt;p&gt;Located along the South Nahanni River, one ...</td>\n",
       "      <td>1978</td>\n",
       "      <td>0</td>\n",
       "      <td>NaN</td>\n",
       "      <td>-125.589444</td>\n",
       "      <td>61.547222</td>\n",
       "      <td>476560.0</td>\n",
       "      <td>Natural</td>\n",
       "      <td>Canada</td>\n",
       "      <td>North America</td>\n",
       "      <td>0</td>\n",
       "    </tr>\n",
       "    <tr>\n",
       "      <th>10</th>\n",
       "      <td>Mesa Verde National Park</td>\n",
       "      <td>&lt;p&gt;A great concentration of ancestral Pueblo I...</td>\n",
       "      <td>1978</td>\n",
       "      <td>0</td>\n",
       "      <td>NaN</td>\n",
       "      <td>-108.485556</td>\n",
       "      <td>37.261667</td>\n",
       "      <td>21043.0</td>\n",
       "      <td>Cultural</td>\n",
       "      <td>United States of America</td>\n",
       "      <td>North America</td>\n",
       "      <td>0</td>\n",
       "    </tr>\n",
       "  </tbody>\n",
       "</table>\n",
       "</div>"
      ],
      "text/plain": [
       "                                         Name  \\\n",
       "0   L’Anse aux Meadows National Historic Site   \n",
       "1                       Nahanni National Park   \n",
       "10                   Mesa Verde National Park   \n",
       "\n",
       "                                    short_description  date_inscribed  danger  \\\n",
       "0   <p>At the tip of the Great Northern Peninsula ...            1978       0   \n",
       "1   <p>Located along the South Nahanni River, one ...            1978       0   \n",
       "10  <p>A great concentration of ancestral Pueblo I...            1978       0   \n",
       "\n",
       "    date_end   longitude   latitude  area_hectares category_long  \\\n",
       "0        NaN  -55.616667  51.466667         7991.0      Cultural   \n",
       "1        NaN -125.589444  61.547222       476560.0       Natural   \n",
       "10       NaN -108.485556  37.261667        21043.0      Cultural   \n",
       "\n",
       "                Country name         Region  transboundary  \n",
       "0                     Canada  North America              0  \n",
       "1                     Canada  North America              0  \n",
       "10  United States of America  North America              0  "
      ]
     },
     "execution_count": 15,
     "metadata": {},
     "output_type": "execute_result"
    }
   ],
   "source": [
    "df[(df['Country name']=='Canada') | (df['Country name']=='United States of America')].head(3)"
   ]
  },
  {
   "cell_type": "markdown",
   "metadata": {},
   "source": [
    "Grouping the data frame, we can see that we still need to fix the redundant \"Asia and the Pacific, Europe and North America\", \"Asia and the Pacific, Europe and North America, Latin America and the Caribbean\". So first, we need to see what sites correspond to these regions."
   ]
  },
  {
   "cell_type": "code",
   "execution_count": 16,
   "metadata": {},
   "outputs": [
    {
     "data": {
      "text/html": [
       "<div>\n",
       "<style scoped>\n",
       "    .dataframe tbody tr th:only-of-type {\n",
       "        vertical-align: middle;\n",
       "    }\n",
       "\n",
       "    .dataframe tbody tr th {\n",
       "        vertical-align: top;\n",
       "    }\n",
       "\n",
       "    .dataframe thead th {\n",
       "        text-align: right;\n",
       "    }\n",
       "</style>\n",
       "<table border=\"1\" class=\"dataframe\">\n",
       "  <thead>\n",
       "    <tr style=\"text-align: right;\">\n",
       "      <th></th>\n",
       "      <th>Name</th>\n",
       "      <th>short_description</th>\n",
       "      <th>date_inscribed</th>\n",
       "      <th>danger</th>\n",
       "      <th>date_end</th>\n",
       "      <th>longitude</th>\n",
       "      <th>latitude</th>\n",
       "      <th>area_hectares</th>\n",
       "      <th>category_long</th>\n",
       "      <th>Country name</th>\n",
       "      <th>transboundary</th>\n",
       "    </tr>\n",
       "    <tr>\n",
       "      <th>Region</th>\n",
       "      <th></th>\n",
       "      <th></th>\n",
       "      <th></th>\n",
       "      <th></th>\n",
       "      <th></th>\n",
       "      <th></th>\n",
       "      <th></th>\n",
       "      <th></th>\n",
       "      <th></th>\n",
       "      <th></th>\n",
       "      <th></th>\n",
       "    </tr>\n",
       "  </thead>\n",
       "  <tbody>\n",
       "    <tr>\n",
       "      <th>Africa</th>\n",
       "      <td>98</td>\n",
       "      <td>98</td>\n",
       "      <td>98</td>\n",
       "      <td>98</td>\n",
       "      <td>10</td>\n",
       "      <td>98</td>\n",
       "      <td>98</td>\n",
       "      <td>98</td>\n",
       "      <td>98</td>\n",
       "      <td>98</td>\n",
       "      <td>98</td>\n",
       "    </tr>\n",
       "    <tr>\n",
       "      <th>Arab States</th>\n",
       "      <td>88</td>\n",
       "      <td>88</td>\n",
       "      <td>88</td>\n",
       "      <td>88</td>\n",
       "      <td>4</td>\n",
       "      <td>88</td>\n",
       "      <td>88</td>\n",
       "      <td>83</td>\n",
       "      <td>88</td>\n",
       "      <td>88</td>\n",
       "      <td>88</td>\n",
       "    </tr>\n",
       "    <tr>\n",
       "      <th>Asia and the Pacific</th>\n",
       "      <td>275</td>\n",
       "      <td>275</td>\n",
       "      <td>275</td>\n",
       "      <td>275</td>\n",
       "      <td>7</td>\n",
       "      <td>275</td>\n",
       "      <td>275</td>\n",
       "      <td>273</td>\n",
       "      <td>275</td>\n",
       "      <td>275</td>\n",
       "      <td>275</td>\n",
       "    </tr>\n",
       "    <tr>\n",
       "      <th>Asia and the Pacific,Europe and North America</th>\n",
       "      <td>2</td>\n",
       "      <td>2</td>\n",
       "      <td>2</td>\n",
       "      <td>2</td>\n",
       "      <td>0</td>\n",
       "      <td>2</td>\n",
       "      <td>2</td>\n",
       "      <td>2</td>\n",
       "      <td>2</td>\n",
       "      <td>2</td>\n",
       "      <td>2</td>\n",
       "    </tr>\n",
       "    <tr>\n",
       "      <th>Asia and the Pacific,Europe and North America,Latin America and the Caribbean</th>\n",
       "      <td>1</td>\n",
       "      <td>1</td>\n",
       "      <td>1</td>\n",
       "      <td>1</td>\n",
       "      <td>0</td>\n",
       "      <td>1</td>\n",
       "      <td>1</td>\n",
       "      <td>1</td>\n",
       "      <td>1</td>\n",
       "      <td>1</td>\n",
       "      <td>1</td>\n",
       "    </tr>\n",
       "    <tr>\n",
       "      <th>Europe</th>\n",
       "      <td>505</td>\n",
       "      <td>505</td>\n",
       "      <td>505</td>\n",
       "      <td>505</td>\n",
       "      <td>11</td>\n",
       "      <td>505</td>\n",
       "      <td>505</td>\n",
       "      <td>492</td>\n",
       "      <td>505</td>\n",
       "      <td>505</td>\n",
       "      <td>505</td>\n",
       "    </tr>\n",
       "    <tr>\n",
       "      <th>Latin America and the Caribbean</th>\n",
       "      <td>146</td>\n",
       "      <td>146</td>\n",
       "      <td>146</td>\n",
       "      <td>146</td>\n",
       "      <td>7</td>\n",
       "      <td>146</td>\n",
       "      <td>146</td>\n",
       "      <td>146</td>\n",
       "      <td>146</td>\n",
       "      <td>146</td>\n",
       "      <td>146</td>\n",
       "    </tr>\n",
       "    <tr>\n",
       "      <th>North America</th>\n",
       "      <td>40</td>\n",
       "      <td>40</td>\n",
       "      <td>40</td>\n",
       "      <td>40</td>\n",
       "      <td>2</td>\n",
       "      <td>40</td>\n",
       "      <td>40</td>\n",
       "      <td>40</td>\n",
       "      <td>40</td>\n",
       "      <td>40</td>\n",
       "      <td>40</td>\n",
       "    </tr>\n",
       "  </tbody>\n",
       "</table>\n",
       "</div>"
      ],
      "text/plain": [
       "                                                    Name  short_description  \\\n",
       "Region                                                                        \n",
       "Africa                                                98                 98   \n",
       "Arab States                                           88                 88   \n",
       "Asia and the Pacific                                 275                275   \n",
       "Asia and the Pacific,Europe and North America          2                  2   \n",
       "Asia and the Pacific,Europe and North America,L...     1                  1   \n",
       "Europe                                               505                505   \n",
       "Latin America and the Caribbean                      146                146   \n",
       "North America                                         40                 40   \n",
       "\n",
       "                                                    date_inscribed  danger  \\\n",
       "Region                                                                       \n",
       "Africa                                                          98      98   \n",
       "Arab States                                                     88      88   \n",
       "Asia and the Pacific                                           275     275   \n",
       "Asia and the Pacific,Europe and North America                    2       2   \n",
       "Asia and the Pacific,Europe and North America,L...               1       1   \n",
       "Europe                                                         505     505   \n",
       "Latin America and the Caribbean                                146     146   \n",
       "North America                                                   40      40   \n",
       "\n",
       "                                                    date_end  longitude  \\\n",
       "Region                                                                    \n",
       "Africa                                                    10         98   \n",
       "Arab States                                                4         88   \n",
       "Asia and the Pacific                                       7        275   \n",
       "Asia and the Pacific,Europe and North America              0          2   \n",
       "Asia and the Pacific,Europe and North America,L...         0          1   \n",
       "Europe                                                    11        505   \n",
       "Latin America and the Caribbean                            7        146   \n",
       "North America                                              2         40   \n",
       "\n",
       "                                                    latitude  area_hectares  \\\n",
       "Region                                                                        \n",
       "Africa                                                    98             98   \n",
       "Arab States                                               88             83   \n",
       "Asia and the Pacific                                     275            273   \n",
       "Asia and the Pacific,Europe and North America              2              2   \n",
       "Asia and the Pacific,Europe and North America,L...         1              1   \n",
       "Europe                                                   505            492   \n",
       "Latin America and the Caribbean                          146            146   \n",
       "North America                                             40             40   \n",
       "\n",
       "                                                    category_long  \\\n",
       "Region                                                              \n",
       "Africa                                                         98   \n",
       "Arab States                                                    88   \n",
       "Asia and the Pacific                                          275   \n",
       "Asia and the Pacific,Europe and North America                   2   \n",
       "Asia and the Pacific,Europe and North America,L...              1   \n",
       "Europe                                                        505   \n",
       "Latin America and the Caribbean                               146   \n",
       "North America                                                  40   \n",
       "\n",
       "                                                    Country name  \\\n",
       "Region                                                             \n",
       "Africa                                                        98   \n",
       "Arab States                                                   88   \n",
       "Asia and the Pacific                                         275   \n",
       "Asia and the Pacific,Europe and North America                  2   \n",
       "Asia and the Pacific,Europe and North America,L...             1   \n",
       "Europe                                                       505   \n",
       "Latin America and the Caribbean                              146   \n",
       "North America                                                 40   \n",
       "\n",
       "                                                    transboundary  \n",
       "Region                                                             \n",
       "Africa                                                         98  \n",
       "Arab States                                                    88  \n",
       "Asia and the Pacific                                          275  \n",
       "Asia and the Pacific,Europe and North America                   2  \n",
       "Asia and the Pacific,Europe and North America,L...              1  \n",
       "Europe                                                        505  \n",
       "Latin America and the Caribbean                               146  \n",
       "North America                                                  40  "
      ]
     },
     "execution_count": 16,
     "metadata": {},
     "output_type": "execute_result"
    }
   ],
   "source": [
    "df.groupby('Region').count()"
   ]
  },
  {
   "cell_type": "markdown",
   "metadata": {},
   "source": [
    "I see 2 sites in a region Asia and the Pacific,Europe and North America\n",
    "How can it be in 3 regions?\n",
    "\n",
    "Uvs Nuur Basin (https://whc.unesco.org/en/list/769/) is between Mongolia and Russia\n",
    "\n",
    "\n",
    "\n",
    "Landscapes of Dauria (https://whc.unesco.org/en/list/1448/) is between Mongolia and Russia as well\n",
    "\n",
    "I will change the region to Asia and the Pacific"
   ]
  },
  {
   "cell_type": "code",
   "execution_count": 18,
   "metadata": {},
   "outputs": [
    {
     "data": {
      "text/html": [
       "<div>\n",
       "<style scoped>\n",
       "    .dataframe tbody tr th:only-of-type {\n",
       "        vertical-align: middle;\n",
       "    }\n",
       "\n",
       "    .dataframe tbody tr th {\n",
       "        vertical-align: top;\n",
       "    }\n",
       "\n",
       "    .dataframe thead th {\n",
       "        text-align: right;\n",
       "    }\n",
       "</style>\n",
       "<table border=\"1\" class=\"dataframe\">\n",
       "  <thead>\n",
       "    <tr style=\"text-align: right;\">\n",
       "      <th></th>\n",
       "      <th>Name</th>\n",
       "      <th>short_description</th>\n",
       "      <th>date_inscribed</th>\n",
       "      <th>danger</th>\n",
       "      <th>date_end</th>\n",
       "      <th>longitude</th>\n",
       "      <th>latitude</th>\n",
       "      <th>area_hectares</th>\n",
       "      <th>category_long</th>\n",
       "      <th>Country name</th>\n",
       "      <th>Region</th>\n",
       "      <th>transboundary</th>\n",
       "    </tr>\n",
       "  </thead>\n",
       "  <tbody>\n",
       "    <tr>\n",
       "      <th>752</th>\n",
       "      <td>Uvs Nuur Basin</td>\n",
       "      <td>&lt;p&gt;The Uvs Nuur Basin (1,068,853 ha), is the n...</td>\n",
       "      <td>2003</td>\n",
       "      <td>0</td>\n",
       "      <td>NaN</td>\n",
       "      <td>92.719722</td>\n",
       "      <td>50.275000</td>\n",
       "      <td>898063.5</td>\n",
       "      <td>Natural</td>\n",
       "      <td>Mongolia,Russian Federation</td>\n",
       "      <td>Asia and the Pacific,Europe and North America</td>\n",
       "      <td>1</td>\n",
       "    </tr>\n",
       "    <tr>\n",
       "      <th>1072</th>\n",
       "      <td>Landscapes of Dauria</td>\n",
       "      <td>&lt;p&gt;Shared between Mongolia and the Russian Fed...</td>\n",
       "      <td>2017</td>\n",
       "      <td>0</td>\n",
       "      <td>NaN</td>\n",
       "      <td>115.425444</td>\n",
       "      <td>49.930222</td>\n",
       "      <td>912624.0</td>\n",
       "      <td>Natural</td>\n",
       "      <td>Mongolia,Russian Federation</td>\n",
       "      <td>Asia and the Pacific,Europe and North America</td>\n",
       "      <td>1</td>\n",
       "    </tr>\n",
       "  </tbody>\n",
       "</table>\n",
       "</div>"
      ],
      "text/plain": [
       "                      Name                                  short_description  \\\n",
       "752         Uvs Nuur Basin  <p>The Uvs Nuur Basin (1,068,853 ha), is the n...   \n",
       "1072  Landscapes of Dauria  <p>Shared between Mongolia and the Russian Fed...   \n",
       "\n",
       "      date_inscribed  danger  date_end   longitude   latitude  area_hectares  \\\n",
       "752             2003       0       NaN   92.719722  50.275000       898063.5   \n",
       "1072            2017       0       NaN  115.425444  49.930222       912624.0   \n",
       "\n",
       "     category_long                 Country name  \\\n",
       "752        Natural  Mongolia,Russian Federation   \n",
       "1072       Natural  Mongolia,Russian Federation   \n",
       "\n",
       "                                             Region  transboundary  \n",
       "752   Asia and the Pacific,Europe and North America              1  \n",
       "1072  Asia and the Pacific,Europe and North America              1  "
      ]
     },
     "execution_count": 18,
     "metadata": {},
     "output_type": "execute_result"
    }
   ],
   "source": [
    "df.loc[df['Region']== 'Asia and the Pacific,Europe and North America']"
   ]
  },
  {
   "cell_type": "code",
   "execution_count": 19,
   "metadata": {},
   "outputs": [],
   "source": [
    "df.loc[(df['Region']=='Asia and the Pacific,Europe and North America') , 'Region'] = 'Asia and the Pacific'"
   ]
  },
  {
   "cell_type": "markdown",
   "metadata": {},
   "source": [
    "I see 1 sites in a region Asia and the Pacific,Europe and North America,Latin America and the Caribbean\n",
    "How can it be in 4 regions?\n",
    "\n",
    "The Architectural Work of Le Corbusier (https://whc.unesco.org/en/list/1321/) is a series of 17 sites across\n",
    "7 countries, however the latitude and longitude are not correct. For simplicity this entry will be deleted\n",
    "\n",
    "\n",
    "\n",
    "\n"
   ]
  },
  {
   "cell_type": "code",
   "execution_count": 20,
   "metadata": {},
   "outputs": [],
   "source": [
    "df=df.drop(df.loc[df['Region']== 'Asia and the Pacific,Europe and North America,Latin America and the Caribbean'].index[0])"
   ]
  },
  {
   "cell_type": "markdown",
   "metadata": {},
   "source": [
    "## Data Visualisation"
   ]
  },
  {
   "cell_type": "markdown",
   "metadata": {},
   "source": [
    "Now we have our dataframe clean, we are ready now to gain some insights."
   ]
  },
  {
   "cell_type": "markdown",
   "metadata": {},
   "source": [
    "First I would like to compare the amount of sites by region."
   ]
  },
  {
   "cell_type": "code",
   "execution_count": 21,
   "metadata": {},
   "outputs": [],
   "source": [
    "df_region = df.groupby('Region').count()\n",
    "df_region.reset_index(inplace=True)\n",
    "\n",
    "\n"
   ]
  },
  {
   "cell_type": "code",
   "execution_count": 53,
   "metadata": {},
   "outputs": [
    {
     "data": {
      "image/png": "[encoded data removed]",
      "text/plain": [
       "<Figure size 432x288 with 1 Axes>"
      ]
     },
     "metadata": {
      "needs_background": "light"
     },
     "output_type": "display_data"
    }
   ],
   "source": [
    "sns.barplot(x='Region', y='Name', data=df_region.sort_values(by='Name',ascending=False), palette='RdBu_r')\n",
    "plt.ylabel(\"Sites\")\n",
    "plt.xticks(rotation=75)\n",
    "plt.show()"
   ]
  },
  {
   "cell_type": "code",
   "execution_count": 23,
   "metadata": {},
   "outputs": [],
   "source": [
    "top20_countries=df.groupby('Country name').count().sort_values(by='Name',ascending=False).head(20)\n",
    "top20_countries.reset_index(inplace=True)"
   ]
  },
  {
   "cell_type": "code",
   "execution_count": 54,
   "metadata": {},
   "outputs": [
    {
     "data": {
      "image/png": "[encoded data removed]",
      "text/plain": [
       "<Figure size 1008x504 with 1 Axes>"
      ]
     },
     "metadata": {
      "needs_background": "light"
     },
     "output_type": "display_data"
    }
   ],
   "source": [
    "plt.figure(figsize=(14,7))\n",
    "ax=sns.barplot(x='Country name', y='Name', data=top20_countries, palette='RdBu_r')\n",
    "plt.ylabel(\"Sites\")\n",
    "plt.xticks(rotation=75)\n",
    "plt.show()"
   ]
  },
  {
   "cell_type": "markdown",
   "metadata": {},
   "source": [
    "We can get the top 5 by region using the query shown below."
   ]
  },
  {
   "cell_type": "code",
   "execution_count": 39,
   "metadata": {},
   "outputs": [
    {
     "data": {
      "text/html": [
       "<div>\n",
       "<style scoped>\n",
       "    .dataframe tbody tr th:only-of-type {\n",
       "        vertical-align: middle;\n",
       "    }\n",
       "\n",
       "    .dataframe tbody tr th {\n",
       "        vertical-align: top;\n",
       "    }\n",
       "\n",
       "    .dataframe thead th {\n",
       "        text-align: right;\n",
       "    }\n",
       "</style>\n",
       "<table border=\"1\" class=\"dataframe\">\n",
       "  <thead>\n",
       "    <tr style=\"text-align: right;\">\n",
       "      <th></th>\n",
       "      <th>Name</th>\n",
       "      <th>short_description</th>\n",
       "      <th>date_inscribed</th>\n",
       "      <th>danger</th>\n",
       "      <th>date_end</th>\n",
       "      <th>longitude</th>\n",
       "      <th>latitude</th>\n",
       "      <th>area_hectares</th>\n",
       "      <th>category_long</th>\n",
       "      <th>Region</th>\n",
       "      <th>transboundary</th>\n",
       "    </tr>\n",
       "    <tr>\n",
       "      <th>Country name</th>\n",
       "      <th></th>\n",
       "      <th></th>\n",
       "      <th></th>\n",
       "      <th></th>\n",
       "      <th></th>\n",
       "      <th></th>\n",
       "      <th></th>\n",
       "      <th></th>\n",
       "      <th></th>\n",
       "      <th></th>\n",
       "      <th></th>\n",
       "    </tr>\n",
       "  </thead>\n",
       "  <tbody>\n",
       "    <tr>\n",
       "      <th>Mexico</th>\n",
       "      <td>35</td>\n",
       "      <td>35</td>\n",
       "      <td>35</td>\n",
       "      <td>35</td>\n",
       "      <td>0</td>\n",
       "      <td>35</td>\n",
       "      <td>35</td>\n",
       "      <td>35</td>\n",
       "      <td>35</td>\n",
       "      <td>35</td>\n",
       "      <td>35</td>\n",
       "    </tr>\n",
       "    <tr>\n",
       "      <th>Brazil</th>\n",
       "      <td>22</td>\n",
       "      <td>22</td>\n",
       "      <td>22</td>\n",
       "      <td>22</td>\n",
       "      <td>1</td>\n",
       "      <td>22</td>\n",
       "      <td>22</td>\n",
       "      <td>22</td>\n",
       "      <td>22</td>\n",
       "      <td>22</td>\n",
       "      <td>22</td>\n",
       "    </tr>\n",
       "    <tr>\n",
       "      <th>Peru</th>\n",
       "      <td>12</td>\n",
       "      <td>12</td>\n",
       "      <td>12</td>\n",
       "      <td>12</td>\n",
       "      <td>0</td>\n",
       "      <td>12</td>\n",
       "      <td>12</td>\n",
       "      <td>12</td>\n",
       "      <td>12</td>\n",
       "      <td>12</td>\n",
       "      <td>12</td>\n",
       "    </tr>\n",
       "    <tr>\n",
       "      <th>Cuba</th>\n",
       "      <td>9</td>\n",
       "      <td>9</td>\n",
       "      <td>9</td>\n",
       "      <td>9</td>\n",
       "      <td>0</td>\n",
       "      <td>9</td>\n",
       "      <td>9</td>\n",
       "      <td>9</td>\n",
       "      <td>9</td>\n",
       "      <td>9</td>\n",
       "      <td>9</td>\n",
       "    </tr>\n",
       "    <tr>\n",
       "      <th>Colombia</th>\n",
       "      <td>8</td>\n",
       "      <td>8</td>\n",
       "      <td>8</td>\n",
       "      <td>8</td>\n",
       "      <td>1</td>\n",
       "      <td>8</td>\n",
       "      <td>8</td>\n",
       "      <td>8</td>\n",
       "      <td>8</td>\n",
       "      <td>8</td>\n",
       "      <td>8</td>\n",
       "    </tr>\n",
       "  </tbody>\n",
       "</table>\n",
       "</div>"
      ],
      "text/plain": [
       "              Name  short_description  date_inscribed  danger  date_end  \\\n",
       "Country name                                                              \n",
       "Mexico          35                 35              35      35         0   \n",
       "Brazil          22                 22              22      22         1   \n",
       "Peru            12                 12              12      12         0   \n",
       "Cuba             9                  9               9       9         0   \n",
       "Colombia         8                  8               8       8         1   \n",
       "\n",
       "              longitude  latitude  area_hectares  category_long  Region  \\\n",
       "Country name                                                              \n",
       "Mexico               35        35             35             35      35   \n",
       "Brazil               22        22             22             22      22   \n",
       "Peru                 12        12             12             12      12   \n",
       "Cuba                  9         9              9              9       9   \n",
       "Colombia              8         8              8              8       8   \n",
       "\n",
       "              transboundary  \n",
       "Country name                 \n",
       "Mexico                   35  \n",
       "Brazil                   22  \n",
       "Peru                     12  \n",
       "Cuba                      9  \n",
       "Colombia                  8  "
      ]
     },
     "execution_count": 39,
     "metadata": {},
     "output_type": "execute_result"
    }
   ],
   "source": [
    "df[df['Region']=='Latin America and the Caribbean'].groupby('Country name').count().sort_values(by='Name',ascending=False).head()"
   ]
  },
  {
   "cell_type": "markdown",
   "metadata": {},
   "source": [
    "The fastest way of getting the top 5 of every region is populating a list with these top 5's created through a for loop."
   ]
  },
  {
   "cell_type": "code",
   "execution_count": 30,
   "metadata": {},
   "outputs": [],
   "source": [
    "regions_top5_list=[]\n",
    "for region in df['Region'].unique():\n",
    "    top5_df=df[df['Region']==region].groupby('Country name').count().sort_values(by='Name',ascending=False).head()\n",
    "    top5_df.reset_index(inplace=True)\n",
    "    regions_top5_list.append(top5_df)\n",
    "    "
   ]
  },
  {
   "cell_type": "markdown",
   "metadata": {},
   "source": [
    "Time to plot every region Top 5."
   ]
  },
  {
   "cell_type": "code",
   "execution_count": 72,
   "metadata": {},
   "outputs": [
    {
     "data": {
      "image/png": "[encoded data removed]",
      "text/plain": [
       "<Figure size 720x576 with 6 Axes>"
      ]
     },
     "metadata": {
      "needs_background": "light"
     },
     "output_type": "display_data"
    }
   ],
   "source": [
    "fig, axes = plt.subplots(2, 3, figsize=(10,8), sharey=True)\n",
    "fig.tight_layout(pad=6.0)\n",
    "\n",
    "\n",
    "sns.barplot(data=regions_top5_list[0], x='Country name', y='Name',ax=axes[0,0], palette='RdBu_r')\n",
    "sns.barplot(data=regions_top5_list[1], x='Country name', y='Name', ax=axes[0,1], palette='RdBu_r')\n",
    "sns.barplot(data=regions_top5_list[2], x='Country name', y='Name', ax=axes[0,2], palette='RdBu_r')\n",
    "sns.barplot(data=regions_top5_list[3], x='Country name', y='Name',ax=axes[1,0], palette='RdBu_r')\n",
    "sns.barplot(data=regions_top5_list[4], x='Country name', y='Name', ax=axes[1,1], palette='RdBu_r')\n",
    "sns.barplot(data=regions_top5_list[5], x='Country name', y='Name', ax=axes[1,2], palette='RdBu_r')\n",
    "\n",
    "axes[0,0].set(ylabel=\"Sites\")\n",
    "axes[0,1].set(ylabel=\"\")\n",
    "axes[0,2].set(ylabel=\"\")\n",
    "axes[1,0].set(ylabel=\"Sites\")\n",
    "axes[1,1].set(ylabel=\"\")\n",
    "axes[1,2].set(ylabel=\"\")\n",
    "  \n",
    "axes[0,0].tick_params('x', labelrotation=75)\n",
    "axes[0,1].tick_params('x', labelrotation=75)\n",
    "axes[0,2].tick_params('x', labelrotation=75)\n",
    "axes[1,0].tick_params('x', labelrotation=75)\n",
    "axes[1,1].tick_params('x', labelrotation=75)\n",
    "axes[1,2].tick_params('x', labelrotation=75)"
   ]
  },
  {
   "cell_type": "markdown",
   "metadata": {},
   "source": [
    "We will use the Plotly library to plot every heritage site on the map."
   ]
  },
  {
   "cell_type": "code",
   "execution_count": 44,
   "metadata": {},
   "outputs": [
    {
     "data": {
      "application/vnd.plotly.v1+json": {
       "config": {
        "plotlyServerURL": "https://plot.ly"
       },
       "data": [
        {
         "hovertemplate": "category_long=Cultural<br>latitude=%{lat}<br>longitude=%{lon}<extra></extra>",
         "lat": [
          51.46666667,
          -0.22,
          12.02935,
          50.77444444,
          50.06138889,
          49.97916667,
          14.66722,
          37.26166667,
          42.65,
          43.3,
          42.61666667,
          43.71666667,
          42.64142111,
          43.509440000000005,
          29.97604,
          25.73333,
          22.33722222,
          30.05,
          30.83583333,
          12.607909,
          48.63556,
          48.4475,
          48.805,
          47.46638889,
          45.0575,
          5.391030000000001,
          14.556504,
          32.00857,
          29.934440000000002,
          32.65745,
          45.95705556,
          42.48333,
          27.70395,
          61.3,
          60.39722,
          50.03888889,
          43.11889,
          33.511390000000006,
          36.81667,
          36.852779999999996,
          35.29639,
          39.94861111,
          35.81844,
          -20.38888889,
          34.75833,
          11.100060000000001,
          8.43491,
          14.130189999999999,
          4.8,
          6.4011111110000005,
          14.85,
          45.46588889,
          35.871340000000004,
          35.90056,
          36.04908,
          62.57388889,
          27.32916667,
          33.77916667,
          34.32083333,
          9.553888889,
          52.26639,
          32.51806,
          34.55417,
          41.89022222,
          52.095,
          49.70840556,
          48.40194444,
          49.895,
          44.13572222,
          43.67763889,
          47.63944,
          49.31666667,
          49.79278,
          15.270589999999999,
          31.78333333,
          34.06111,
          24.76666667,
          31.59027778,
          -8.95778,
          32.48333,
          36.32056,
          36.55,
          35.48416667,
          -8.013333333,
          23.13333333,
          46.9375,
          19.573025,
          43.77306,
          32.638329999999996,
          32.805279999999996,
          32.825,
          8.333333332999999,
          7.915833332999999,
          7.95,
          38.65861111,
          15.92694,
          42.11666667,
          42.65611,
          48.69361111,
          46.56472,
          47.68127778,
          20.553110999999998,
          20.02639,
          27.179806,
          27.17417,
          -13.517276,
          38.655,
          38.69194,
          39.657779999999995,
          39.60472,
          46.94806,
          47.42333,
          46.62945,
          18.46666667,
          -28.54333333,
          10.41666667,
          50.82502778,
          41.902159999999995,
          19.8875,
          12.61667,
          33.72583,
          34.00707,
          34.119170000000004,
          33.27194,
          37.87919444,
          37.17667,
          42.34073333,
          40.58175,
          41.41338,
          40.68944444,
          22.66667,
          25.03333333,
          7.183333332999999,
          -12.972917,
          -20.508201,
          43.66667,
          46.80944444,
          34.92027778,
          43.94722222,
          52.15278,
          35.58806,
          30.33056,
          31.80180556,
          24.83333,
          31.631390000000003,
          69.95,
          -9.592772543999999,
          43.38252778,
          40.94847222,
          43.36262,
          42.880759999999995,
          40.65645,
          36.94639,
          41.00847,
          39.371271,
          49.75,
          37.434979999999996,
          15.502220000000001,
          24.852220000000003,
          15.31444,
          27.097528000000004,
          30.13333333,
          -8.107836,
          38.57306,
          43.48611,
          40.34389,
          39.86688889,
          39.47444,
          36.19916667,
          40.01389,
          54.77472222,
          52.62638889,
          54.11611111,
          51.17888889,
          53.13972222,
          15.35555556,
          -20.28333333,
          -20.15833333,
          -19.599111999999998,
          -15.78333,
          40.41667,
          41.79416667,
          40.13333,
          34.381311,
          39.689448999999996,
          53.86666999999999,
          38.48149,
          37.97087,
          47.48242,
          47.994440000000004,
          15.948329999999999,
          18.96667,
          10.78305556,
          45.43430556,
          43.72305556,
          17.48333,
          19.418329999999997,
          19.691670000000002,
          17.061579000000002,
          19.045967,
          31.047220000000003,
          22.964170000000003,
          37.38384,
          38.036609999999996,
          51.84194444,
          51.49972222,
          51.38138889,
          36.06377778,
          38.03277778,
          54.99261111,
          21.80305556,
          48.58444444,
          40.638329999999996,
          37.66666667,
          36.44722,
          13.90639,
          16.77333333,
          21.016939999999998,
          20.682739,
          23.26986,
          -12.046542,
          40.96525,
          7.293611111000001,
          6.0280510000000005,
          35.82778,
          35.681670000000004,
          36.335,
          51.50805556,
          51.28,
          37.08056,
          37.65,
          23.47944,
          39.55,
          -16,
          18.472394,
          52.4,
          37.4,
          38.4,
          43.468059999999994,
          59.95,
          62.07138889,
          55.745830000000005,
          50.45258,
          41.378088,
          -19.04799,
          -8.718634,
          61.12806,
          60.14722,
          48.85833333,
          49.25333333,
          49.653690000000005,
          -7.60778,
          -7.7522199999999994,
          19.700927,
          -15.034170000000001,
          41.380829999999996,
          7.856666667000001,
          59.32306,
          17.00722,
          14.347779999999998,
          39.745732000000004,
          36.78333,
          13.43333333,
          50.08972,
          48.81666667,
          49.18333,
          47.08222222,
          51.82,
          37.69083,
          20.446095,
          50.71667,
          58.53333000000001,
          65.08333333,
          56.15,
          17.407772,
          36.43889,
          13.8275,
          49.00083,
          49.89166667,
          28.593329999999998,
          28.52583,
          53.691669999999995,
          40.66638889,
          34.61666667,
          34.83333333,
          22.775484,
          27.626963,
          -27.131613,
          14.59,
          46.13583333,
          45.18333333,
          47.77833333,
          56.31035,
          48.46111,
          48.99944444,
          49.03916667,
          38.916109999999996,
          39.45285,
          43.335,
          59.33514,
          59.96666999999999,
          39.77472,
          11.409794,
          16.46944,
          14.19533333,
          40.986940000000004,
          35.613215000000004,
          32.46667,
          29.65792,
          49.5802,
          55.75638889,
          62.25,
          41.84389,
          42.29472222,
          51.78333,
          49.244440000000004,
          45.54916667,
          34.98055556,
          54.68666999999999,
          49.61,
          18.93472222,
          -14.725829999999998,
          55.655559999999994,
          58.70111,
          59.27556,
          41.26,
          44.37611111,
          -27.074403000000004,
          9.240492,
          2.583333333,
          1.9166666669999999,
          49.95,
          55.64222222,
          43.95277778,
          43.31861111,
          40.85138889,
          45.59333,
          44.83777778,
          36.4,
          19.88889,
          52.63861111,
          16.933889999999998,
          38.78333,
          35.791498,
          35.801671999999996,
          37.57472222,
          57.64167,
          55.95,
          -34.47119,
          41.095,
          47.80055556,
          48.18666667,
          29.43333333,
          48.77583,
          61.06194,
          43.61138889,
          42.91639,
          50.94111111,
          50.97477778,
          51.86472,
          40.47139,
          47.558890000000005,
          -7.4,
          51.77194,
          41.08480556,
          40.7825,
          44.42041667,
          43.07694444,
          34.395556,
          34.29441667,
          20.92889,
          20.36166667,
          20.593292,
          33.88333,
          52.555,
          41.14166667,
          40.07662,
          39.47441667,
          65.64611,
          47.55944444,
          -2.5300540000000002,
          26.866670000000003,
          37.20139,
          31.31666667,
          45.22917,
          43.5125,
          19.968446,
          59.433330000000005,
          43.21055556,
          41.07333,
          45.07253,
          45.39911111,
          44.10694,
          44.64624,
          40.75,
          40.63333333,
          37.28972222,
          37.36611,
          39.70583333,
          56.95417,
          20.676888,
          34.073890000000006,
          35.57083,
          27.468890000000002,
          51.8825,
          12.101939999999999,
          32.9625,
          8.951111111,
          53.01,
          54.04166667,
          37.57888889,
          37.272220000000004,
          42.469390000000004,
          41.38778,
          42.32586,
          36.42361,
          51.48116667,
          47.64877778,
          51.03097222,
          50.48111,
          50.84668,
          -18.178323000000002,
          39.91055556,
          39.84555556,
          34.79833,
          49.3,
          48.95972222,
          45.18405556,
          45.76722,
          50.9775,
          45.76833333,
          43.725,
          40.28333333,
          34.67555556,
          34.24333,
          30.367128000000005,
          18.613459,
          52.84583000000001,
          39.78995,
          40.48138889,
          56.166669999999996,
          39.95644,
          49.84163,
          40.6975,
          -47.15,
          47.07416667,
          -18.244776,
          29.701109999999996,
          22.616670000000003,
          49.87361,
          -2.897447,
          61.12056,
          44.89472222,
          52.51972222,
          50.96677778,
          37.73333333,
          37.3,
          47.59458,
          11.51028,
          41.94416667,
          36.7475,
          19.84639,
          18.803972,
          52.54888889,
          10.74056,
          17.575,
          49.86666667,
          46.21777778,
          47.82083333,
          45.62305556,
          17.34694,
          -24.15861,
          -33.8,
          28.47788889,
          37.700829999999996,
          58.99605556,
          15.88333333,
          15.773843,
          50.174440000000004,
          -31.42056,
          40.15889,
          40.15931,
          48.36444444,
          40.36666667,
          53.45108333,
          51.208909999999996,
          50.82806,
          50.43077,
          50.60603,
          -16.555003,
          -42.5,
          31.00167,
          29.90444444,
          34.46666667,
          41.70722222,
          43.736290000000004,
          20.03,
          49.59393611,
          56.03889,
          47.39889,
          51.8425,
          47.69872222,
          46.07444,
          45.43861111,
          43.06616667,
          26.20861111,
          52.08533333,
          12.40047,
          18.25333,
          -16.398353,
          35.78889,
          34.96667,
          55.79111111,
          59.95,
          16.02778,
          49.29277778,
          41.11472222,
          38.26666667,
          43.011109999999995,
          42.50472222,
          42.37138889,
          56.325,
          46.19314,
          32.37944444,
          51.77638889,
          -6.16306,
          39.05,
          10.490730000000001,
          55.27458000000001,
          48.21666667,
          -18.75,
          -15.934231,
          40.10972,
          49.20718333,
          48.55972222,
          51.49138889,
          31.3135,
          32.92833333,
          41.96391667,
          -2.284444444,
          14.84833333,
          -18.75917,
          31.51411111,
          51.05427778,
          41.443731,
          41.10166667,
          40.03645,
          60.60471999999999,
          0.34861111100000003,
          55.66333333,
          53.83916667,
          53.02888889,
          39.66861,
          47.71927778,
          36.39655556,
          28.55623,
          50.17361111,
          54.3025,
          48.15,
          24.69528,
          36.89319444,
          5.82611,
          34.846940000000004,
          -23.19986111,
          -33.04063889,
          49.21722222,
          13.31616667,
          22.92777778,
          36.60388889,
          35.45666667,
          32.06666667,
          45.97455556,
          43.29769444,
          21.20438889,
          49.75,
          42.05583333,
          -22.1925,
          38.011309999999995,
          18.537,
          51.48194444,
          -20.5,
          42.49472222,
          -37.80611111,
          41.15694444,
          38.86305556,
          53.07597222,
          64.25380556,
          18.94012222,
          22.48333333,
          30.19383,
          29.11683,
          43.06666667,
          42.00683333,
          33.83694444,
          31.50167,
          43.80333333,
          54.88777778,
          16.2898,
          19.41119788,
          47.479214,
          33.25667,
          65.61667,
          38.51344444,
          55.72611111,
          42.66111111,
          57.1,
          10.06666667,
          53.40666667,
          51.57930556,
          40.07416667,
          26.23306,
          53.22278000000001,
          51.21833,
          43.33730556,
          -20.205820000000003,
          22.19129194,
          22.145887,
          49.492779999999996,
          36.43528,
          30.541109999999996,
          32.59722,
          37.05944,
          7.755560000000001,
          57.65278000000001,
          42.18318,
          59.05777778,
          -34.08444444,
          36.12666667,
          9.308888889,
          49.02055556,
          34.38833333,
          44.41222222,
          -14.29333333,
          -20.15863889,
          20.86305556,
          22.99888889,
          51.10694722,
          43.323175,
          34.78166667,
          50.13611111,
          -4.7244444439999995,
          13.69111111,
          -33.85666667,
          40.125,
          43.78144444,
          44.99438611,
          22.28551944,
          44.83888889,
          39.62394139,
          28.65555556,
          34.34098944,
          35.11277778,
          19.33222222,
          -20.59558333,
          43.89930556,
          -28.6,
          46.49194444,
          37.99972222,
          14.38833333,
          25.02305556,
          43.18166667,
          21.37861111,
          47.23611111,
          52.44833333,
          38.97888889,
          32.82939667,
          45.15944444,
          -3.931944444,
          5.421388889,
          -20.45194444,
          20.91444444,
          -5.783711111000001,
          43.93277778,
          26.78361111,
          49.33611111,
          -17.62806944,
          46.49833333,
          50.835,
          10.25,
          14.91513889,
          39.03055556,
          32.01861111,
          40.53111111,
          -10.89166667,
          37.19722222,
          43.38583333,
          47.10388889,
          52.97027778,
          -33.37833333,
          -11.01365544,
          34.45874722,
          43.92833333,
          26.92472222,
          38.24861111,
          38.08138889,
          11.6,
          22.60805556,
          16.95083333,
          52.365,
          36.53916667,
          24.73413333,
          39.50788889,
          21.03752,
          13.09666667,
          30.2375,
          4.889476,
          5.3,
          44.22027778,
          51.98388889,
          30.16666667,
          46.09416667,
          39.00111111,
          -4.062777778,
          49.33388889,
          12.435,
          13.83527778,
          39.73083333,
          16.93333333,
          36.33416667,
          41.67777778,
          48.29666667,
          24.06777778,
          20.07805556,
          47.27833333,
          26.24128,
          50.43527778,
          -22.94777778,
          45.11833333,
          42.358000000000004,
          5.195833333,
          50.4625,
          49.94444444,
          -8.259166667,
          32.66972222,
          37.25802778,
          32.67,
          5.067908333,
          34.02416667,
          31.70435278,
          38.88061944,
          12.59333333,
          61.70722222,
          37.66666667,
          38.77527778,
          51.726925,
          23.09327778,
          37.98166667,
          -17.68337778,
          51.31583333,
          24.88333333,
          35.68036667,
          43.85777778,
          35.36083333,
          16.97361111,
          40.20781111,
          25.97805556,
          44.61083333,
          49.53388889,
          34.69388889,
          8.938452999999999,
          44.3875,
          51.77827778,
          23.85888889,
          30.59388889,
          36.19111111,
          31.6,
          44.60861111,
          36.25527778,
          22.47,
          51.92333333,
          31.71972222,
          37.47888889,
          54.97888889,
          21.48388889,
          40.18473056,
          39.12583333,
          32.63694444,
          -18.25,
          34.30444444,
          28.99861111,
          55.35555556,
          55.91361111,
          47.05805556,
          49.0775,
          53.54555556,
          30.16805556,
          32.18944444,
          32.70222222,
          38.11083333,
          34.43055556,
          31.83722222,
          19.83527778,
          48.76197778,
          59.87861111,
          36.46194444,
          28.01055556,
          1.315277778,
          37.92916667,
          37.9031,
          56.00111111,
          29.32805556,
          -33.11777778,
          17.00694444,
          -19.85194444,
          22.25555556,
          41.01472222,
          25.13666667,
          34.29,
          6.839722222000001,
          37.025,
          40.5,
          36.12266944,
          43.09221389,
          -6.268888888999999,
          -22.89711111,
          12.8725,
          24.4475,
          61.16444444,
          15.33527778,
          -16.8414,
          48.38777778,
          23.02638889,
          31.90138889,
          34.245,
          31.52416667,
          50.44269722,
          55.77027778,
          -25.68761111,
          37.70833333,
          54.47661111,
          45.70333333,
          67.06393056,
          51.15480556,
          54.46194444,
          18.92980556,
          29.77748056,
          45.4575,
          32.80222222,
          -0.8913380559999999,
          22.69522222,
          36.54194444,
          25.40216667,
          37.88588889,
          37.22324194,
          -38.08111111,
          41.20333333,
          26.14972222,
          12.58775833,
          49.075,
          30.39555556,
          50.05665,
          48.36547222,
          26.92427778,
          -0.7666255559999999,
          32.54196944,
          45.95302778,
          34.56222222,
          19.43105556,
          21.14888889,
          50.96797222,
          38.93716667,
          41.55494444,
          36.72729722,
          57.80719444,
          28.04438889,
          53.23391667,
          39.90557083,
          50.40652778,
          -23.02237778,
          -18.48196111,
          24.71027778,
          10.49031667,
          45.58630556,
          43.70169444,
          49.87638889,
          49.31621111,
          18.25913333,
          23.88840833,
          35.65830556,
          35.10735833,
          45.41188889,
          44.49138889,
          41.06555556,
          32.04261111,
          -9.556861111,
          46.30611111,
          61.7299,
          18.31671111,
          46.04333333,
          40.41533333,
          38.38208333,
          53.12083333,
          -34.74391944,
          50.49222222,
          48.11519444,
          53.04222222,
          52.18033333
         ],
         "legendgroup": "Cultural",
         "lon": [
          -55.61666667,
          -78.51208333,
          39.040420000000005,
          6.084444444,
          19.93722222,
          20.06388889,
          -17.40083,
          -108.48555559999998,
          23.26666667,
          27.15,
          25.4,
          25.96666667,
          18.10886111,
          16.44333,
          31.130409999999998,
          32.6,
          31.62580556,
          31.26111,
          29.66666667,
          37.4697,
          -1.5105600000000001,
          1.487222222,
          2.119444444,
          3.748333333,
          1.17,
          -0.49361000000000005,
          -90.73380999999999,
          48.522118,
          52.890280000000004,
          51.67777778,
          10.29733333,
          18.7,
          85.30858,
          7.33333,
          5.32306,
          19.175,
          20.42278,
          36.30639,
          10.16667,
          10.32333,
          10.70694,
          -75.15,
          4.78684,
          -43.50555556,
          32.405559999999994,
          40.579390000000004,
          38.6121,
          38.71861,
          35.96666667,
          -1.625833333,
          -89.13333,
          9.1705,
          14.50739,
          14.514439999999999,
          14.269470000000002,
          11.38555556,
          68.13888889,
          72.8875,
          71.94583333,
          -79.65583333,
          21.011670000000002,
          36.48167,
          38.26667,
          12.49230556,
          -131.2202778,
          -113.65205279999999,
          2.6980555560000004,
          2.3016666669999997,
          4.8084166669999995,
          4.6306944439999995,
          4.38911,
          8.443055556000001,
          9.938889999999999,
          -89.04025,
          35.21666667,
          -4.97778,
          67.9,
          74.30972222,
          39.52278,
          3.68333,
          5.736669999999999,
          2.383333333,
          6.468861111,
          -34.845,
          -82.35,
          5.876388888999999,
          -72.234268,
          11.256110000000001,
          14.29306,
          12.485,
          21.85833,
          80.38333333,
          81.00055556,
          80.75,
          -90.06138889,
          48.626670000000004,
          23.4,
          27.73,
          6.183333332999999,
          0.86611,
          10.90013889,
          75.70025,
          75.17917,
          78.021528,
          78.04222,
          -71.98000400000001,
          -27.22,
          -9.21583,
          -8.826939999999999,
          -8.4175,
          7.45028,
          9.37778,
          10.44765,
          -66.125,
          -54.26583333,
          -75.53333333,
          6.909777778,
          12.457360000000001,
          86.09472,
          80.19167,
          35.92972,
          36.20494,
          35.6475,
          35.19444,
          -4.779722222,
          -3.59444,
          -3.7040111110000002,
          -4.126416667,
          2.152972,
          -74.04472222,
          89.8,
          88.98333333,
          1.983333333,
          -38.512980999999996,
          -43.860806,
          26.66667,
          -71.21055556,
          33.09583333,
          4.535277778,
          9.94389,
          42.71833,
          35.443329999999996,
          36.58730556,
          10.33333,
          -7.986669999999999,
          23.183329999999998,
          -77.1784535,
          -4.116166667,
          -4.11675,
          -5.843030000000001,
          -8.54468,
          -4.70012,
          11.099169999999999,
          28.97993,
          38.121826,
          6.6333333329999995,
          21.89694,
          73.91167,
          79.92222,
          76.47166999999999,
          77.6665,
          9.5,
          -79.074737,
          -7.907780000000001,
          20.53667,
          -1.10722,
          -4.029416667,
          -6.37,
          37.16277778,
          34.62056,
          -1.576111111,
          -2.472777778,
          -1.573055556,
          -1.825277778,
          -4.276944444,
          44.20805556,
          30.93333333,
          28.37666667,
          -65.749813,
          -47.9,
          116.08333,
          123.4469444,
          94.81667,
          109.259951,
          115.922702,
          10.69167,
          22.496170000000003,
          23.72618,
          19.07067,
          19.52917,
          75.81667,
          72.93583000000001,
          79.1325,
          12.33894444,
          10.39638889,
          -92.05,
          -99.13278000000001,
          -98.84167,
          -96.72588499999999,
          -98.197769,
          -7.128889999999999,
          57.301109999999994,
          -5.99155,
          38.763690000000004,
          -1.361388889,
          -0.128611111,
          -2.358611111,
          -107.97083329999998,
          -78.50388889,
          -2.6010000000000004,
          -79.98444444,
          7.748888889,
          22.965,
          23.11666667,
          28.22778,
          -4.555,
          -2.999444444,
          -101.25556,
          -88.56865400000001,
          56.745,
          -77.0304,
          -5.6645,
          80.64027778,
          80.216346,
          10.63861,
          10.10389,
          29.32028,
          -0.076111111,
          1.083333333,
          22.366670000000003,
          21.66666667,
          77.73971999999999,
          -8.97667,
          -60.5,
          -69.885841,
          13.03333333,
          25.26667,
          22.75,
          11.04167,
          30.31833,
          35.2275,
          37.62972,
          30.516859999999998,
          60.360253,
          -65.259592,
          -42.652436,
          21.511670000000002,
          24.98722,
          2.294166667,
          4.032777778,
          8.56858,
          110.20361000000001,
          110.49167,
          -101.190376,
          40.73583,
          1.0825,
          80.64916667,
          17.883329999999997,
          99.78971999999999,
          100.56056,
          20.02095,
          3.06028,
          103.83333329999999,
          14.41944,
          14.31666667,
          15.45,
          2.398333333,
          10.34,
          26.94333,
          -97.37764200000001,
          23.26667,
          31.28333,
          35.66666667,
          40.41666667,
          103.237589,
          -105.54167,
          -89.36916667,
          8.81306,
          10.88888889,
          77.25056,
          77.18528,
          -6.45,
          16.61027778,
          135.7333333,
          134.7,
          -102.573531,
          -113.020427,
          -55.702672,
          120.97,
          24.77305556,
          24.01666667,
          25.71277778,
          38.1312,
          18.9,
          20.7675,
          19.27833333,
          -6.33778,
          -5.3275,
          -6.414722222000001,
          17.54264,
          16.008329999999997,
          64.42860999999999,
          -69.67922800000001,
          107.57778,
          43.31552778,
          117.93833000000001,
          116.994561,
          111,
          91.11717,
          15.94205833,
          9.42,
          25.183329999999998,
          44.716390000000004,
          42.76833333,
          11.15,
          6.85,
          11.54944444,
          135.76944440000003,
          25.29306,
          6.13333,
          -98.89777778,
          -75.14860999999999,
          37.67389,
          11.34111,
          18.099439999999998,
          32.68972,
          -64.30916667,
          -109.365683,
          -74.423084,
          -76.03333333,
          -76.23333333,
          15.26666667,
          12.07972222,
          4.806111111,
          11.33166667,
          14.26277778,
          9.53833,
          11.61944444,
          136.8833333,
          102.13333,
          5.771666667000001,
          121.13667,
          -9.41667,
          129.349029,
          128.098711,
          126.99361110000001,
          18.29583,
          -3.2166666669999997,
          -57.849897999999996,
          44.71028,
          13.04333333,
          16.31333333,
          115.86666670000001,
          16.775,
          26.640829999999998,
          1.416388889,
          43.011390000000006,
          6.957222222,
          11.3295,
          12.65278,
          22.31833,
          17.78444,
          110.81666670000001,
          -10.53861,
          16.27094444,
          17.23694,
          12.19625,
          11.67861111,
          132.45361100000002,
          132.3246389,
          -11.623610000000001,
          -89.77027778,
          -100.392135,
          -5.558330000000001,
          4.791388888999999,
          -8.616666667,
          -2.13174,
          -0.378444444,
          22.02861,
          13.64638889,
          -44.303369,
          100.23333000000001,
          112.15444,
          120.45,
          13.594439999999999,
          16.25167,
          -75.870441,
          24.73333333,
          2.358888889,
          14.32639,
          7.68572,
          11.88066667,
          9.72917,
          10.92568,
          14.48333333,
          14.60277778,
          13.59333333,
          14.33417,
          8.991388889,
          24.116670000000003,
          -103.33779799999999,
          -5.55694,
          -5.36667,
          83.27611,
          4.649444443999999,
          -68.90222,
          73.58888889,
          -79.54055556,
          18.61944,
          19.03333333,
          126.9911111,
          127.00833,
          -6.77075,
          2.175,
          -2.86496,
          9.22028,
          -0.003777778,
          15.82797222,
          4.47375,
          4.13722,
          4.3524199999999995,
          -63.820485,
          116.1411111,
          116.4447222,
          33.34333,
          17.37722222,
          14.25277778,
          0.722944444,
          4.83333,
          11.328610000000001,
          13.3675,
          12.63333,
          15.26666667,
          135.83944440000002,
          36.04889,
          -107.948122,
          -95.658676,
          5.67889,
          -1.03331,
          -3.3680555560000003,
          15.583329999999998,
          26.239,
          24.031979999999997,
          -6.661111111,
          -70.66666667,
          15.39166667,
          -43.59768,
          105.705,
          -83.71667,
          16.31444,
          -79.00438199999999,
          21.7775,
          -0.155277778,
          13.39861111,
          10.307,
          22.75,
          26.55,
          21.156779999999998,
          76.93583000000001,
          12.77197222,
          139.6105556,
          -90.53721999999999,
          -99.29639,
          4.911111111,
          13.57194,
          120.3875,
          19.66666667,
          24.79222222,
          24.05583333,
          23.31194444,
          -62.837219999999995,
          29.176940000000002,
          18.36666667,
          -16.31177778,
          62.1775,
          -3.1886666669999997,
          108.33333329999999,
          108.109169,
          3.23139,
          -64.19111,
          44.79667,
          44.29514,
          15.43416667,
          49.83333333,
          26.47272222,
          3.22527,
          4.36223,
          3.97879,
          3.3892599999999997,
          -68.673278,
          -73.76666667,
          103.60528000000001,
          117.9875,
          112.46666670000002,
          124.7938889,
          15.890379999999999,
          -75.39138889,
          17.25045833,
          12.62083333,
          0.7027800000000001,
          12.42083,
          9.061305556,
          18.22778,
          10.99388889,
          12.62244444,
          127.6827778,
          5.147555556,
          -86.616336,
          53.64759,
          -71.536777,
          129.22666999999998,
          126.92917,
          49.095,
          38.56666667,
          -16.50444,
          21.27555556,
          1.259305556,
          -0.716666667,
          -7.55333,
          0.8036111109999999,
          -3.547222222,
          16.48333,
          9.02242,
          -64.67777778,
          -3.088055556,
          39.189170000000004,
          66.83333,
          -66.89068,
          20.96239,
          16.38333333,
          21.73333333,
          -50.140164,
          113.12222,
          16.61605556,
          3.2988888889999997,
          7.046111111,
          35.35275,
          35.08388889,
          12.79625,
          40.8525,
          105.82222220000001,
          47.56278,
          -9.770305556,
          16.19594444,
          -8.292803,
          -7.798888889,
          -3.60934,
          15.63083,
          32.55138889,
          -3.7830555560000003,
          -1.7883333330000002,
          -1.488055556,
          67,
          16.72272222,
          64.51605556,
          33.975429999999996,
          7.694166667,
          13.08527778,
          21.35,
          84.99389000000001,
          15.06891667,
          -55.15,
          67.82525,
          -65.34886111,
          -71.628,
          15.87888889,
          -16.35719444,
          77.58333333,
          47.235,
          43.26111111,
          34.78333333,
          9.169555556,
          68.27105556,
          -99.46411111,
          21.23333333,
          48.28277778,
          29.23889,
          -3.3712199999999997,
          31.82802778,
          -0.294027778,
          28.5,
          1.5955555559999999,
          144.97027780000002,
          126.18722220000001,
          125.415,
          8.807472222000001,
          -21.03725,
          72.83620278,
          73.53333333,
          53.16729,
          58.36666667,
          11.55,
          12.10188889,
          135.7763889,
          35.920559999999995,
          75.535,
          24.83055556,
          -0.04456,
          -99.19235334,
          102.67848199999999,
          -8.50194,
          11.75,
          -28.54116667,
          37.55508333,
          20.26555556,
          12.38333333,
          1.133333333,
          -2.994444444,
          14.72644444,
          20.14083333,
          50.52722222,
          26.691390000000002,
          4.39778,
          17.815,
          -69.79406,
          113.5364611,
          -80.45218299999999,
          0.1075,
          48.79667,
          35.16083,
          35.18222,
          15.29306,
          4.552219999999999,
          39.87611,
          59.08494,
          26.33777778,
          -70.38277778,
          114.3138889,
          42.13777778,
          12.09916667,
          47.43666667,
          8.931111111,
          34.27916667,
          57.50316667,
          -103.77861109999999,
          57.53605556,
          17.07701389,
          -3.016833333,
          36.26305556,
          -5.3836111110000004,
          35.83388889,
          -15.5225,
          151.21527780000002,
          49.375,
          19.288025,
          -75.765125,
          112.5658611,
          -0.5722222220000001,
          19.9275,
          77.24083333,
          43.82354306,
          132.435,
          -99.18805556,
          14.37258333,
          22.18611111,
          17.20388889,
          6.746111111,
          58.19861111,
          104.68388890000001,
          117.68583329999998,
          16.63861111,
          -77.91861111,
          6.026944444,
          13.45,
          45.47333333,
          34.97164889,
          10.79444444,
          39.59611111,
          100.3458333,
          57.32833333,
          -100.74638890000001,
          144.33172219999997,
          12.45194444,
          37.955,
          19.55833333,
          168.1777194,
          9.846388889,
          4.416111111,
          -3.583333333,
          -23.60519444,
          113.56333329999998,
          48.83583333,
          72.78277778,
          -77.52138889,
          128.4527778,
          -8.406388889,
          6.832777778,
          -3.087777778,
          150.99444440000002,
          -37.20537476,
          113.06771940000002,
          2.1425,
          75.825,
          48.29138889,
          46.29305556,
          165.38055559999998,
          -102.3791667,
          -96.42111111,
          4.887777778,
          128.5166667,
          46.57246667,
          67.45872222,
          105.838623,
          -59.61388889,
          120.14083329999998,
          -75.77308199999999,
          37.4,
          3.4730555560000003,
          9.812222222,
          53.16666667,
          13.43305556,
          141.1077778,
          39.67944444,
          88.39527778,
          -86.87805556,
          -16.49861111,
          2.694722222,
          33.71666667,
          36.84416667,
          26.55944444,
          25.92472222,
          55.80638889,
          105.60472220000001,
          8.2075,
          50.61351,
          3.838333333,
          -43.29138889,
          -64.30722222,
          116.18512779999999,
          -3.7363888889999997,
          3.546111111,
          11.57861111,
          115.4027778,
          51.68527778,
          55.169,
          34.96527778,
          100.97232779999999,
          -6.822777778,
          35.2075,
          -7.163322222000001,
          -12.84583333,
          16.19583333,
          32.82805556,
          -4.838888889,
          -56.42952222,
          102.7799806,
          126.50805559999999,
          178.8345333,
          9.393055556,
          74.64611111,
          51.42051111,
          11.30416667,
          138.7275,
          7.9913888889999996,
          -8.425775,
          51.02972222,
          33.49138889,
          21.03222222,
          112.46833329999998,
          -83.502539,
          4.416111111,
          9.41025,
          72.10166667,
          61.32777778,
          44.00916667,
          34.89555556,
          7.9636111110000005,
          138.8877778,
          95.81861111,
          4.4183333330000005,
          35.13055556,
          127.18111110000001,
          49.05638889,
          39.1875,
          29.06233611,
          27.18,
          -91.40638889,
          -69.59166667,
          108.85722220000001,
          109.96694440000002,
          9.481388889,
          12.35777778,
          4.864444444,
          3.9461111110000004,
          9.999444444,
          55.37555556,
          48.25611111,
          35.12694444,
          13.35305556,
          131.4122222,
          35.55277778,
          -98.66256667,
          109.0093278,
          8.593611111,
          127.1272222,
          40.91305556,
          103.81611109999999,
          27.35944444,
          40.23930833,
          -3.388888889,
          -98.46,
          -58.33166667,
          -61.76166667,
          -43.97361111,
          107.02305559999999,
          24.28527778,
          85.44388889,
          58.65444444,
          158.33083330000002,
          -4.544444444,
          43.56666667,
          -5.3420611110000005,
          17.92405278,
          14.24972222,
          -43.18739444,
          105.04305559999999,
          118.06194440000002,
          -45.59805556,
          38.93583333,
          -151.3723778,
          9.765555556,
          72.58805556,
          54.36916667,
          130.10555559999997,
          35.10888889,
          18.85122778,
          48.65277778,
          20.37458333,
          28.72361111,
          -3.082416667,
          9.663611111,
          -51.43320556,
          11.804,
          9.454111111,
          72.83008333,
          51.57045,
          7.869166667000001,
          128.9038889,
          34.326107,
          59.37811111,
          127.83333329999999,
          49.63056944,
          -4.867694444,
          38.92236389,
          141.8852778,
          47.1875,
          50.51277778,
          -3.3289861110000003,
          -111.63333329999999,
          119.99083329999999,
          15.48425833,
          10.902000000000001,
          75.82186111,
          100.7378833,
          44.42083333,
          12.22611111,
          135.6094444,
          103.15222220000001,
          94.88444444,
          21.50230556,
          -9.325527778,
          -8.377027777999999,
          128.8434278,
          28.32855556,
          -15.66119444,
          -2.303861111,
          -79.46647556,
          12.83734444,
          -43.54622222,
          -70.32157222,
          118.44416670000001,
          -6.410166667,
          -1.173333333,
          7.272305556,
          8.6675,
          8.439538889,
          79.94320556,
          70.21330278,
          51.39833333,
          46.47785,
          11.87961111,
          11.33277778,
          140.5522167,
          35.72830556,
          -78.23591667,
          23.13055556,
          36.01263889,
          44.54533611,
          14.50222222,
          -3.6870555560000002,
          38.36102778,
          -4.115,
          -55.76640833,
          5.866944444,
          16.86138889,
          6.391588888999999,
          4.433
         ],
         "marker": {
          "color": "#636efa"
         },
         "mode": "markers",
         "name": "Cultural",
         "showlegend": true,
         "subplot": "mapbox",
         "type": "scattermapbox"
        },
        {
         "hovertemplate": "category_long=Natural<br>latitude=%{lat}<br>longitude=%{lon}<extra></extra>",
         "lat": [
          61.54722222,
          -0.68986,
          13.18333333,
          44.46056,
          50.76777778,
          44.87778,
          0.916666667,
          27.96528,
          36.10083333,
          25.55444444,
          52.7275,
          61.19758333,
          4,
          -2.334053,
          43.133,
          37.16361,
          41.37388889,
          -50,
          -18.28611111,
          7.7361111110000005,
          16.414602,
          12.841271,
          -2.33333,
          37.18722222,
          47.74833333,
          7.60318,
          -31.56555556,
          5.648888889,
          15.74444444,
          -9.416666667000001,
          -9,
          44.11444,
          41.74272222,
          59.35833333,
          9,
          -1.83333,
          42.32519444,
          -4.3291699999999995,
          35.59305556,
          9.407083333,
          -25.577357,
          51.42472222,
          -2,
          -14.03333,
          27.5,
          37.74611111,
          -15.81944444,
          26.66666667,
          26.725,
          27.15888889,
          -9.33333,
          -28.25,
          -25.504306,
          45.66667,
          28.12625,
          55.25,
          3,
          49.6125,
          21.945,
          19.383329999999997,
          -12.25,
          -3.0666700000000002,
          19.40083333,
          -15.65,
          9,
          30.71667,
          6.416666667,
          -24.36666667,
          20.234720000000003,
          -17.924529999999997,
          -18.66667,
          -45.03602778,
          -25.48611111,
          -6.75,
          -8.543330000000001,
          18,
          45.08333,
          15.333329999999998,
          -25.21666667,
          33.08333,
          32.75417,
          29.33333,
          30.315,
          40.4525,
          27.79222,
          8.953333333,
          -19.08333333,
          7.803975,
          36.9477,
          -1.080555556,
          0.223611111,
          5.337994,
          20.9,
          49.91667,
          63.62583333,
          -40.32472222,
          32.16666667,
          48.99605556,
          48.47573,
          17.190549,
          2,
          53.17361111,
          56.33333333,
          11.88416667,
          -53.1,
          -54.59472222,
          21.95,
          5.533333333,
          15.331113,
          -0.155,
          3.0513055560000004,
          -50.75,
          50.46666667,
          -11.68333,
          -42.5,
          -16.5,
          -24.16667,
          48.105,
          10.85,
          19.883329999999997,
          -4.75,
          10.16666667,
          32.76666667,
          44,
          -27.838890000000003,
          -30,
          -33.7,
          -14.266670000000001,
          -2.333333333,
          -17.670317999999998,
          38.48786111,
          6.25,
          4.13333,
          4,
          63.3,
          -3.8579444439999997,
          -14.00569444,
          20.45,
          46.68333333,
          46.5,
          50.70555556,
          -17.5,
          27.895,
          17.53722222,
          45.88888889,
          50.275,
          69.13333333,
          -2.5,
          71.18888889,
          13.80708333,
          -34.36111111,
          29.33333,
          43.94944,
          27.62667,
          62.11666999999999,
          7.433,
          -26.86,
          14.33,
          30.83333333,
          4.003344,
          24.92333333,
          -14.45972222,
          33.46888889,
          28.27138889,
          0,
          45.70972222,
          28.91583333,
          -20.41194444,
          63.30305556,
          50.43333333,
          19.60638889,
          46.91666667,
          12.5,
          46.61305556,
          53.52861111,
          28.42194444,
          -21.09944444,
          -3.8644540000000003,
          69.04694444,
          7.45245,
          -22.5625,
          27.71833333,
          -0.4425,
          19.055,
          24.66888889,
          8.529722222,
          60.66666667,
          2.609444444,
          41.96833333,
          37.75611111,
          32,
          -24.88527778,
          38.765,
          -19.28333333,
          55.26722222,
          31.83333333,
          6.717169444,
          46.635,
          31.46972222,
          30.21611111,
          18.78805556,
          19.73611111,
          43.71833333,
          -42.8528,
          35.38027778,
          49.93022222,
          27.89555556,
          45.77938889,
          -25.97388889,
          32.93194444,
          -49.38036111,
          64.577363,
          37.42147222,
          0.406111111,
          41.70227778,
          28.27916667,
          34.82882222,
          12.86566667
         ],
         "legendgroup": "Natural",
         "lon": [
          -125.58944440000002,
          -90.501319,
          38.06666667,
          -110.82778,
          -111.4922222,
          15.61444,
          29.16666667,
          86.91306,
          -112.09055559999999,
          -80.99638889,
          23.98111111,
          -140.9919722,
          29.25,
          28.180743,
          19.0166,
          9.674719999999999,
          -123.99805559999999,
          -73.24944,
          147.7,
          -77.54722222,
          -16.237906,
          -12.899780999999999,
          34.56667,
          -86.10305556,
          -123.4488889,
          -8.39097,
          159.08833330000002,
          -7.095277778,
          -84.675,
          46.41666667,
          37.4,
          27.078059999999997,
          23.43047222,
          -112.29333329999999,
          -4,
          -78.33333,
          8.628833333,
          55.7375,
          -83.43555556,
          -82.93880556,
          -54.286072999999995,
          -116.47972220000001,
          21,
          34.88333,
          84.33333,
          -119.59666670000001,
          29.40805556,
          93.41666667,
          91.03055556,
          77.50861111,
          -77.4,
          150.05,
          -54.032849,
          14,
          -17.23722222,
          -6.4852777779999995,
          13,
          -57.53138889,
          88.89583333,
          -87.79167,
          -71.75,
          37.36667,
          -155.1236111,
          144.9666667,
          21.5,
          79.66667,
          80.5,
          -128.3333333,
          -16.10889,
          25.85539,
          44.75,
          167.3196111,
          113.4361111,
          105.33333329999999,
          119.48943999999999,
          9,
          29.5,
          98.91667,
          153.1333333,
          103.91667,
          103.82222,
          110.5,
          130.5086111,
          140.1155556,
          -114.22778000000001,
          119.8675,
          138.7166667,
          -77.146271,
          -6.358861,
          29.66138889,
          29.92416667,
          -62.037882999999994,
          107.1,
          8.75389,
          58.9525,
          -9.928611111,
          -104.3833333,
          -113.90416670000002,
          20.48687,
          -87.846213,
          28.5,
          107.6625,
          158.5,
          2.4877777780000003,
          73.5,
          158.8955556,
          89.18333,
          -87.06666667,
          -61.30661,
          37.31555556,
          36.50366667,
          166.1044444,
          86,
          160.33333000000002,
          -64,
          -39.25,
          -48,
          -66.35305556,
          -85.61666667,
          -77.63333,
          137.83333000000002,
          118.91666670000001,
          -17,
          40,
          32.55,
          -68,
          150,
          -60.86666999999999,
          -62.00833333,
          -57.461874,
          14.94558333,
          116.5,
          114.91667,
          -56.5,
          21.3,
          -32.42511111,
          -47.68461111,
          -75,
          136.6611111,
          8.033333333,
          -2.989888889,
          128.5,
          98.40638889,
          106.15125,
          8.913888888999999,
          92.71972222,
          -49.5,
          101.5,
          -179.71527780000002,
          -61.07036111,
          18.475,
          30.183329999999998,
          144.96583,
          -112.54583000000001,
          7.16667,
          -81.766,
          27.26,
          102.05,
          103,
          -81.60757199999999,
          110.35444440000002,
          49.7025,
          126.72027779999999,
          -16.64361111,
          0,
          -64.43583333,
          118.06444440000001,
          164.5663889,
          -20.60222222,
          69.18888889,
          -100.2416667,
          9.25,
          53.83333333,
          12.16305556,
          8.556111111,
          106.0425,
          55.48,
          -172.650203,
          94.15805556,
          80.8021,
          113.8102778,
          142.09972219999997,
          36.24,
          20.50555556,
          102.9772222,
          77.24972222,
          127,
          16.55416667,
          80.35416667,
          14.99666667,
          -113.91666670000001,
          15.40777778,
          72.30527778,
          22.9,
          12.42333333,
          77.58333333,
          126.17343059999999,
          -53.21111111,
          110.20777779999999,
          58.83888889,
          -110.97527779999999,
          37.44305556,
          68.67888889,
          -71.8728,
          92.43916667,
          115.42544440000002,
          108.68,
          2.965111111,
          31.01388889,
          121.0168139,
          69.35280556,
          -16.88154044,
          55.72427778,
          12.64083333,
          41.9512,
          129.37833329999998,
          126.10444440000002,
          99.40016667
         ],
         "marker": {
          "color": "#EF553B"
         },
         "mode": "markers",
         "name": "Natural",
         "showlegend": true,
         "subplot": "mapbox",
         "type": "scattermapbox"
        },
        {
         "hovertemplate": "category_long=Mixed<br>latitude=%{lat}<br>longitude=%{lon}<extra></extra>",
         "lat": [
          17.21666667,
          -3.18722,
          40.99183333,
          -12.83333333,
          -34,
          25.5,
          -41.58333333,
          -13.184934,
          38.66667,
          57.81722222,
          -25.33333333,
          36.26667,
          40.26667,
          39.71667,
          37.92389,
          14.333329999999998,
          30.145333,
          -39.29083333,
          -7.75,
          29.5449,
          67.33333,
          42.68542,
          27.72638889,
          38.91113889,
          -29.76527778,
          18.05302778,
          -0.5,
          25.34907,
          29.63972222,
          7.246925,
          20.25666667,
          18.0775,
          17.04166667,
          27.76472222,
          31.56222222,
          51.82641667,
          0.525277778,
          17.98996111,
          -23.01860556
         ],
         "legendgroup": "Mixed",
         "lon": [
          -89.61666667,
          35.54083,
          20.70416667,
          132.8333333,
          143,
          9,
          145.41666669999998,
          -72.533443,
          34.85,
          -8.576666667000001,
          131,
          117.1,
          24.21667,
          21.633329999999997,
          29.12333,
          -3.41667,
          118.155083,
          175.56222219999998,
          -77.25,
          103.76925,
          17.58333,
          -0.0005,
          117.72527779999999,
          1.435194444,
          29.12305556,
          -89.73728333,
          11.5,
          -170.14582,
          35.43388889,
          134.3525,
          105.89638889999999,
          -76.57111111,
          21.86277778,
          88.37722222,
          47.65777778,
          -95.41127778,
          -72.79722222,
          -97.18715278,
          -44.68536944
         ],
         "marker": {
          "color": "#00cc96"
         },
         "mode": "markers",
         "name": "Mixed",
         "showlegend": true,
         "subplot": "mapbox",
         "type": "scattermapbox"
        }
       ],
       "layout": {
        "legend": {
         "title": {
          "text": "category_long"
         },
         "tracegroupgap": 0
        },
        "mapbox": {
         "accesstoken": "pk.eyJ1IjoiZXZlZ2FyY2lhbnoiLCJhIjoiY2t5ZXR6MXVrMWNlNjJxbzhjcmptdWg2bSJ9.fmrbGI8SzC0WlouTElFzlA",
         "center": {
          "lat": 28.978184826694108,
          "lon": 20.63367475940467
         },
         "domain": {
          "x": [
           0,
           1
          ],
          "y": [
           0,
           1
          ]
         },
         "zoom": 12
        },
        "margin": {
         "t": 60
        },
        "template": {
         "data": {
          "bar": [
           {
            "error_x": {
             "color": "#2a3f5f"
            },
            "error_y": {
             "color": "#2a3f5f"
            },
            "marker": {
             "line": {
              "color": "#E5ECF6",
              "width": 0.5
             }
            },
            "type": "bar"
           }
          ],
          "barpolar": [
           {
            "marker": {
             "line": {
              "color": "#E5ECF6",
              "width": 0.5
             }
            },
            "type": "barpolar"
           }
          ],
          "carpet": [
           {
            "aaxis": {
             "endlinecolor": "#2a3f5f",
             "gridcolor": "white",
             "linecolor": "white",
             "minorgridcolor": "white",
             "startlinecolor": "#2a3f5f"
            },
            "baxis": {
             "endlinecolor": "#2a3f5f",
             "gridcolor": "white",
             "linecolor": "white",
             "minorgridcolor": "white",
             "startlinecolor": "#2a3f5f"
            },
            "type": "carpet"
           }
          ],
          "choropleth": [
           {
            "colorbar": {
             "outlinewidth": 0,
             "ticks": ""
            },
            "type": "choropleth"
           }
          ],
          "contour": [
           {
            "colorbar": {
             "outlinewidth": 0,
             "ticks": ""
            },
            "colorscale": [
             [
              0,
              "#0d0887"
             ],
             [
              0.1111111111111111,
              "#46039f"
             ],
             [
              0.2222222222222222,
              "#7201a8"
             ],
             [
              0.3333333333333333,
              "#9c179e"
             ],
             [
              0.4444444444444444,
              "#bd3786"
             ],
             [
              0.5555555555555556,
              "#d8576b"
             ],
             [
              0.6666666666666666,
              "#ed7953"
             ],
             [
              0.7777777777777778,
              "#fb9f3a"
             ],
             [
              0.8888888888888888,
              "#fdca26"
             ],
             [
              1,
              "#f0f921"
             ]
            ],
            "type": "contour"
           }
          ],
          "contourcarpet": [
           {
            "colorbar": {
             "outlinewidth": 0,
             "ticks": ""
            },
            "type": "contourcarpet"
           }
          ],
          "heatmap": [
           {
            "colorbar": {
             "outlinewidth": 0,
             "ticks": ""
            },
            "colorscale": [
             [
              0,
              "#0d0887"
             ],
             [
              0.1111111111111111,
              "#46039f"
             ],
             [
              0.2222222222222222,
              "#7201a8"
             ],
             [
              0.3333333333333333,
              "#9c179e"
             ],
             [
              0.4444444444444444,
              "#bd3786"
             ],
             [
              0.5555555555555556,
              "#d8576b"
             ],
             [
              0.6666666666666666,
              "#ed7953"
             ],
             [
              0.7777777777777778,
              "#fb9f3a"
             ],
             [
              0.8888888888888888,
              "#fdca26"
             ],
             [
              1,
              "#f0f921"
             ]
            ],
            "type": "heatmap"
           }
          ],
          "heatmapgl": [
           {
            "colorbar": {
             "outlinewidth": 0,
             "ticks": ""
            },
            "colorscale": [
             [
              0,
              "#0d0887"
             ],
             [
              0.1111111111111111,
              "#46039f"
             ],
             [
              0.2222222222222222,
              "#7201a8"
             ],
             [
              0.3333333333333333,
              "#9c179e"
             ],
             [
              0.4444444444444444,
              "#bd3786"
             ],
             [
              0.5555555555555556,
              "#d8576b"
             ],
             [
              0.6666666666666666,
              "#ed7953"
             ],
             [
              0.7777777777777778,
              "#fb9f3a"
             ],
             [
              0.8888888888888888,
              "#fdca26"
             ],
             [
              1,
              "#f0f921"
             ]
            ],
            "type": "heatmapgl"
           }
          ],
          "histogram": [
           {
            "marker": {
             "colorbar": {
              "outlinewidth": 0,
              "ticks": ""
             }
            },
            "type": "histogram"
           }
          ],
          "histogram2d": [
           {
            "colorbar": {
             "outlinewidth": 0,
             "ticks": ""
            },
            "colorscale": [
             [
              0,
              "#0d0887"
             ],
             [
              0.1111111111111111,
              "#46039f"
             ],
             [
              0.2222222222222222,
              "#7201a8"
             ],
             [
              0.3333333333333333,
              "#9c179e"
             ],
             [
              0.4444444444444444,
              "#bd3786"
             ],
             [
              0.5555555555555556,
              "#d8576b"
             ],
             [
              0.6666666666666666,
              "#ed7953"
             ],
             [
              0.7777777777777778,
              "#fb9f3a"
             ],
             [
              0.8888888888888888,
              "#fdca26"
             ],
             [
              1,
              "#f0f921"
             ]
            ],
            "type": "histogram2d"
           }
          ],
          "histogram2dcontour": [
           {
            "colorbar": {
             "outlinewidth": 0,
             "ticks": ""
            },
            "colorscale": [
             [
              0,
              "#0d0887"
             ],
             [
              0.1111111111111111,
              "#46039f"
             ],
             [
              0.2222222222222222,
              "#7201a8"
             ],
             [
              0.3333333333333333,
              "#9c179e"
             ],
             [
              0.4444444444444444,
              "#bd3786"
             ],
             [
              0.5555555555555556,
              "#d8576b"
             ],
             [
              0.6666666666666666,
              "#ed7953"
             ],
             [
              0.7777777777777778,
              "#fb9f3a"
             ],
             [
              0.8888888888888888,
              "#fdca26"
             ],
             [
              1,
              "#f0f921"
             ]
            ],
            "type": "histogram2dcontour"
           }
          ],
          "mesh3d": [
           {
            "colorbar": {
             "outlinewidth": 0,
             "ticks": ""
            },
            "type": "mesh3d"
           }
          ],
          "parcoords": [
           {
            "line": {
             "colorbar": {
              "outlinewidth": 0,
              "ticks": ""
             }
            },
            "type": "parcoords"
           }
          ],
          "pie": [
           {
            "automargin": true,
            "type": "pie"
           }
          ],
          "scatter": [
           {
            "marker": {
             "colorbar": {
              "outlinewidth": 0,
              "ticks": ""
             }
            },
            "type": "scatter"
           }
          ],
          "scatter3d": [
           {
            "line": {
             "colorbar": {
              "outlinewidth": 0,
              "ticks": ""
             }
            },
            "marker": {
             "colorbar": {
              "outlinewidth": 0,
              "ticks": ""
             }
            },
            "type": "scatter3d"
           }
          ],
          "scattercarpet": [
           {
            "marker": {
             "colorbar": {
              "outlinewidth": 0,
              "ticks": ""
             }
            },
            "type": "scattercarpet"
           }
          ],
          "scattergeo": [
           {
            "marker": {
             "colorbar": {
              "outlinewidth": 0,
              "ticks": ""
             }
            },
            "type": "scattergeo"
           }
          ],
          "scattergl": [
           {
            "marker": {
             "colorbar": {
              "outlinewidth": 0,
              "ticks": ""
             }
            },
            "type": "scattergl"
           }
          ],
          "scattermapbox": [
           {
            "marker": {
             "colorbar": {
              "outlinewidth": 0,
              "ticks": ""
             }
            },
            "type": "scattermapbox"
           }
          ],
          "scatterpolar": [
           {
            "marker": {
             "colorbar": {
              "outlinewidth": 0,
              "ticks": ""
             }
            },
            "type": "scatterpolar"
           }
          ],
          "scatterpolargl": [
           {
            "marker": {
             "colorbar": {
              "outlinewidth": 0,
              "ticks": ""
             }
            },
            "type": "scatterpolargl"
           }
          ],
          "scatterternary": [
           {
            "marker": {
             "colorbar": {
              "outlinewidth": 0,
              "ticks": ""
             }
            },
            "type": "scatterternary"
           }
          ],
          "surface": [
           {
            "colorbar": {
             "outlinewidth": 0,
             "ticks": ""
            },
            "colorscale": [
             [
              0,
              "#0d0887"
             ],
             [
              0.1111111111111111,
              "#46039f"
             ],
             [
              0.2222222222222222,
              "#7201a8"
             ],
             [
              0.3333333333333333,
              "#9c179e"
             ],
             [
              0.4444444444444444,
              "#bd3786"
             ],
             [
              0.5555555555555556,
              "#d8576b"
             ],
             [
              0.6666666666666666,
              "#ed7953"
             ],
             [
              0.7777777777777778,
              "#fb9f3a"
             ],
             [
              0.8888888888888888,
              "#fdca26"
             ],
             [
              1,
              "#f0f921"
             ]
            ],
            "type": "surface"
           }
          ],
          "table": [
           {
            "cells": {
             "fill": {
              "color": "#EBF0F8"
             },
             "line": {
              "color": "white"
             }
            },
            "header": {
             "fill": {
              "color": "#C8D4E3"
             },
             "line": {
              "color": "white"
             }
            },
            "type": "table"
           }
          ]
         },
         "layout": {
          "annotationdefaults": {
           "arrowcolor": "#2a3f5f",
           "arrowhead": 0,
           "arrowwidth": 1
          },
          "coloraxis": {
           "colorbar": {
            "outlinewidth": 0,
            "ticks": ""
           }
          },
          "colorscale": {
           "diverging": [
            [
             0,
             "#8e0152"
            ],
            [
             0.1,
             "#c51b7d"
            ],
            [
             0.2,
             "#de77ae"
            ],
            [
             0.3,
             "#f1b6da"
            ],
            [
             0.4,
             "#fde0ef"
            ],
            [
             0.5,
             "#f7f7f7"
            ],
            [
             0.6,
             "#e6f5d0"
            ],
            [
             0.7,
             "#b8e186"
            ],
            [
             0.8,
             "#7fbc41"
            ],
            [
             0.9,
             "#4d9221"
            ],
            [
             1,
             "#276419"
            ]
           ],
           "sequential": [
            [
             0,
             "#0d0887"
            ],
            [
             0.1111111111111111,
             "#46039f"
            ],
            [
             0.2222222222222222,
             "#7201a8"
            ],
            [
             0.3333333333333333,
             "#9c179e"
            ],
            [
             0.4444444444444444,
             "#bd3786"
            ],
            [
             0.5555555555555556,
             "#d8576b"
            ],
            [
             0.6666666666666666,
             "#ed7953"
            ],
            [
             0.7777777777777778,
             "#fb9f3a"
            ],
            [
             0.8888888888888888,
             "#fdca26"
            ],
            [
             1,
             "#f0f921"
            ]
           ],
           "sequentialminus": [
            [
             0,
             "#0d0887"
            ],
            [
             0.1111111111111111,
             "#46039f"
            ],
            [
             0.2222222222222222,
             "#7201a8"
            ],
            [
             0.3333333333333333,
             "#9c179e"
            ],
            [
             0.4444444444444444,
             "#bd3786"
            ],
            [
             0.5555555555555556,
             "#d8576b"
            ],
            [
             0.6666666666666666,
             "#ed7953"
            ],
            [
             0.7777777777777778,
             "#fb9f3a"
            ],
            [
             0.8888888888888888,
             "#fdca26"
            ],
            [
             1,
             "#f0f921"
            ]
           ]
          },
          "colorway": [
           "#636efa",
           "#EF553B",
           "#00cc96",
           "#ab63fa",
           "#FFA15A",
           "#19d3f3",
           "#FF6692",
           "#B6E880",
           "#FF97FF",
           "#FECB52"
          ],
          "font": {
           "color": "#2a3f5f"
          },
          "geo": {
           "bgcolor": "white",
           "lakecolor": "white",
           "landcolor": "#E5ECF6",
           "showlakes": true,
           "showland": true,
           "subunitcolor": "white"
          },
          "hoverlabel": {
           "align": "left"
          },
          "hovermode": "closest",
          "mapbox": {
           "style": "light"
          },
          "paper_bgcolor": "white",
          "plot_bgcolor": "#E5ECF6",
          "polar": {
           "angularaxis": {
            "gridcolor": "white",
            "linecolor": "white",
            "ticks": ""
           },
           "bgcolor": "#E5ECF6",
           "radialaxis": {
            "gridcolor": "white",
            "linecolor": "white",
            "ticks": ""
           }
          },
          "scene": {
           "xaxis": {
            "backgroundcolor": "#E5ECF6",
            "gridcolor": "white",
            "gridwidth": 2,
            "linecolor": "white",
            "showbackground": true,
            "ticks": "",
            "zerolinecolor": "white"
           },
           "yaxis": {
            "backgroundcolor": "#E5ECF6",
            "gridcolor": "white",
            "gridwidth": 2,
            "linecolor": "white",
            "showbackground": true,
            "ticks": "",
            "zerolinecolor": "white"
           },
           "zaxis": {
            "backgroundcolor": "#E5ECF6",
            "gridcolor": "white",
            "gridwidth": 2,
            "linecolor": "white",
            "showbackground": true,
            "ticks": "",
            "zerolinecolor": "white"
           }
          },
          "shapedefaults": {
           "line": {
            "color": "#2a3f5f"
           }
          },
          "ternary": {
           "aaxis": {
            "gridcolor": "white",
            "linecolor": "white",
            "ticks": ""
           },
           "baxis": {
            "gridcolor": "white",
            "linecolor": "white",
            "ticks": ""
           },
           "bgcolor": "#E5ECF6",
           "caxis": {
            "gridcolor": "white",
            "linecolor": "white",
            "ticks": ""
           }
          },
          "title": {
           "x": 0.05
          },
          "xaxis": {
           "automargin": true,
           "gridcolor": "white",
           "linecolor": "white",
           "ticks": "",
           "title": {
            "standoff": 15
           },
           "zerolinecolor": "white",
           "zerolinewidth": 2
          },
          "yaxis": {
           "automargin": true,
           "gridcolor": "white",
           "linecolor": "white",
           "ticks": "",
           "title": {
            "standoff": 15
           },
           "zerolinecolor": "white",
           "zerolinewidth": 2
          }
         }
        }
       }
      },
      "text/html": [
       "<div>\n",
       "        \n",
       "        \n",
       "            <div id=\"320354f7-d19c-4899-b7d9-e6c998445778\" class=\"plotly-graph-div\" style=\"height:525px; width:100%;\"></div>\n",
       "            <script type=\"text/javascript\">\n",
       "                require([\"plotly\"], function(Plotly) {\n",
       "                    window.PLOTLYENV=window.PLOTLYENV || {};\n",
       "                    \n",
       "                if (document.getElementById(\"320354f7-d19c-4899-b7d9-e6c998445778\")) {\n",
       "                    Plotly.newPlot(\n",
       "                        '320354f7-d19c-4899-b7d9-e6c998445778',\n",
       "                        [{\"hovertemplate\": \"category_long=Cultural<br>latitude=%{lat}<br>longitude=%{lon}<extra></extra>\", \"lat\": [51.46666667, -0.22, 12.02935, 50.77444444, 50.06138889, 49.97916667, 14.66722, 37.26166667, 42.65, 43.3, 42.61666667, 43.71666667, 42.64142111, 43.509440000000005, 29.97604, 25.73333, 22.33722222, 30.05, 30.83583333, 12.607909, 48.63556, 48.4475, 48.805, 47.46638889, 45.0575, 5.391030000000001, 14.556504, 32.00857, 29.934440000000002, 32.65745, 45.95705556, 42.48333, 27.70395, 61.3, 60.39722, 50.03888889, 43.11889, 33.511390000000006, 36.81667, 36.852779999999996, 35.29639, 39.94861111, 35.81844, -20.38888889, 34.75833, 11.100060000000001, 8.43491, 14.130189999999999, 4.8, 6.4011111110000005, 14.85, 45.46588889, 35.871340000000004, 35.90056, 36.04908, 62.57388889, 27.32916667, 33.77916667, 34.32083333, 9.553888889, 52.26639, 32.51806, 34.55417, 41.89022222, 52.095, 49.70840556, 48.40194444, 49.895, 44.13572222, 43.67763889, 47.63944, 49.31666667, 49.79278, 15.270589999999999, 31.78333333, 34.06111, 24.76666667, 31.59027778, -8.95778, 32.48333, 36.32056, 36.55, 35.48416667, -8.013333333, 23.13333333, 46.9375, 19.573025, 43.77306, 32.638329999999996, 32.805279999999996, 32.825, 8.333333332999999, 7.915833332999999, 7.95, 38.65861111, 15.92694, 42.11666667, 42.65611, 48.69361111, 46.56472, 47.68127778, 20.553110999999998, 20.02639, 27.179806, 27.17417, -13.517276, 38.655, 38.69194, 39.657779999999995, 39.60472, 46.94806, 47.42333, 46.62945, 18.46666667, -28.54333333, 10.41666667, 50.82502778, 41.902159999999995, 19.8875, 12.61667, 33.72583, 34.00707, 34.119170000000004, 33.27194, 37.87919444, 37.17667, 42.34073333, 40.58175, 41.41338, 40.68944444, 22.66667, 25.03333333, 7.183333332999999, -12.972917, -20.508201, 43.66667, 46.80944444, 34.92027778, 43.94722222, 52.15278, 35.58806, 30.33056, 31.80180556, 24.83333, 31.631390000000003, 69.95, -9.592772543999999, 43.38252778, 40.94847222, 43.36262, 42.880759999999995, 40.65645, 36.94639, 41.00847, 39.371271, 49.75, 37.434979999999996, 15.502220000000001, 24.852220000000003, 15.31444, 27.097528000000004, 30.13333333, -8.107836, 38.57306, 43.48611, 40.34389, 39.86688889, 39.47444, 36.19916667, 40.01389, 54.77472222, 52.62638889, 54.11611111, 51.17888889, 53.13972222, 15.35555556, -20.28333333, -20.15833333, -19.599111999999998, -15.78333, 40.41667, 41.79416667, 40.13333, 34.381311, 39.689448999999996, 53.86666999999999, 38.48149, 37.97087, 47.48242, 47.994440000000004, 15.948329999999999, 18.96667, 10.78305556, 45.43430556, 43.72305556, 17.48333, 19.418329999999997, 19.691670000000002, 17.061579000000002, 19.045967, 31.047220000000003, 22.964170000000003, 37.38384, 38.036609999999996, 51.84194444, 51.49972222, 51.38138889, 36.06377778, 38.03277778, 54.99261111, 21.80305556, 48.58444444, 40.638329999999996, 37.66666667, 36.44722, 13.90639, 16.77333333, 21.016939999999998, 20.682739, 23.26986, -12.046542, 40.96525, 7.293611111000001, 6.0280510000000005, 35.82778, 35.681670000000004, 36.335, 51.50805556, 51.28, 37.08056, 37.65, 23.47944, 39.55, -16.0, 18.472394, 52.4, 37.4, 38.4, 43.468059999999994, 59.95, 62.07138889, 55.745830000000005, 50.45258, 41.378088, -19.04799, -8.718634, 61.12806, 60.14722, 48.85833333, 49.25333333, 49.653690000000005, -7.60778, -7.7522199999999994, 19.700927, -15.034170000000001, 41.380829999999996, 7.856666667000001, 59.32306, 17.00722, 14.347779999999998, 39.745732000000004, 36.78333, 13.43333333, 50.08972, 48.81666667, 49.18333, 47.08222222, 51.82, 37.69083, 20.446095, 50.71667, 58.53333000000001, 65.08333333, 56.15, 17.407772, 36.43889, 13.8275, 49.00083, 49.89166667, 28.593329999999998, 28.52583, 53.691669999999995, 40.66638889, 34.61666667, 34.83333333, 22.775484, 27.626963, -27.131613, 14.59, 46.13583333, 45.18333333, 47.77833333, 56.31035, 48.46111, 48.99944444, 49.03916667, 38.916109999999996, 39.45285, 43.335, 59.33514, 59.96666999999999, 39.77472, 11.409794, 16.46944, 14.19533333, 40.986940000000004, 35.613215000000004, 32.46667, 29.65792, 49.5802, 55.75638889, 62.25, 41.84389, 42.29472222, 51.78333, 49.244440000000004, 45.54916667, 34.98055556, 54.68666999999999, 49.61, 18.93472222, -14.725829999999998, 55.655559999999994, 58.70111, 59.27556, 41.26, 44.37611111, -27.074403000000004, 9.240492, 2.583333333, 1.9166666669999999, 49.95, 55.64222222, 43.95277778, 43.31861111, 40.85138889, 45.59333, 44.83777778, 36.4, 19.88889, 52.63861111, 16.933889999999998, 38.78333, 35.791498, 35.801671999999996, 37.57472222, 57.64167, 55.95, -34.47119, 41.095, 47.80055556, 48.18666667, 29.43333333, 48.77583, 61.06194, 43.61138889, 42.91639, 50.94111111, 50.97477778, 51.86472, 40.47139, 47.558890000000005, -7.4, 51.77194, 41.08480556, 40.7825, 44.42041667, 43.07694444, 34.395556, 34.29441667, 20.92889, 20.36166667, 20.593292, 33.88333, 52.555, 41.14166667, 40.07662, 39.47441667, 65.64611, 47.55944444, -2.5300540000000002, 26.866670000000003, 37.20139, 31.31666667, 45.22917, 43.5125, 19.968446, 59.433330000000005, 43.21055556, 41.07333, 45.07253, 45.39911111, 44.10694, 44.64624, 40.75, 40.63333333, 37.28972222, 37.36611, 39.70583333, 56.95417, 20.676888, 34.073890000000006, 35.57083, 27.468890000000002, 51.8825, 12.101939999999999, 32.9625, 8.951111111, 53.01, 54.04166667, 37.57888889, 37.272220000000004, 42.469390000000004, 41.38778, 42.32586, 36.42361, 51.48116667, 47.64877778, 51.03097222, 50.48111, 50.84668, -18.178323000000002, 39.91055556, 39.84555556, 34.79833, 49.3, 48.95972222, 45.18405556, 45.76722, 50.9775, 45.76833333, 43.725, 40.28333333, 34.67555556, 34.24333, 30.367128000000005, 18.613459, 52.84583000000001, 39.78995, 40.48138889, 56.166669999999996, 39.95644, 49.84163, 40.6975, -47.15, 47.07416667, -18.244776, 29.701109999999996, 22.616670000000003, 49.87361, -2.897447, 61.12056, 44.89472222, 52.51972222, 50.96677778, 37.73333333, 37.3, 47.59458, 11.51028, 41.94416667, 36.7475, 19.84639, 18.803972, 52.54888889, 10.74056, 17.575, 49.86666667, 46.21777778, 47.82083333, 45.62305556, 17.34694, -24.15861, -33.8, 28.47788889, 37.700829999999996, 58.99605556, 15.88333333, 15.773843, 50.174440000000004, -31.42056, 40.15889, 40.15931, 48.36444444, 40.36666667, 53.45108333, 51.208909999999996, 50.82806, 50.43077, 50.60603, -16.555003, -42.5, 31.00167, 29.90444444, 34.46666667, 41.70722222, 43.736290000000004, 20.03, 49.59393611, 56.03889, 47.39889, 51.8425, 47.69872222, 46.07444, 45.43861111, 43.06616667, 26.20861111, 52.08533333, 12.40047, 18.25333, -16.398353, 35.78889, 34.96667, 55.79111111, 59.95, 16.02778, 49.29277778, 41.11472222, 38.26666667, 43.011109999999995, 42.50472222, 42.37138889, 56.325, 46.19314, 32.37944444, 51.77638889, -6.16306, 39.05, 10.490730000000001, 55.27458000000001, 48.21666667, -18.75, -15.934231, 40.10972, 49.20718333, 48.55972222, 51.49138889, 31.3135, 32.92833333, 41.96391667, -2.284444444, 14.84833333, -18.75917, 31.51411111, 51.05427778, 41.443731, 41.10166667, 40.03645, 60.60471999999999, 0.34861111100000003, 55.66333333, 53.83916667, 53.02888889, 39.66861, 47.71927778, 36.39655556, 28.55623, 50.17361111, 54.3025, 48.15, 24.69528, 36.89319444, 5.82611, 34.846940000000004, -23.19986111, -33.04063889, 49.21722222, 13.31616667, 22.92777778, 36.60388889, 35.45666667, 32.06666667, 45.97455556, 43.29769444, 21.20438889, 49.75, 42.05583333, -22.1925, 38.011309999999995, 18.537, 51.48194444, -20.5, 42.49472222, -37.80611111, 41.15694444, 38.86305556, 53.07597222, 64.25380556, 18.94012222, 22.48333333, 30.19383, 29.11683, 43.06666667, 42.00683333, 33.83694444, 31.50167, 43.80333333, 54.88777778, 16.2898, 19.41119788, 47.479214, 33.25667, 65.61667, 38.51344444, 55.72611111, 42.66111111, 57.1, 10.06666667, 53.40666667, 51.57930556, 40.07416667, 26.23306, 53.22278000000001, 51.21833, 43.33730556, -20.205820000000003, 22.19129194, 22.145887, 49.492779999999996, 36.43528, 30.541109999999996, 32.59722, 37.05944, 7.755560000000001, 57.65278000000001, 42.18318, 59.05777778, -34.08444444, 36.12666667, 9.308888889, 49.02055556, 34.38833333, 44.41222222, -14.29333333, -20.15863889, 20.86305556, 22.99888889, 51.10694722, 43.323175, 34.78166667, 50.13611111, -4.7244444439999995, 13.69111111, -33.85666667, 40.125, 43.78144444, 44.99438611, 22.28551944, 44.83888889, 39.62394139, 28.65555556, 34.34098944, 35.11277778, 19.33222222, -20.59558333, 43.89930556, -28.6, 46.49194444, 37.99972222, 14.38833333, 25.02305556, 43.18166667, 21.37861111, 47.23611111, 52.44833333, 38.97888889, 32.82939667, 45.15944444, -3.931944444, 5.421388889, -20.45194444, 20.91444444, -5.783711111000001, 43.93277778, 26.78361111, 49.33611111, -17.62806944, 46.49833333, 50.835, 10.25, 14.91513889, 39.03055556, 32.01861111, 40.53111111, -10.89166667, 37.19722222, 43.38583333, 47.10388889, 52.97027778, -33.37833333, -11.01365544, 34.45874722, 43.92833333, 26.92472222, 38.24861111, 38.08138889, 11.6, 22.60805556, 16.95083333, 52.365, 36.53916667, 24.73413333, 39.50788889, 21.03752, 13.09666667, 30.2375, 4.889476, 5.3, 44.22027778, 51.98388889, 30.16666667, 46.09416667, 39.00111111, -4.062777778, 49.33388889, 12.435, 13.83527778, 39.73083333, 16.93333333, 36.33416667, 41.67777778, 48.29666667, 24.06777778, 20.07805556, 47.27833333, 26.24128, 50.43527778, -22.94777778, 45.11833333, 42.358000000000004, 5.195833333, 50.4625, 49.94444444, -8.259166667, 32.66972222, 37.25802778, 32.67, 5.067908333, 34.02416667, 31.70435278, 38.88061944, 12.59333333, 61.70722222, 37.66666667, 38.77527778, 51.726925, 23.09327778, 37.98166667, -17.68337778, 51.31583333, 24.88333333, 35.68036667, 43.85777778, 35.36083333, 16.97361111, 40.20781111, 25.97805556, 44.61083333, 49.53388889, 34.69388889, 8.938452999999999, 44.3875, 51.77827778, 23.85888889, 30.59388889, 36.19111111, 31.6, 44.60861111, 36.25527778, 22.47, 51.92333333, 31.71972222, 37.47888889, 54.97888889, 21.48388889, 40.18473056, 39.12583333, 32.63694444, -18.25, 34.30444444, 28.99861111, 55.35555556, 55.91361111, 47.05805556, 49.0775, 53.54555556, 30.16805556, 32.18944444, 32.70222222, 38.11083333, 34.43055556, 31.83722222, 19.83527778, 48.76197778, 59.87861111, 36.46194444, 28.01055556, 1.315277778, 37.92916667, 37.9031, 56.00111111, 29.32805556, -33.11777778, 17.00694444, -19.85194444, 22.25555556, 41.01472222, 25.13666667, 34.29, 6.839722222000001, 37.025, 40.5, 36.12266944, 43.09221389, -6.268888888999999, -22.89711111, 12.8725, 24.4475, 61.16444444, 15.33527778, -16.8414, 48.38777778, 23.02638889, 31.90138889, 34.245, 31.52416667, 50.44269722, 55.77027778, -25.68761111, 37.70833333, 54.47661111, 45.70333333, 67.06393056, 51.15480556, 54.46194444, 18.92980556, 29.77748056, 45.4575, 32.80222222, -0.8913380559999999, 22.69522222, 36.54194444, 25.40216667, 37.88588889, 37.22324194, -38.08111111, 41.20333333, 26.14972222, 12.58775833, 49.075, 30.39555556, 50.05665, 48.36547222, 26.92427778, -0.7666255559999999, 32.54196944, 45.95302778, 34.56222222, 19.43105556, 21.14888889, 50.96797222, 38.93716667, 41.55494444, 36.72729722, 57.80719444, 28.04438889, 53.23391667, 39.90557083, 50.40652778, -23.02237778, -18.48196111, 24.71027778, 10.49031667, 45.58630556, 43.70169444, 49.87638889, 49.31621111, 18.25913333, 23.88840833, 35.65830556, 35.10735833, 45.41188889, 44.49138889, 41.06555556, 32.04261111, -9.556861111, 46.30611111, 61.7299, 18.31671111, 46.04333333, 40.41533333, 38.38208333, 53.12083333, -34.74391944, 50.49222222, 48.11519444, 53.04222222, 52.18033333], \"legendgroup\": \"Cultural\", \"lon\": [-55.61666667, -78.51208333, 39.040420000000005, 6.084444444, 19.93722222, 20.06388889, -17.40083, -108.48555559999998, 23.26666667, 27.15, 25.4, 25.96666667, 18.10886111, 16.44333, 31.130409999999998, 32.6, 31.62580556, 31.26111, 29.66666667, 37.4697, -1.5105600000000001, 1.487222222, 2.119444444, 3.748333333, 1.17, -0.49361000000000005, -90.73380999999999, 48.522118, 52.890280000000004, 51.67777778, 10.29733333, 18.7, 85.30858, 7.33333, 5.32306, 19.175, 20.42278, 36.30639, 10.16667, 10.32333, 10.70694, -75.15, 4.78684, -43.50555556, 32.405559999999994, 40.579390000000004, 38.6121, 38.71861, 35.96666667, -1.625833333, -89.13333, 9.1705, 14.50739, 14.514439999999999, 14.269470000000002, 11.38555556, 68.13888889, 72.8875, 71.94583333, -79.65583333, 21.011670000000002, 36.48167, 38.26667, 12.49230556, -131.2202778, -113.65205279999999, 2.6980555560000004, 2.3016666669999997, 4.8084166669999995, 4.6306944439999995, 4.38911, 8.443055556000001, 9.938889999999999, -89.04025, 35.21666667, -4.97778, 67.9, 74.30972222, 39.52278, 3.68333, 5.736669999999999, 2.383333333, 6.468861111, -34.845, -82.35, 5.876388888999999, -72.234268, 11.256110000000001, 14.29306, 12.485, 21.85833, 80.38333333, 81.00055556, 80.75, -90.06138889, 48.626670000000004, 23.4, 27.73, 6.183333332999999, 0.86611, 10.90013889, 75.70025, 75.17917, 78.021528, 78.04222, -71.98000400000001, -27.22, -9.21583, -8.826939999999999, -8.4175, 7.45028, 9.37778, 10.44765, -66.125, -54.26583333, -75.53333333, 6.909777778, 12.457360000000001, 86.09472, 80.19167, 35.92972, 36.20494, 35.6475, 35.19444, -4.779722222, -3.59444, -3.7040111110000002, -4.126416667, 2.152972, -74.04472222, 89.8, 88.98333333, 1.983333333, -38.512980999999996, -43.860806, 26.66667, -71.21055556, 33.09583333, 4.535277778, 9.94389, 42.71833, 35.443329999999996, 36.58730556, 10.33333, -7.986669999999999, 23.183329999999998, -77.1784535, -4.116166667, -4.11675, -5.843030000000001, -8.54468, -4.70012, 11.099169999999999, 28.97993, 38.121826, 6.6333333329999995, 21.89694, 73.91167, 79.92222, 76.47166999999999, 77.6665, 9.5, -79.074737, -7.907780000000001, 20.53667, -1.10722, -4.029416667, -6.37, 37.16277778, 34.62056, -1.576111111, -2.472777778, -1.573055556, -1.825277778, -4.276944444, 44.20805556, 30.93333333, 28.37666667, -65.749813, -47.9, 116.08333, 123.4469444, 94.81667, 109.259951, 115.922702, 10.69167, 22.496170000000003, 23.72618, 19.07067, 19.52917, 75.81667, 72.93583000000001, 79.1325, 12.33894444, 10.39638889, -92.05, -99.13278000000001, -98.84167, -96.72588499999999, -98.197769, -7.128889999999999, 57.301109999999994, -5.99155, 38.763690000000004, -1.361388889, -0.128611111, -2.358611111, -107.97083329999998, -78.50388889, -2.6010000000000004, -79.98444444, 7.748888889, 22.965, 23.11666667, 28.22778, -4.555, -2.999444444, -101.25556, -88.56865400000001, 56.745, -77.0304, -5.6645, 80.64027778, 80.216346, 10.63861, 10.10389, 29.32028, -0.076111111, 1.083333333, 22.366670000000003, 21.66666667, 77.73971999999999, -8.97667, -60.5, -69.885841, 13.03333333, 25.26667, 22.75, 11.04167, 30.31833, 35.2275, 37.62972, 30.516859999999998, 60.360253, -65.259592, -42.652436, 21.511670000000002, 24.98722, 2.294166667, 4.032777778, 8.56858, 110.20361000000001, 110.49167, -101.190376, 40.73583, 1.0825, 80.64916667, 17.883329999999997, 99.78971999999999, 100.56056, 20.02095, 3.06028, 103.83333329999999, 14.41944, 14.31666667, 15.45, 2.398333333, 10.34, 26.94333, -97.37764200000001, 23.26667, 31.28333, 35.66666667, 40.41666667, 103.237589, -105.54167, -89.36916667, 8.81306, 10.88888889, 77.25056, 77.18528, -6.45, 16.61027778, 135.7333333, 134.7, -102.573531, -113.020427, -55.702672, 120.97, 24.77305556, 24.01666667, 25.71277778, 38.1312, 18.9, 20.7675, 19.27833333, -6.33778, -5.3275, -6.414722222000001, 17.54264, 16.008329999999997, 64.42860999999999, -69.67922800000001, 107.57778, 43.31552778, 117.93833000000001, 116.994561, 111.0, 91.11717, 15.94205833, 9.42, 25.183329999999998, 44.716390000000004, 42.76833333, 11.15, 6.85, 11.54944444, 135.76944440000003, 25.29306, 6.13333, -98.89777778, -75.14860999999999, 37.67389, 11.34111, 18.099439999999998, 32.68972, -64.30916667, -109.365683, -74.423084, -76.03333333, -76.23333333, 15.26666667, 12.07972222, 4.806111111, 11.33166667, 14.26277778, 9.53833, 11.61944444, 136.8833333, 102.13333, 5.771666667000001, 121.13667, -9.41667, 129.349029, 128.098711, 126.99361110000001, 18.29583, -3.2166666669999997, -57.849897999999996, 44.71028, 13.04333333, 16.31333333, 115.86666670000001, 16.775, 26.640829999999998, 1.416388889, 43.011390000000006, 6.957222222, 11.3295, 12.65278, 22.31833, 17.78444, 110.81666670000001, -10.53861, 16.27094444, 17.23694, 12.19625, 11.67861111, 132.45361100000002, 132.3246389, -11.623610000000001, -89.77027778, -100.392135, -5.558330000000001, 4.791388888999999, -8.616666667, -2.13174, -0.378444444, 22.02861, 13.64638889, -44.303369, 100.23333000000001, 112.15444, 120.45, 13.594439999999999, 16.25167, -75.870441, 24.73333333, 2.358888889, 14.32639, 7.68572, 11.88066667, 9.72917, 10.92568, 14.48333333, 14.60277778, 13.59333333, 14.33417, 8.991388889, 24.116670000000003, -103.33779799999999, -5.55694, -5.36667, 83.27611, 4.649444443999999, -68.90222, 73.58888889, -79.54055556, 18.61944, 19.03333333, 126.9911111, 127.00833, -6.77075, 2.175, -2.86496, 9.22028, -0.003777778, 15.82797222, 4.47375, 4.13722, 4.3524199999999995, -63.820485, 116.1411111, 116.4447222, 33.34333, 17.37722222, 14.25277778, 0.722944444, 4.83333, 11.328610000000001, 13.3675, 12.63333, 15.26666667, 135.83944440000002, 36.04889, -107.948122, -95.658676, 5.67889, -1.03331, -3.3680555560000003, 15.583329999999998, 26.239, 24.031979999999997, -6.661111111, -70.66666667, 15.39166667, -43.59768, 105.705, -83.71667, 16.31444, -79.00438199999999, 21.7775, -0.155277778, 13.39861111, 10.307, 22.75, 26.55, 21.156779999999998, 76.93583000000001, 12.77197222, 139.6105556, -90.53721999999999, -99.29639, 4.911111111, 13.57194, 120.3875, 19.66666667, 24.79222222, 24.05583333, 23.31194444, -62.837219999999995, 29.176940000000002, 18.36666667, -16.31177778, 62.1775, -3.1886666669999997, 108.33333329999999, 108.109169, 3.23139, -64.19111, 44.79667, 44.29514, 15.43416667, 49.83333333, 26.47272222, 3.22527, 4.36223, 3.97879, 3.3892599999999997, -68.673278, -73.76666667, 103.60528000000001, 117.9875, 112.46666670000002, 124.7938889, 15.890379999999999, -75.39138889, 17.25045833, 12.62083333, 0.7027800000000001, 12.42083, 9.061305556, 18.22778, 10.99388889, 12.62244444, 127.6827778, 5.147555556, -86.616336, 53.64759, -71.536777, 129.22666999999998, 126.92917, 49.095, 38.56666667, -16.50444, 21.27555556, 1.259305556, -0.716666667, -7.55333, 0.8036111109999999, -3.547222222, 16.48333, 9.02242, -64.67777778, -3.088055556, 39.189170000000004, 66.83333, -66.89068, 20.96239, 16.38333333, 21.73333333, -50.140164, 113.12222, 16.61605556, 3.2988888889999997, 7.046111111, 35.35275, 35.08388889, 12.79625, 40.8525, 105.82222220000001, 47.56278, -9.770305556, 16.19594444, -8.292803, -7.798888889, -3.60934, 15.63083, 32.55138889, -3.7830555560000003, -1.7883333330000002, -1.488055556, 67.0, 16.72272222, 64.51605556, 33.975429999999996, 7.694166667, 13.08527778, 21.35, 84.99389000000001, 15.06891667, -55.15, 67.82525, -65.34886111, -71.628, 15.87888889, -16.35719444, 77.58333333, 47.235, 43.26111111, 34.78333333, 9.169555556, 68.27105556, -99.46411111, 21.23333333, 48.28277778, 29.23889, -3.3712199999999997, 31.82802778, -0.294027778, 28.5, 1.5955555559999999, 144.97027780000002, 126.18722220000001, 125.415, 8.807472222000001, -21.03725, 72.83620278, 73.53333333, 53.16729, 58.36666667, 11.55, 12.10188889, 135.7763889, 35.920559999999995, 75.535, 24.83055556, -0.04456, -99.19235334, 102.67848199999999, -8.50194, 11.75, -28.54116667, 37.55508333, 20.26555556, 12.38333333, 1.133333333, -2.994444444, 14.72644444, 20.14083333, 50.52722222, 26.691390000000002, 4.39778, 17.815, -69.79406, 113.5364611, -80.45218299999999, 0.1075, 48.79667, 35.16083, 35.18222, 15.29306, 4.552219999999999, 39.87611, 59.08494, 26.33777778, -70.38277778, 114.3138889, 42.13777778, 12.09916667, 47.43666667, 8.931111111, 34.27916667, 57.50316667, -103.77861109999999, 57.53605556, 17.07701389, -3.016833333, 36.26305556, -5.3836111110000004, 35.83388889, -15.5225, 151.21527780000002, 49.375, 19.288025, -75.765125, 112.5658611, -0.5722222220000001, 19.9275, 77.24083333, 43.82354306, 132.435, -99.18805556, 14.37258333, 22.18611111, 17.20388889, 6.746111111, 58.19861111, 104.68388890000001, 117.68583329999998, 16.63861111, -77.91861111, 6.026944444, 13.45, 45.47333333, 34.97164889, 10.79444444, 39.59611111, 100.3458333, 57.32833333, -100.74638890000001, 144.33172219999997, 12.45194444, 37.955, 19.55833333, 168.1777194, 9.846388889, 4.416111111, -3.583333333, -23.60519444, 113.56333329999998, 48.83583333, 72.78277778, -77.52138889, 128.4527778, -8.406388889, 6.832777778, -3.087777778, 150.99444440000002, -37.20537476, 113.06771940000002, 2.1425, 75.825, 48.29138889, 46.29305556, 165.38055559999998, -102.3791667, -96.42111111, 4.887777778, 128.5166667, 46.57246667, 67.45872222, 105.838623, -59.61388889, 120.14083329999998, -75.77308199999999, 37.4, 3.4730555560000003, 9.812222222, 53.16666667, 13.43305556, 141.1077778, 39.67944444, 88.39527778, -86.87805556, -16.49861111, 2.694722222, 33.71666667, 36.84416667, 26.55944444, 25.92472222, 55.80638889, 105.60472220000001, 8.2075, 50.61351, 3.838333333, -43.29138889, -64.30722222, 116.18512779999999, -3.7363888889999997, 3.546111111, 11.57861111, 115.4027778, 51.68527778, 55.169, 34.96527778, 100.97232779999999, -6.822777778, 35.2075, -7.163322222000001, -12.84583333, 16.19583333, 32.82805556, -4.838888889, -56.42952222, 102.7799806, 126.50805559999999, 178.8345333, 9.393055556, 74.64611111, 51.42051111, 11.30416667, 138.7275, 7.9913888889999996, -8.425775, 51.02972222, 33.49138889, 21.03222222, 112.46833329999998, -83.502539, 4.416111111, 9.41025, 72.10166667, 61.32777778, 44.00916667, 34.89555556, 7.9636111110000005, 138.8877778, 95.81861111, 4.4183333330000005, 35.13055556, 127.18111110000001, 49.05638889, 39.1875, 29.06233611, 27.18, -91.40638889, -69.59166667, 108.85722220000001, 109.96694440000002, 9.481388889, 12.35777778, 4.864444444, 3.9461111110000004, 9.999444444, 55.37555556, 48.25611111, 35.12694444, 13.35305556, 131.4122222, 35.55277778, -98.66256667, 109.0093278, 8.593611111, 127.1272222, 40.91305556, 103.81611109999999, 27.35944444, 40.23930833, -3.388888889, -98.46, -58.33166667, -61.76166667, -43.97361111, 107.02305559999999, 24.28527778, 85.44388889, 58.65444444, 158.33083330000002, -4.544444444, 43.56666667, -5.3420611110000005, 17.92405278, 14.24972222, -43.18739444, 105.04305559999999, 118.06194440000002, -45.59805556, 38.93583333, -151.3723778, 9.765555556, 72.58805556, 54.36916667, 130.10555559999997, 35.10888889, 18.85122778, 48.65277778, 20.37458333, 28.72361111, -3.082416667, 9.663611111, -51.43320556, 11.804, 9.454111111, 72.83008333, 51.57045, 7.869166667000001, 128.9038889, 34.326107, 59.37811111, 127.83333329999999, 49.63056944, -4.867694444, 38.92236389, 141.8852778, 47.1875, 50.51277778, -3.3289861110000003, -111.63333329999999, 119.99083329999999, 15.48425833, 10.902000000000001, 75.82186111, 100.7378833, 44.42083333, 12.22611111, 135.6094444, 103.15222220000001, 94.88444444, 21.50230556, -9.325527778, -8.377027777999999, 128.8434278, 28.32855556, -15.66119444, -2.303861111, -79.46647556, 12.83734444, -43.54622222, -70.32157222, 118.44416670000001, -6.410166667, -1.173333333, 7.272305556, 8.6675, 8.439538889, 79.94320556, 70.21330278, 51.39833333, 46.47785, 11.87961111, 11.33277778, 140.5522167, 35.72830556, -78.23591667, 23.13055556, 36.01263889, 44.54533611, 14.50222222, -3.6870555560000002, 38.36102778, -4.115, -55.76640833, 5.866944444, 16.86138889, 6.391588888999999, 4.433], \"marker\": {\"color\": \"#636efa\"}, \"mode\": \"markers\", \"name\": \"Cultural\", \"showlegend\": true, \"subplot\": \"mapbox\", \"type\": \"scattermapbox\"}, {\"hovertemplate\": \"category_long=Natural<br>latitude=%{lat}<br>longitude=%{lon}<extra></extra>\", \"lat\": [61.54722222, -0.68986, 13.18333333, 44.46056, 50.76777778, 44.87778, 0.916666667, 27.96528, 36.10083333, 25.55444444, 52.7275, 61.19758333, 4.0, -2.334053, 43.133, 37.16361, 41.37388889, -50.0, -18.28611111, 7.7361111110000005, 16.414602, 12.841271, -2.33333, 37.18722222, 47.74833333, 7.60318, -31.56555556, 5.648888889, 15.74444444, -9.416666667000001, -9.0, 44.11444, 41.74272222, 59.35833333, 9.0, -1.83333, 42.32519444, -4.3291699999999995, 35.59305556, 9.407083333, -25.577357, 51.42472222, -2.0, -14.03333, 27.5, 37.74611111, -15.81944444, 26.66666667, 26.725, 27.15888889, -9.33333, -28.25, -25.504306, 45.66667, 28.12625, 55.25, 3.0, 49.6125, 21.945, 19.383329999999997, -12.25, -3.0666700000000002, 19.40083333, -15.65, 9.0, 30.71667, 6.416666667, -24.36666667, 20.234720000000003, -17.924529999999997, -18.66667, -45.03602778, -25.48611111, -6.75, -8.543330000000001, 18.0, 45.08333, 15.333329999999998, -25.21666667, 33.08333, 32.75417, 29.33333, 30.315, 40.4525, 27.79222, 8.953333333, -19.08333333, 7.803975, 36.9477, -1.080555556, 0.223611111, 5.337994, 20.9, 49.91667, 63.62583333, -40.32472222, 32.16666667, 48.99605556, 48.47573, 17.190549, 2.0, 53.17361111, 56.33333333, 11.88416667, -53.1, -54.59472222, 21.95, 5.533333333, 15.331113, -0.155, 3.0513055560000004, -50.75, 50.46666667, -11.68333, -42.5, -16.5, -24.16667, 48.105, 10.85, 19.883329999999997, -4.75, 10.16666667, 32.76666667, 44.0, -27.838890000000003, -30.0, -33.7, -14.266670000000001, -2.333333333, -17.670317999999998, 38.48786111, 6.25, 4.13333, 4.0, 63.3, -3.8579444439999997, -14.00569444, 20.45, 46.68333333, 46.5, 50.70555556, -17.5, 27.895, 17.53722222, 45.88888889, 50.275, 69.13333333, -2.5, 71.18888889, 13.80708333, -34.36111111, 29.33333, 43.94944, 27.62667, 62.11666999999999, 7.433, -26.86, 14.33, 30.83333333, 4.003344, 24.92333333, -14.45972222, 33.46888889, 28.27138889, 0.0, 45.70972222, 28.91583333, -20.41194444, 63.30305556, 50.43333333, 19.60638889, 46.91666667, 12.5, 46.61305556, 53.52861111, 28.42194444, -21.09944444, -3.8644540000000003, 69.04694444, 7.45245, -22.5625, 27.71833333, -0.4425, 19.055, 24.66888889, 8.529722222, 60.66666667, 2.609444444, 41.96833333, 37.75611111, 32.0, -24.88527778, 38.765, -19.28333333, 55.26722222, 31.83333333, 6.717169444, 46.635, 31.46972222, 30.21611111, 18.78805556, 19.73611111, 43.71833333, -42.8528, 35.38027778, 49.93022222, 27.89555556, 45.77938889, -25.97388889, 32.93194444, -49.38036111, 64.577363, 37.42147222, 0.406111111, 41.70227778, 28.27916667, 34.82882222, 12.86566667], \"legendgroup\": \"Natural\", \"lon\": [-125.58944440000002, -90.501319, 38.06666667, -110.82778, -111.4922222, 15.61444, 29.16666667, 86.91306, -112.09055559999999, -80.99638889, 23.98111111, -140.9919722, 29.25, 28.180743, 19.0166, 9.674719999999999, -123.99805559999999, -73.24944, 147.7, -77.54722222, -16.237906, -12.899780999999999, 34.56667, -86.10305556, -123.4488889, -8.39097, 159.08833330000002, -7.095277778, -84.675, 46.41666667, 37.4, 27.078059999999997, 23.43047222, -112.29333329999999, -4.0, -78.33333, 8.628833333, 55.7375, -83.43555556, -82.93880556, -54.286072999999995, -116.47972220000001, 21.0, 34.88333, 84.33333, -119.59666670000001, 29.40805556, 93.41666667, 91.03055556, 77.50861111, -77.4, 150.05, -54.032849, 14.0, -17.23722222, -6.4852777779999995, 13.0, -57.53138889, 88.89583333, -87.79167, -71.75, 37.36667, -155.1236111, 144.9666667, 21.5, 79.66667, 80.5, -128.3333333, -16.10889, 25.85539, 44.75, 167.3196111, 113.4361111, 105.33333329999999, 119.48943999999999, 9.0, 29.5, 98.91667, 153.1333333, 103.91667, 103.82222, 110.5, 130.5086111, 140.1155556, -114.22778000000001, 119.8675, 138.7166667, -77.146271, -6.358861, 29.66138889, 29.92416667, -62.037882999999994, 107.1, 8.75389, 58.9525, -9.928611111, -104.3833333, -113.90416670000002, 20.48687, -87.846213, 28.5, 107.6625, 158.5, 2.4877777780000003, 73.5, 158.8955556, 89.18333, -87.06666667, -61.30661, 37.31555556, 36.50366667, 166.1044444, 86.0, 160.33333000000002, -64.0, -39.25, -48.0, -66.35305556, -85.61666667, -77.63333, 137.83333000000002, 118.91666670000001, -17.0, 40.0, 32.55, -68.0, 150.0, -60.86666999999999, -62.00833333, -57.461874, 14.94558333, 116.5, 114.91667, -56.5, 21.3, -32.42511111, -47.68461111, -75.0, 136.6611111, 8.033333333, -2.989888889, 128.5, 98.40638889, 106.15125, 8.913888888999999, 92.71972222, -49.5, 101.5, -179.71527780000002, -61.07036111, 18.475, 30.183329999999998, 144.96583, -112.54583000000001, 7.16667, -81.766, 27.26, 102.05, 103.0, -81.60757199999999, 110.35444440000002, 49.7025, 126.72027779999999, -16.64361111, 0.0, -64.43583333, 118.06444440000001, 164.5663889, -20.60222222, 69.18888889, -100.2416667, 9.25, 53.83333333, 12.16305556, 8.556111111, 106.0425, 55.48, -172.650203, 94.15805556, 80.8021, 113.8102778, 142.09972219999997, 36.24, 20.50555556, 102.9772222, 77.24972222, 127.0, 16.55416667, 80.35416667, 14.99666667, -113.91666670000001, 15.40777778, 72.30527778, 22.9, 12.42333333, 77.58333333, 126.17343059999999, -53.21111111, 110.20777779999999, 58.83888889, -110.97527779999999, 37.44305556, 68.67888889, -71.8728, 92.43916667, 115.42544440000002, 108.68, 2.965111111, 31.01388889, 121.0168139, 69.35280556, -16.88154044, 55.72427778, 12.64083333, 41.9512, 129.37833329999998, 126.10444440000002, 99.40016667], \"marker\": {\"color\": \"#EF553B\"}, \"mode\": \"markers\", \"name\": \"Natural\", \"showlegend\": true, \"subplot\": \"mapbox\", \"type\": \"scattermapbox\"}, {\"hovertemplate\": \"category_long=Mixed<br>latitude=%{lat}<br>longitude=%{lon}<extra></extra>\", \"lat\": [17.21666667, -3.18722, 40.99183333, -12.83333333, -34.0, 25.5, -41.58333333, -13.184934, 38.66667, 57.81722222, -25.33333333, 36.26667, 40.26667, 39.71667, 37.92389, 14.333329999999998, 30.145333, -39.29083333, -7.75, 29.5449, 67.33333, 42.68542, 27.72638889, 38.91113889, -29.76527778, 18.05302778, -0.5, 25.34907, 29.63972222, 7.246925, 20.25666667, 18.0775, 17.04166667, 27.76472222, 31.56222222, 51.82641667, 0.525277778, 17.98996111, -23.01860556], \"legendgroup\": \"Mixed\", \"lon\": [-89.61666667, 35.54083, 20.70416667, 132.8333333, 143.0, 9.0, 145.41666669999998, -72.533443, 34.85, -8.576666667000001, 131.0, 117.1, 24.21667, 21.633329999999997, 29.12333, -3.41667, 118.155083, 175.56222219999998, -77.25, 103.76925, 17.58333, -0.0005, 117.72527779999999, 1.435194444, 29.12305556, -89.73728333, 11.5, -170.14582, 35.43388889, 134.3525, 105.89638889999999, -76.57111111, 21.86277778, 88.37722222, 47.65777778, -95.41127778, -72.79722222, -97.18715278, -44.68536944], \"marker\": {\"color\": \"#00cc96\"}, \"mode\": \"markers\", \"name\": \"Mixed\", \"showlegend\": true, \"subplot\": \"mapbox\", \"type\": \"scattermapbox\"}],\n",
       "                        {\"legend\": {\"title\": {\"text\": \"category_long\"}, \"tracegroupgap\": 0}, \"mapbox\": {\"accesstoken\": \"pk.eyJ1IjoiZXZlZ2FyY2lhbnoiLCJhIjoiY2t5ZXR6MXVrMWNlNjJxbzhjcmptdWg2bSJ9.fmrbGI8SzC0WlouTElFzlA\", \"center\": {\"lat\": 28.978184826694108, \"lon\": 20.63367475940467}, \"domain\": {\"x\": [0.0, 1.0], \"y\": [0.0, 1.0]}, \"zoom\": 12}, \"margin\": {\"t\": 60}, \"template\": {\"data\": {\"bar\": [{\"error_x\": {\"color\": \"#2a3f5f\"}, \"error_y\": {\"color\": \"#2a3f5f\"}, \"marker\": {\"line\": {\"color\": \"#E5ECF6\", \"width\": 0.5}}, \"type\": \"bar\"}], \"barpolar\": [{\"marker\": {\"line\": {\"color\": \"#E5ECF6\", \"width\": 0.5}}, \"type\": \"barpolar\"}], \"carpet\": [{\"aaxis\": {\"endlinecolor\": \"#2a3f5f\", \"gridcolor\": \"white\", \"linecolor\": \"white\", \"minorgridcolor\": \"white\", \"startlinecolor\": \"#2a3f5f\"}, \"baxis\": {\"endlinecolor\": \"#2a3f5f\", \"gridcolor\": \"white\", \"linecolor\": \"white\", \"minorgridcolor\": \"white\", \"startlinecolor\": \"#2a3f5f\"}, \"type\": \"carpet\"}], \"choropleth\": [{\"colorbar\": {\"outlinewidth\": 0, \"ticks\": \"\"}, \"type\": \"choropleth\"}], \"contour\": [{\"colorbar\": {\"outlinewidth\": 0, \"ticks\": \"\"}, \"colorscale\": [[0.0, \"#0d0887\"], [0.1111111111111111, \"#46039f\"], [0.2222222222222222, \"#7201a8\"], [0.3333333333333333, \"#9c179e\"], [0.4444444444444444, \"#bd3786\"], [0.5555555555555556, \"#d8576b\"], [0.6666666666666666, \"#ed7953\"], [0.7777777777777778, \"#fb9f3a\"], [0.8888888888888888, \"#fdca26\"], [1.0, \"#f0f921\"]], \"type\": \"contour\"}], \"contourcarpet\": [{\"colorbar\": {\"outlinewidth\": 0, \"ticks\": \"\"}, \"type\": \"contourcarpet\"}], \"heatmap\": [{\"colorbar\": {\"outlinewidth\": 0, \"ticks\": \"\"}, \"colorscale\": [[0.0, \"#0d0887\"], [0.1111111111111111, \"#46039f\"], [0.2222222222222222, \"#7201a8\"], [0.3333333333333333, \"#9c179e\"], [0.4444444444444444, \"#bd3786\"], [0.5555555555555556, \"#d8576b\"], [0.6666666666666666, \"#ed7953\"], [0.7777777777777778, \"#fb9f3a\"], [0.8888888888888888, \"#fdca26\"], [1.0, \"#f0f921\"]], \"type\": \"heatmap\"}], \"heatmapgl\": [{\"colorbar\": {\"outlinewidth\": 0, \"ticks\": \"\"}, \"colorscale\": [[0.0, \"#0d0887\"], [0.1111111111111111, \"#46039f\"], [0.2222222222222222, \"#7201a8\"], [0.3333333333333333, \"#9c179e\"], [0.4444444444444444, \"#bd3786\"], [0.5555555555555556, \"#d8576b\"], [0.6666666666666666, \"#ed7953\"], [0.7777777777777778, \"#fb9f3a\"], [0.8888888888888888, \"#fdca26\"], [1.0, \"#f0f921\"]], \"type\": \"heatmapgl\"}], \"histogram\": [{\"marker\": {\"colorbar\": {\"outlinewidth\": 0, \"ticks\": \"\"}}, \"type\": \"histogram\"}], \"histogram2d\": [{\"colorbar\": {\"outlinewidth\": 0, \"ticks\": \"\"}, \"colorscale\": [[0.0, \"#0d0887\"], [0.1111111111111111, \"#46039f\"], [0.2222222222222222, \"#7201a8\"], [0.3333333333333333, \"#9c179e\"], [0.4444444444444444, \"#bd3786\"], [0.5555555555555556, \"#d8576b\"], [0.6666666666666666, \"#ed7953\"], [0.7777777777777778, \"#fb9f3a\"], [0.8888888888888888, \"#fdca26\"], [1.0, \"#f0f921\"]], \"type\": \"histogram2d\"}], \"histogram2dcontour\": [{\"colorbar\": {\"outlinewidth\": 0, \"ticks\": \"\"}, \"colorscale\": [[0.0, \"#0d0887\"], [0.1111111111111111, \"#46039f\"], [0.2222222222222222, \"#7201a8\"], [0.3333333333333333, \"#9c179e\"], [0.4444444444444444, \"#bd3786\"], [0.5555555555555556, \"#d8576b\"], [0.6666666666666666, \"#ed7953\"], [0.7777777777777778, \"#fb9f3a\"], [0.8888888888888888, \"#fdca26\"], [1.0, \"#f0f921\"]], \"type\": \"histogram2dcontour\"}], \"mesh3d\": [{\"colorbar\": {\"outlinewidth\": 0, \"ticks\": \"\"}, \"type\": \"mesh3d\"}], \"parcoords\": [{\"line\": {\"colorbar\": {\"outlinewidth\": 0, \"ticks\": \"\"}}, \"type\": \"parcoords\"}], \"pie\": [{\"automargin\": true, \"type\": \"pie\"}], \"scatter\": [{\"marker\": {\"colorbar\": {\"outlinewidth\": 0, \"ticks\": \"\"}}, \"type\": \"scatter\"}], \"scatter3d\": [{\"line\": {\"colorbar\": {\"outlinewidth\": 0, \"ticks\": \"\"}}, \"marker\": {\"colorbar\": {\"outlinewidth\": 0, \"ticks\": \"\"}}, \"type\": \"scatter3d\"}], \"scattercarpet\": [{\"marker\": {\"colorbar\": {\"outlinewidth\": 0, \"ticks\": \"\"}}, \"type\": \"scattercarpet\"}], \"scattergeo\": [{\"marker\": {\"colorbar\": {\"outlinewidth\": 0, \"ticks\": \"\"}}, \"type\": \"scattergeo\"}], \"scattergl\": [{\"marker\": {\"colorbar\": {\"outlinewidth\": 0, \"ticks\": \"\"}}, \"type\": \"scattergl\"}], \"scattermapbox\": [{\"marker\": {\"colorbar\": {\"outlinewidth\": 0, \"ticks\": \"\"}}, \"type\": \"scattermapbox\"}], \"scatterpolar\": [{\"marker\": {\"colorbar\": {\"outlinewidth\": 0, \"ticks\": \"\"}}, \"type\": \"scatterpolar\"}], \"scatterpolargl\": [{\"marker\": {\"colorbar\": {\"outlinewidth\": 0, \"ticks\": \"\"}}, \"type\": \"scatterpolargl\"}], \"scatterternary\": [{\"marker\": {\"colorbar\": {\"outlinewidth\": 0, \"ticks\": \"\"}}, \"type\": \"scatterternary\"}], \"surface\": [{\"colorbar\": {\"outlinewidth\": 0, \"ticks\": \"\"}, \"colorscale\": [[0.0, \"#0d0887\"], [0.1111111111111111, \"#46039f\"], [0.2222222222222222, \"#7201a8\"], [0.3333333333333333, \"#9c179e\"], [0.4444444444444444, \"#bd3786\"], [0.5555555555555556, \"#d8576b\"], [0.6666666666666666, \"#ed7953\"], [0.7777777777777778, \"#fb9f3a\"], [0.8888888888888888, \"#fdca26\"], [1.0, \"#f0f921\"]], \"type\": \"surface\"}], \"table\": [{\"cells\": {\"fill\": {\"color\": \"#EBF0F8\"}, \"line\": {\"color\": \"white\"}}, \"header\": {\"fill\": {\"color\": \"#C8D4E3\"}, \"line\": {\"color\": \"white\"}}, \"type\": \"table\"}]}, \"layout\": {\"annotationdefaults\": {\"arrowcolor\": \"#2a3f5f\", \"arrowhead\": 0, \"arrowwidth\": 1}, \"coloraxis\": {\"colorbar\": {\"outlinewidth\": 0, \"ticks\": \"\"}}, \"colorscale\": {\"diverging\": [[0, \"#8e0152\"], [0.1, \"#c51b7d\"], [0.2, \"#de77ae\"], [0.3, \"#f1b6da\"], [0.4, \"#fde0ef\"], [0.5, \"#f7f7f7\"], [0.6, \"#e6f5d0\"], [0.7, \"#b8e186\"], [0.8, \"#7fbc41\"], [0.9, \"#4d9221\"], [1, \"#276419\"]], \"sequential\": [[0.0, \"#0d0887\"], [0.1111111111111111, \"#46039f\"], [0.2222222222222222, \"#7201a8\"], [0.3333333333333333, \"#9c179e\"], [0.4444444444444444, \"#bd3786\"], [0.5555555555555556, \"#d8576b\"], [0.6666666666666666, \"#ed7953\"], [0.7777777777777778, \"#fb9f3a\"], [0.8888888888888888, \"#fdca26\"], [1.0, \"#f0f921\"]], \"sequentialminus\": [[0.0, \"#0d0887\"], [0.1111111111111111, \"#46039f\"], [0.2222222222222222, \"#7201a8\"], [0.3333333333333333, \"#9c179e\"], [0.4444444444444444, \"#bd3786\"], [0.5555555555555556, \"#d8576b\"], [0.6666666666666666, \"#ed7953\"], [0.7777777777777778, \"#fb9f3a\"], [0.8888888888888888, \"#fdca26\"], [1.0, \"#f0f921\"]]}, \"colorway\": [\"#636efa\", \"#EF553B\", \"#00cc96\", \"#ab63fa\", \"#FFA15A\", \"#19d3f3\", \"#FF6692\", \"#B6E880\", \"#FF97FF\", \"#FECB52\"], \"font\": {\"color\": \"#2a3f5f\"}, \"geo\": {\"bgcolor\": \"white\", \"lakecolor\": \"white\", \"landcolor\": \"#E5ECF6\", \"showlakes\": true, \"showland\": true, \"subunitcolor\": \"white\"}, \"hoverlabel\": {\"align\": \"left\"}, \"hovermode\": \"closest\", \"mapbox\": {\"style\": \"light\"}, \"paper_bgcolor\": \"white\", \"plot_bgcolor\": \"#E5ECF6\", \"polar\": {\"angularaxis\": {\"gridcolor\": \"white\", \"linecolor\": \"white\", \"ticks\": \"\"}, \"bgcolor\": \"#E5ECF6\", \"radialaxis\": {\"gridcolor\": \"white\", \"linecolor\": \"white\", \"ticks\": \"\"}}, \"scene\": {\"xaxis\": {\"backgroundcolor\": \"#E5ECF6\", \"gridcolor\": \"white\", \"gridwidth\": 2, \"linecolor\": \"white\", \"showbackground\": true, \"ticks\": \"\", \"zerolinecolor\": \"white\"}, \"yaxis\": {\"backgroundcolor\": \"#E5ECF6\", \"gridcolor\": \"white\", \"gridwidth\": 2, \"linecolor\": \"white\", \"showbackground\": true, \"ticks\": \"\", \"zerolinecolor\": \"white\"}, \"zaxis\": {\"backgroundcolor\": \"#E5ECF6\", \"gridcolor\": \"white\", \"gridwidth\": 2, \"linecolor\": \"white\", \"showbackground\": true, \"ticks\": \"\", \"zerolinecolor\": \"white\"}}, \"shapedefaults\": {\"line\": {\"color\": \"#2a3f5f\"}}, \"ternary\": {\"aaxis\": {\"gridcolor\": \"white\", \"linecolor\": \"white\", \"ticks\": \"\"}, \"baxis\": {\"gridcolor\": \"white\", \"linecolor\": \"white\", \"ticks\": \"\"}, \"bgcolor\": \"#E5ECF6\", \"caxis\": {\"gridcolor\": \"white\", \"linecolor\": \"white\", \"ticks\": \"\"}}, \"title\": {\"x\": 0.05}, \"xaxis\": {\"automargin\": true, \"gridcolor\": \"white\", \"linecolor\": \"white\", \"ticks\": \"\", \"title\": {\"standoff\": 15}, \"zerolinecolor\": \"white\", \"zerolinewidth\": 2}, \"yaxis\": {\"automargin\": true, \"gridcolor\": \"white\", \"linecolor\": \"white\", \"ticks\": \"\", \"title\": {\"standoff\": 15}, \"zerolinecolor\": \"white\", \"zerolinewidth\": 2}}}},\n",
       "                        {\"responsive\": true}\n",
       "                    ).then(function(){\n",
       "                            \n",
       "var gd = document.getElementById('320354f7-d19c-4899-b7d9-e6c998445778');\n",
       "var x = new MutationObserver(function (mutations, observer) {{\n",
       "        var display = window.getComputedStyle(gd).display;\n",
       "        if (!display || display === 'none') {{\n",
       "            console.log([gd, 'removed!']);\n",
       "            Plotly.purge(gd);\n",
       "            observer.disconnect();\n",
       "        }}\n",
       "}});\n",
       "\n",
       "// Listen for the removal of the full notebook cells\n",
       "var notebookContainer = gd.closest('#notebook-container');\n",
       "if (notebookContainer) {{\n",
       "    x.observe(notebookContainer, {childList: true});\n",
       "}}\n",
       "\n",
       "// Listen for the clearing of the current output cell\n",
       "var outputEl = gd.closest('.output');\n",
       "if (outputEl) {{\n",
       "    x.observe(outputEl, {childList: true});\n",
       "}}\n",
       "\n",
       "                        })\n",
       "                };\n",
       "                });\n",
       "            </script>\n",
       "        </div>"
      ]
     },
     "metadata": {},
     "output_type": "display_data"
    }
   ],
   "source": [
    "px.set_mapbox_access_token(\"pk.eyJ1IjoiZXZlZ2FyY2lhbnoiLCJhIjoiY2t5ZXR6MXVrMWNlNjJxbzhjcmptdWg2bSJ9.fmrbGI8SzC0WlouTElFzlA\")\n",
    "fig = px.scatter_mapbox(df, lat=\"latitude\", lon=\"longitude\",color=\"category_long\",\n",
    "                  color_continuous_scale=px.colors.cyclical.IceFire, size_max=20,zoom=12)\n",
    "fig.show()"
   ]
  },
  {
   "cell_type": "markdown",
   "metadata": {},
   "source": [
    "We can plot each region separately, defining a data frame with the desired area."
   ]
  },
  {
   "cell_type": "code",
   "execution_count": 47,
   "metadata": {},
   "outputs": [],
   "source": [
    "df_toPlot=df[df['Region']=='Latin America and the Caribbean']"
   ]
  },
  {
   "cell_type": "code",
   "execution_count": 48,
   "metadata": {},
   "outputs": [
    {
     "data": {
      "application/vnd.plotly.v1+json": {
       "config": {
        "plotlyServerURL": "https://plot.ly"
       },
       "data": [
        {
         "hovertemplate": "category_long=Natural<br>latitude=%{lat}<br>longitude=%{lon}<extra></extra>",
         "lat": [
          -0.68986,
          -50,
          7.7361111110000005,
          15.74444444,
          -1.83333,
          9.407083333,
          -25.577357,
          -9.33333,
          -25.504306,
          19.383329999999997,
          -12.25,
          27.79222,
          7.803975,
          5.337994,
          17.190549,
          5.533333333,
          15.331113,
          -42.5,
          -16.5,
          -24.16667,
          10.85,
          19.883329999999997,
          -30,
          -14.266670000000001,
          -2.333333333,
          -17.670317999999998,
          4,
          -3.8579444439999997,
          -14.00569444,
          20.45,
          13.80708333,
          27.62667,
          7.433,
          4.003344,
          19.60638889,
          32,
          18.78805556,
          -42.8528
         ],
         "legendgroup": "Natural",
         "lon": [
          -90.501319,
          -73.24944,
          -77.54722222,
          -84.675,
          -78.33333,
          -82.93880556,
          -54.286072999999995,
          -77.4,
          -54.032849,
          -87.79167,
          -71.75,
          -114.22778000000001,
          -77.146271,
          -62.037882999999994,
          -87.846213,
          -87.06666667,
          -61.30661,
          -64,
          -39.25,
          -48,
          -85.61666667,
          -77.63333,
          -68,
          -60.86666999999999,
          -62.00833333,
          -57.461874,
          -56.5,
          -32.42511111,
          -47.68461111,
          -75,
          -61.07036111,
          -112.54583000000001,
          -81.766,
          -81.60757199999999,
          -100.2416667,
          -113.91666670000001,
          -110.97527779999999,
          -71.8728
         ],
         "marker": {
          "color": "#636efa"
         },
         "mode": "markers",
         "name": "Natural",
         "showlegend": true,
         "subplot": "mapbox",
         "type": "scattermapbox"
        },
        {
         "hovertemplate": "category_long=Cultural<br>latitude=%{lat}<br>longitude=%{lon}<extra></extra>",
         "lat": [
          -0.22,
          14.556504,
          -20.38888889,
          14.85,
          9.553888889,
          15.270589999999999,
          -8.013333333,
          23.13333333,
          19.573025,
          -13.517276,
          -28.54333333,
          10.41666667,
          -12.972917,
          -20.508201,
          -9.592772543999999,
          -8.107836,
          -19.599111999999998,
          -15.78333,
          17.48333,
          19.418329999999997,
          19.691670000000002,
          17.061579000000002,
          19.045967,
          21.80305556,
          21.016939999999998,
          20.682739,
          -12.046542,
          -16,
          18.472394,
          -19.04799,
          -8.718634,
          19.700927,
          20.446095,
          13.8275,
          22.775484,
          27.626963,
          -27.131613,
          11.409794,
          18.93472222,
          -14.725829999999998,
          -27.074403000000004,
          9.240492,
          2.583333333,
          1.9166666669999999,
          -34.47119,
          20.36166667,
          20.593292,
          -2.5300540000000002,
          19.968446,
          20.676888,
          8.951111111,
          -18.178323000000002,
          30.367128000000005,
          18.613459,
          -47.15,
          -18.244776,
          22.616670000000003,
          -2.897447,
          19.84639,
          18.803972,
          17.34694,
          -31.42056,
          -16.555003,
          -42.5,
          20.03,
          12.40047,
          -16.398353,
          10.490730000000001,
          -15.934231,
          5.82611,
          -23.19986111,
          -33.04063889,
          21.20438889,
          19.41119788,
          -20.205820000000003,
          22.145887,
          -34.08444444,
          20.86305556,
          19.33222222,
          21.37861111,
          20.91444444,
          -10.89166667,
          -11.01365544,
          22.60805556,
          16.95083333,
          13.09666667,
          4.889476,
          12.435,
          -22.94777778,
          8.938452999999999,
          -18.25,
          19.83527778,
          -33.11777778,
          17.00694444,
          -19.85194444,
          -22.89711111,
          -23.02237778,
          -18.48196111,
          -9.556861111,
          -34.74391944
         ],
         "legendgroup": "Cultural",
         "lon": [
          -78.51208333,
          -90.73380999999999,
          -43.50555556,
          -89.13333,
          -79.65583333,
          -89.04025,
          -34.845,
          -82.35,
          -72.234268,
          -71.98000400000001,
          -54.26583333,
          -75.53333333,
          -38.512980999999996,
          -43.860806,
          -77.1784535,
          -79.074737,
          -65.749813,
          -47.9,
          -92.05,
          -99.13278000000001,
          -98.84167,
          -96.72588499999999,
          -98.197769,
          -79.98444444,
          -101.25556,
          -88.56865400000001,
          -77.0304,
          -60.5,
          -69.885841,
          -65.259592,
          -42.652436,
          -101.190376,
          -97.37764200000001,
          -89.36916667,
          -102.573531,
          -113.020427,
          -55.702672,
          -69.67922800000001,
          -98.89777778,
          -75.14860999999999,
          -109.365683,
          -74.423084,
          -76.03333333,
          -76.23333333,
          -57.849897999999996,
          -89.77027778,
          -100.392135,
          -44.303369,
          -75.870441,
          -103.33779799999999,
          -79.54055556,
          -63.820485,
          -107.948122,
          -95.658676,
          -70.66666667,
          -43.59768,
          -83.71667,
          -79.00438199999999,
          -90.53721999999999,
          -99.29639,
          -62.837219999999995,
          -64.19111,
          -68.673278,
          -73.76666667,
          -75.39138889,
          -86.616336,
          -71.536777,
          -66.89068,
          -50.140164,
          -55.15,
          -65.34886111,
          -71.628,
          -99.46411111,
          -99.19235334,
          -69.79406,
          -80.45218299999999,
          -70.38277778,
          -103.77861109999999,
          -99.18805556,
          -77.91861111,
          -100.74638890000001,
          -77.52138889,
          -37.20537476,
          -102.3791667,
          -96.42111111,
          -59.61388889,
          -75.77308199999999,
          -86.87805556,
          -43.29138889,
          -83.502539,
          -69.59166667,
          -98.66256667,
          -58.33166667,
          -61.76166667,
          -43.97361111,
          -43.18739444,
          -43.54622222,
          -70.32157222,
          -78.23591667,
          -55.76640833
         ],
         "marker": {
          "color": "#EF553B"
         },
         "mode": "markers",
         "name": "Cultural",
         "showlegend": true,
         "subplot": "mapbox",
         "type": "scattermapbox"
        },
        {
         "hovertemplate": "category_long=Mixed<br>latitude=%{lat}<br>longitude=%{lon}<extra></extra>",
         "lat": [
          17.21666667,
          -13.184934,
          -7.75,
          18.05302778,
          18.0775,
          0.525277778,
          17.98996111,
          -23.01860556
         ],
         "legendgroup": "Mixed",
         "lon": [
          -89.61666667,
          -72.533443,
          -77.25,
          -89.73728333,
          -76.57111111,
          -72.79722222,
          -97.18715278,
          -44.68536944
         ],
         "marker": {
          "color": "#00cc96"
         },
         "mode": "markers",
         "name": "Mixed",
         "showlegend": true,
         "subplot": "mapbox",
         "type": "scattermapbox"
        }
       ],
       "layout": {
        "legend": {
         "title": {
          "text": "category_long"
         },
         "tracegroupgap": 0
        },
        "mapbox": {
         "accesstoken": "pk.eyJ1IjoiZXZlZ2FyY2lhbnoiLCJhIjoiY2t5ZXR6MXVrMWNlNjJxbzhjcmptdWg2bSJ9.fmrbGI8SzC0WlouTElFzlA",
         "center": {
          "lat": 0.6787213403424658,
          "lon": -75.74306318842466
         },
         "domain": {
          "x": [
           0,
           1
          ],
          "y": [
           0,
           1
          ]
         },
         "zoom": 12
        },
        "margin": {
         "t": 60
        },
        "template": {
         "data": {
          "bar": [
           {
            "error_x": {
             "color": "#2a3f5f"
            },
            "error_y": {
             "color": "#2a3f5f"
            },
            "marker": {
             "line": {
              "color": "#E5ECF6",
              "width": 0.5
             }
            },
            "type": "bar"
           }
          ],
          "barpolar": [
           {
            "marker": {
             "line": {
              "color": "#E5ECF6",
              "width": 0.5
             }
            },
            "type": "barpolar"
           }
          ],
          "carpet": [
           {
            "aaxis": {
             "endlinecolor": "#2a3f5f",
             "gridcolor": "white",
             "linecolor": "white",
             "minorgridcolor": "white",
             "startlinecolor": "#2a3f5f"
            },
            "baxis": {
             "endlinecolor": "#2a3f5f",
             "gridcolor": "white",
             "linecolor": "white",
             "minorgridcolor": "white",
             "startlinecolor": "#2a3f5f"
            },
            "type": "carpet"
           }
          ],
          "choropleth": [
           {
            "colorbar": {
             "outlinewidth": 0,
             "ticks": ""
            },
            "type": "choropleth"
           }
          ],
          "contour": [
           {
            "colorbar": {
             "outlinewidth": 0,
             "ticks": ""
            },
            "colorscale": [
             [
              0,
              "#0d0887"
             ],
             [
              0.1111111111111111,
              "#46039f"
             ],
             [
              0.2222222222222222,
              "#7201a8"
             ],
             [
              0.3333333333333333,
              "#9c179e"
             ],
             [
              0.4444444444444444,
              "#bd3786"
             ],
             [
              0.5555555555555556,
              "#d8576b"
             ],
             [
              0.6666666666666666,
              "#ed7953"
             ],
             [
              0.7777777777777778,
              "#fb9f3a"
             ],
             [
              0.8888888888888888,
              "#fdca26"
             ],
             [
              1,
              "#f0f921"
             ]
            ],
            "type": "contour"
           }
          ],
          "contourcarpet": [
           {
            "colorbar": {
             "outlinewidth": 0,
             "ticks": ""
            },
            "type": "contourcarpet"
           }
          ],
          "heatmap": [
           {
            "colorbar": {
             "outlinewidth": 0,
             "ticks": ""
            },
            "colorscale": [
             [
              0,
              "#0d0887"
             ],
             [
              0.1111111111111111,
              "#46039f"
             ],
             [
              0.2222222222222222,
              "#7201a8"
             ],
             [
              0.3333333333333333,
              "#9c179e"
             ],
             [
              0.4444444444444444,
              "#bd3786"
             ],
             [
              0.5555555555555556,
              "#d8576b"
             ],
             [
              0.6666666666666666,
              "#ed7953"
             ],
             [
              0.7777777777777778,
              "#fb9f3a"
             ],
             [
              0.8888888888888888,
              "#fdca26"
             ],
             [
              1,
              "#f0f921"
             ]
            ],
            "type": "heatmap"
           }
          ],
          "heatmapgl": [
           {
            "colorbar": {
             "outlinewidth": 0,
             "ticks": ""
            },
            "colorscale": [
             [
              0,
              "#0d0887"
             ],
             [
              0.1111111111111111,
              "#46039f"
             ],
             [
              0.2222222222222222,
              "#7201a8"
             ],
             [
              0.3333333333333333,
              "#9c179e"
             ],
             [
              0.4444444444444444,
              "#bd3786"
             ],
             [
              0.5555555555555556,
              "#d8576b"
             ],
             [
              0.6666666666666666,
              "#ed7953"
             ],
             [
              0.7777777777777778,
              "#fb9f3a"
             ],
             [
              0.8888888888888888,
              "#fdca26"
             ],
             [
              1,
              "#f0f921"
             ]
            ],
            "type": "heatmapgl"
           }
          ],
          "histogram": [
           {
            "marker": {
             "colorbar": {
              "outlinewidth": 0,
              "ticks": ""
             }
            },
            "type": "histogram"
           }
          ],
          "histogram2d": [
           {
            "colorbar": {
             "outlinewidth": 0,
             "ticks": ""
            },
            "colorscale": [
             [
              0,
              "#0d0887"
             ],
             [
              0.1111111111111111,
              "#46039f"
             ],
             [
              0.2222222222222222,
              "#7201a8"
             ],
             [
              0.3333333333333333,
              "#9c179e"
             ],
             [
              0.4444444444444444,
              "#bd3786"
             ],
             [
              0.5555555555555556,
              "#d8576b"
             ],
             [
              0.6666666666666666,
              "#ed7953"
             ],
             [
              0.7777777777777778,
              "#fb9f3a"
             ],
             [
              0.8888888888888888,
              "#fdca26"
             ],
             [
              1,
              "#f0f921"
             ]
            ],
            "type": "histogram2d"
           }
          ],
          "histogram2dcontour": [
           {
            "colorbar": {
             "outlinewidth": 0,
             "ticks": ""
            },
            "colorscale": [
             [
              0,
              "#0d0887"
             ],
             [
              0.1111111111111111,
              "#46039f"
             ],
             [
              0.2222222222222222,
              "#7201a8"
             ],
             [
              0.3333333333333333,
              "#9c179e"
             ],
             [
              0.4444444444444444,
              "#bd3786"
             ],
             [
              0.5555555555555556,
              "#d8576b"
             ],
             [
              0.6666666666666666,
              "#ed7953"
             ],
             [
              0.7777777777777778,
              "#fb9f3a"
             ],
             [
              0.8888888888888888,
              "#fdca26"
             ],
             [
              1,
              "#f0f921"
             ]
            ],
            "type": "histogram2dcontour"
           }
          ],
          "mesh3d": [
           {
            "colorbar": {
             "outlinewidth": 0,
             "ticks": ""
            },
            "type": "mesh3d"
           }
          ],
          "parcoords": [
           {
            "line": {
             "colorbar": {
              "outlinewidth": 0,
              "ticks": ""
             }
            },
            "type": "parcoords"
           }
          ],
          "pie": [
           {
            "automargin": true,
            "type": "pie"
           }
          ],
          "scatter": [
           {
            "marker": {
             "colorbar": {
              "outlinewidth": 0,
              "ticks": ""
             }
            },
            "type": "scatter"
           }
          ],
          "scatter3d": [
           {
            "line": {
             "colorbar": {
              "outlinewidth": 0,
              "ticks": ""
             }
            },
            "marker": {
             "colorbar": {
              "outlinewidth": 0,
              "ticks": ""
             }
            },
            "type": "scatter3d"
           }
          ],
          "scattercarpet": [
           {
            "marker": {
             "colorbar": {
              "outlinewidth": 0,
              "ticks": ""
             }
            },
            "type": "scattercarpet"
           }
          ],
          "scattergeo": [
           {
            "marker": {
             "colorbar": {
              "outlinewidth": 0,
              "ticks": ""
             }
            },
            "type": "scattergeo"
           }
          ],
          "scattergl": [
           {
            "marker": {
             "colorbar": {
              "outlinewidth": 0,
              "ticks": ""
             }
            },
            "type": "scattergl"
           }
          ],
          "scattermapbox": [
           {
            "marker": {
             "colorbar": {
              "outlinewidth": 0,
              "ticks": ""
             }
            },
            "type": "scattermapbox"
           }
          ],
          "scatterpolar": [
           {
            "marker": {
             "colorbar": {
              "outlinewidth": 0,
              "ticks": ""
             }
            },
            "type": "scatterpolar"
           }
          ],
          "scatterpolargl": [
           {
            "marker": {
             "colorbar": {
              "outlinewidth": 0,
              "ticks": ""
             }
            },
            "type": "scatterpolargl"
           }
          ],
          "scatterternary": [
           {
            "marker": {
             "colorbar": {
              "outlinewidth": 0,
              "ticks": ""
             }
            },
            "type": "scatterternary"
           }
          ],
          "surface": [
           {
            "colorbar": {
             "outlinewidth": 0,
             "ticks": ""
            },
            "colorscale": [
             [
              0,
              "#0d0887"
             ],
             [
              0.1111111111111111,
              "#46039f"
             ],
             [
              0.2222222222222222,
              "#7201a8"
             ],
             [
              0.3333333333333333,
              "#9c179e"
             ],
             [
              0.4444444444444444,
              "#bd3786"
             ],
             [
              0.5555555555555556,
              "#d8576b"
             ],
             [
              0.6666666666666666,
              "#ed7953"
             ],
             [
              0.7777777777777778,
              "#fb9f3a"
             ],
             [
              0.8888888888888888,
              "#fdca26"
             ],
             [
              1,
              "#f0f921"
             ]
            ],
            "type": "surface"
           }
          ],
          "table": [
           {
            "cells": {
             "fill": {
              "color": "#EBF0F8"
             },
             "line": {
              "color": "white"
             }
            },
            "header": {
             "fill": {
              "color": "#C8D4E3"
             },
             "line": {
              "color": "white"
             }
            },
            "type": "table"
           }
          ]
         },
         "layout": {
          "annotationdefaults": {
           "arrowcolor": "#2a3f5f",
           "arrowhead": 0,
           "arrowwidth": 1
          },
          "coloraxis": {
           "colorbar": {
            "outlinewidth": 0,
            "ticks": ""
           }
          },
          "colorscale": {
           "diverging": [
            [
             0,
             "#8e0152"
            ],
            [
             0.1,
             "#c51b7d"
            ],
            [
             0.2,
             "#de77ae"
            ],
            [
             0.3,
             "#f1b6da"
            ],
            [
             0.4,
             "#fde0ef"
            ],
            [
             0.5,
             "#f7f7f7"
            ],
            [
             0.6,
             "#e6f5d0"
            ],
            [
             0.7,
             "#b8e186"
            ],
            [
             0.8,
             "#7fbc41"
            ],
            [
             0.9,
             "#4d9221"
            ],
            [
             1,
             "#276419"
            ]
           ],
           "sequential": [
            [
             0,
             "#0d0887"
            ],
            [
             0.1111111111111111,
             "#46039f"
            ],
            [
             0.2222222222222222,
             "#7201a8"
            ],
            [
             0.3333333333333333,
             "#9c179e"
            ],
            [
             0.4444444444444444,
             "#bd3786"
            ],
            [
             0.5555555555555556,
             "#d8576b"
            ],
            [
             0.6666666666666666,
             "#ed7953"
            ],
            [
             0.7777777777777778,
             "#fb9f3a"
            ],
            [
             0.8888888888888888,
             "#fdca26"
            ],
            [
             1,
             "#f0f921"
            ]
           ],
           "sequentialminus": [
            [
             0,
             "#0d0887"
            ],
            [
             0.1111111111111111,
             "#46039f"
            ],
            [
             0.2222222222222222,
             "#7201a8"
            ],
            [
             0.3333333333333333,
             "#9c179e"
            ],
            [
             0.4444444444444444,
             "#bd3786"
            ],
            [
             0.5555555555555556,
             "#d8576b"
            ],
            [
             0.6666666666666666,
             "#ed7953"
            ],
            [
             0.7777777777777778,
             "#fb9f3a"
            ],
            [
             0.8888888888888888,
             "#fdca26"
            ],
            [
             1,
             "#f0f921"
            ]
           ]
          },
          "colorway": [
           "#636efa",
           "#EF553B",
           "#00cc96",
           "#ab63fa",
           "#FFA15A",
           "#19d3f3",
           "#FF6692",
           "#B6E880",
           "#FF97FF",
           "#FECB52"
          ],
          "font": {
           "color": "#2a3f5f"
          },
          "geo": {
           "bgcolor": "white",
           "lakecolor": "white",
           "landcolor": "#E5ECF6",
           "showlakes": true,
           "showland": true,
           "subunitcolor": "white"
          },
          "hoverlabel": {
           "align": "left"
          },
          "hovermode": "closest",
          "mapbox": {
           "style": "light"
          },
          "paper_bgcolor": "white",
          "plot_bgcolor": "#E5ECF6",
          "polar": {
           "angularaxis": {
            "gridcolor": "white",
            "linecolor": "white",
            "ticks": ""
           },
           "bgcolor": "#E5ECF6",
           "radialaxis": {
            "gridcolor": "white",
            "linecolor": "white",
            "ticks": ""
           }
          },
          "scene": {
           "xaxis": {
            "backgroundcolor": "#E5ECF6",
            "gridcolor": "white",
            "gridwidth": 2,
            "linecolor": "white",
            "showbackground": true,
            "ticks": "",
            "zerolinecolor": "white"
           },
           "yaxis": {
            "backgroundcolor": "#E5ECF6",
            "gridcolor": "white",
            "gridwidth": 2,
            "linecolor": "white",
            "showbackground": true,
            "ticks": "",
            "zerolinecolor": "white"
           },
           "zaxis": {
            "backgroundcolor": "#E5ECF6",
            "gridcolor": "white",
            "gridwidth": 2,
            "linecolor": "white",
            "showbackground": true,
            "ticks": "",
            "zerolinecolor": "white"
           }
          },
          "shapedefaults": {
           "line": {
            "color": "#2a3f5f"
           }
          },
          "ternary": {
           "aaxis": {
            "gridcolor": "white",
            "linecolor": "white",
            "ticks": ""
           },
           "baxis": {
            "gridcolor": "white",
            "linecolor": "white",
            "ticks": ""
           },
           "bgcolor": "#E5ECF6",
           "caxis": {
            "gridcolor": "white",
            "linecolor": "white",
            "ticks": ""
           }
          },
          "title": {
           "x": 0.05
          },
          "xaxis": {
           "automargin": true,
           "gridcolor": "white",
           "linecolor": "white",
           "ticks": "",
           "title": {
            "standoff": 15
           },
           "zerolinecolor": "white",
           "zerolinewidth": 2
          },
          "yaxis": {
           "automargin": true,
           "gridcolor": "white",
           "linecolor": "white",
           "ticks": "",
           "title": {
            "standoff": 15
           },
           "zerolinecolor": "white",
           "zerolinewidth": 2
          }
         }
        }
       }
      },
      "text/html": [
       "<div>\n",
       "        \n",
       "        \n",
       "            <div id=\"3d8facc5-a235-4bf6-9987-f8c290eaace8\" class=\"plotly-graph-div\" style=\"height:525px; width:100%;\"></div>\n",
       "            <script type=\"text/javascript\">\n",
       "                require([\"plotly\"], function(Plotly) {\n",
       "                    window.PLOTLYENV=window.PLOTLYENV || {};\n",
       "                    \n",
       "                if (document.getElementById(\"3d8facc5-a235-4bf6-9987-f8c290eaace8\")) {\n",
       "                    Plotly.newPlot(\n",
       "                        '3d8facc5-a235-4bf6-9987-f8c290eaace8',\n",
       "                        [{\"hovertemplate\": \"category_long=Natural<br>latitude=%{lat}<br>longitude=%{lon}<extra></extra>\", \"lat\": [-0.68986, -50.0, 7.7361111110000005, 15.74444444, -1.83333, 9.407083333, -25.577357, -9.33333, -25.504306, 19.383329999999997, -12.25, 27.79222, 7.803975, 5.337994, 17.190549, 5.533333333, 15.331113, -42.5, -16.5, -24.16667, 10.85, 19.883329999999997, -30.0, -14.266670000000001, -2.333333333, -17.670317999999998, 4.0, -3.8579444439999997, -14.00569444, 20.45, 13.80708333, 27.62667, 7.433, 4.003344, 19.60638889, 32.0, 18.78805556, -42.8528], \"legendgroup\": \"Natural\", \"lon\": [-90.501319, -73.24944, -77.54722222, -84.675, -78.33333, -82.93880556, -54.286072999999995, -77.4, -54.032849, -87.79167, -71.75, -114.22778000000001, -77.146271, -62.037882999999994, -87.846213, -87.06666667, -61.30661, -64.0, -39.25, -48.0, -85.61666667, -77.63333, -68.0, -60.86666999999999, -62.00833333, -57.461874, -56.5, -32.42511111, -47.68461111, -75.0, -61.07036111, -112.54583000000001, -81.766, -81.60757199999999, -100.2416667, -113.91666670000001, -110.97527779999999, -71.8728], \"marker\": {\"color\": \"#636efa\"}, \"mode\": \"markers\", \"name\": \"Natural\", \"showlegend\": true, \"subplot\": \"mapbox\", \"type\": \"scattermapbox\"}, {\"hovertemplate\": \"category_long=Cultural<br>latitude=%{lat}<br>longitude=%{lon}<extra></extra>\", \"lat\": [-0.22, 14.556504, -20.38888889, 14.85, 9.553888889, 15.270589999999999, -8.013333333, 23.13333333, 19.573025, -13.517276, -28.54333333, 10.41666667, -12.972917, -20.508201, -9.592772543999999, -8.107836, -19.599111999999998, -15.78333, 17.48333, 19.418329999999997, 19.691670000000002, 17.061579000000002, 19.045967, 21.80305556, 21.016939999999998, 20.682739, -12.046542, -16.0, 18.472394, -19.04799, -8.718634, 19.700927, 20.446095, 13.8275, 22.775484, 27.626963, -27.131613, 11.409794, 18.93472222, -14.725829999999998, -27.074403000000004, 9.240492, 2.583333333, 1.9166666669999999, -34.47119, 20.36166667, 20.593292, -2.5300540000000002, 19.968446, 20.676888, 8.951111111, -18.178323000000002, 30.367128000000005, 18.613459, -47.15, -18.244776, 22.616670000000003, -2.897447, 19.84639, 18.803972, 17.34694, -31.42056, -16.555003, -42.5, 20.03, 12.40047, -16.398353, 10.490730000000001, -15.934231, 5.82611, -23.19986111, -33.04063889, 21.20438889, 19.41119788, -20.205820000000003, 22.145887, -34.08444444, 20.86305556, 19.33222222, 21.37861111, 20.91444444, -10.89166667, -11.01365544, 22.60805556, 16.95083333, 13.09666667, 4.889476, 12.435, -22.94777778, 8.938452999999999, -18.25, 19.83527778, -33.11777778, 17.00694444, -19.85194444, -22.89711111, -23.02237778, -18.48196111, -9.556861111, -34.74391944], \"legendgroup\": \"Cultural\", \"lon\": [-78.51208333, -90.73380999999999, -43.50555556, -89.13333, -79.65583333, -89.04025, -34.845, -82.35, -72.234268, -71.98000400000001, -54.26583333, -75.53333333, -38.512980999999996, -43.860806, -77.1784535, -79.074737, -65.749813, -47.9, -92.05, -99.13278000000001, -98.84167, -96.72588499999999, -98.197769, -79.98444444, -101.25556, -88.56865400000001, -77.0304, -60.5, -69.885841, -65.259592, -42.652436, -101.190376, -97.37764200000001, -89.36916667, -102.573531, -113.020427, -55.702672, -69.67922800000001, -98.89777778, -75.14860999999999, -109.365683, -74.423084, -76.03333333, -76.23333333, -57.849897999999996, -89.77027778, -100.392135, -44.303369, -75.870441, -103.33779799999999, -79.54055556, -63.820485, -107.948122, -95.658676, -70.66666667, -43.59768, -83.71667, -79.00438199999999, -90.53721999999999, -99.29639, -62.837219999999995, -64.19111, -68.673278, -73.76666667, -75.39138889, -86.616336, -71.536777, -66.89068, -50.140164, -55.15, -65.34886111, -71.628, -99.46411111, -99.19235334, -69.79406, -80.45218299999999, -70.38277778, -103.77861109999999, -99.18805556, -77.91861111, -100.74638890000001, -77.52138889, -37.20537476, -102.3791667, -96.42111111, -59.61388889, -75.77308199999999, -86.87805556, -43.29138889, -83.502539, -69.59166667, -98.66256667, -58.33166667, -61.76166667, -43.97361111, -43.18739444, -43.54622222, -70.32157222, -78.23591667, -55.76640833], \"marker\": {\"color\": \"#EF553B\"}, \"mode\": \"markers\", \"name\": \"Cultural\", \"showlegend\": true, \"subplot\": \"mapbox\", \"type\": \"scattermapbox\"}, {\"hovertemplate\": \"category_long=Mixed<br>latitude=%{lat}<br>longitude=%{lon}<extra></extra>\", \"lat\": [17.21666667, -13.184934, -7.75, 18.05302778, 18.0775, 0.525277778, 17.98996111, -23.01860556], \"legendgroup\": \"Mixed\", \"lon\": [-89.61666667, -72.533443, -77.25, -89.73728333, -76.57111111, -72.79722222, -97.18715278, -44.68536944], \"marker\": {\"color\": \"#00cc96\"}, \"mode\": \"markers\", \"name\": \"Mixed\", \"showlegend\": true, \"subplot\": \"mapbox\", \"type\": \"scattermapbox\"}],\n",
       "                        {\"legend\": {\"title\": {\"text\": \"category_long\"}, \"tracegroupgap\": 0}, \"mapbox\": {\"accesstoken\": \"pk.eyJ1IjoiZXZlZ2FyY2lhbnoiLCJhIjoiY2t5ZXR6MXVrMWNlNjJxbzhjcmptdWg2bSJ9.fmrbGI8SzC0WlouTElFzlA\", \"center\": {\"lat\": 0.6787213403424658, \"lon\": -75.74306318842466}, \"domain\": {\"x\": [0.0, 1.0], \"y\": [0.0, 1.0]}, \"zoom\": 12}, \"margin\": {\"t\": 60}, \"template\": {\"data\": {\"bar\": [{\"error_x\": {\"color\": \"#2a3f5f\"}, \"error_y\": {\"color\": \"#2a3f5f\"}, \"marker\": {\"line\": {\"color\": \"#E5ECF6\", \"width\": 0.5}}, \"type\": \"bar\"}], \"barpolar\": [{\"marker\": {\"line\": {\"color\": \"#E5ECF6\", \"width\": 0.5}}, \"type\": \"barpolar\"}], \"carpet\": [{\"aaxis\": {\"endlinecolor\": \"#2a3f5f\", \"gridcolor\": \"white\", \"linecolor\": \"white\", \"minorgridcolor\": \"white\", \"startlinecolor\": \"#2a3f5f\"}, \"baxis\": {\"endlinecolor\": \"#2a3f5f\", \"gridcolor\": \"white\", \"linecolor\": \"white\", \"minorgridcolor\": \"white\", \"startlinecolor\": \"#2a3f5f\"}, \"type\": \"carpet\"}], \"choropleth\": [{\"colorbar\": {\"outlinewidth\": 0, \"ticks\": \"\"}, \"type\": \"choropleth\"}], \"contour\": [{\"colorbar\": {\"outlinewidth\": 0, \"ticks\": \"\"}, \"colorscale\": [[0.0, \"#0d0887\"], [0.1111111111111111, \"#46039f\"], [0.2222222222222222, \"#7201a8\"], [0.3333333333333333, \"#9c179e\"], [0.4444444444444444, \"#bd3786\"], [0.5555555555555556, \"#d8576b\"], [0.6666666666666666, \"#ed7953\"], [0.7777777777777778, \"#fb9f3a\"], [0.8888888888888888, \"#fdca26\"], [1.0, \"#f0f921\"]], \"type\": \"contour\"}], \"contourcarpet\": [{\"colorbar\": {\"outlinewidth\": 0, \"ticks\": \"\"}, \"type\": \"contourcarpet\"}], \"heatmap\": [{\"colorbar\": {\"outlinewidth\": 0, \"ticks\": \"\"}, \"colorscale\": [[0.0, \"#0d0887\"], [0.1111111111111111, \"#46039f\"], [0.2222222222222222, \"#7201a8\"], [0.3333333333333333, \"#9c179e\"], [0.4444444444444444, \"#bd3786\"], [0.5555555555555556, \"#d8576b\"], [0.6666666666666666, \"#ed7953\"], [0.7777777777777778, \"#fb9f3a\"], [0.8888888888888888, \"#fdca26\"], [1.0, \"#f0f921\"]], \"type\": \"heatmap\"}], \"heatmapgl\": [{\"colorbar\": {\"outlinewidth\": 0, \"ticks\": \"\"}, \"colorscale\": [[0.0, \"#0d0887\"], [0.1111111111111111, \"#46039f\"], [0.2222222222222222, \"#7201a8\"], [0.3333333333333333, \"#9c179e\"], [0.4444444444444444, \"#bd3786\"], [0.5555555555555556, \"#d8576b\"], [0.6666666666666666, \"#ed7953\"], [0.7777777777777778, \"#fb9f3a\"], [0.8888888888888888, \"#fdca26\"], [1.0, \"#f0f921\"]], \"type\": \"heatmapgl\"}], \"histogram\": [{\"marker\": {\"colorbar\": {\"outlinewidth\": 0, \"ticks\": \"\"}}, \"type\": \"histogram\"}], \"histogram2d\": [{\"colorbar\": {\"outlinewidth\": 0, \"ticks\": \"\"}, \"colorscale\": [[0.0, \"#0d0887\"], [0.1111111111111111, \"#46039f\"], [0.2222222222222222, \"#7201a8\"], [0.3333333333333333, \"#9c179e\"], [0.4444444444444444, \"#bd3786\"], [0.5555555555555556, \"#d8576b\"], [0.6666666666666666, \"#ed7953\"], [0.7777777777777778, \"#fb9f3a\"], [0.8888888888888888, \"#fdca26\"], [1.0, \"#f0f921\"]], \"type\": \"histogram2d\"}], \"histogram2dcontour\": [{\"colorbar\": {\"outlinewidth\": 0, \"ticks\": \"\"}, \"colorscale\": [[0.0, \"#0d0887\"], [0.1111111111111111, \"#46039f\"], [0.2222222222222222, \"#7201a8\"], [0.3333333333333333, \"#9c179e\"], [0.4444444444444444, \"#bd3786\"], [0.5555555555555556, \"#d8576b\"], [0.6666666666666666, \"#ed7953\"], [0.7777777777777778, \"#fb9f3a\"], [0.8888888888888888, \"#fdca26\"], [1.0, \"#f0f921\"]], \"type\": \"histogram2dcontour\"}], \"mesh3d\": [{\"colorbar\": {\"outlinewidth\": 0, \"ticks\": \"\"}, \"type\": \"mesh3d\"}], \"parcoords\": [{\"line\": {\"colorbar\": {\"outlinewidth\": 0, \"ticks\": \"\"}}, \"type\": \"parcoords\"}], \"pie\": [{\"automargin\": true, \"type\": \"pie\"}], \"scatter\": [{\"marker\": {\"colorbar\": {\"outlinewidth\": 0, \"ticks\": \"\"}}, \"type\": \"scatter\"}], \"scatter3d\": [{\"line\": {\"colorbar\": {\"outlinewidth\": 0, \"ticks\": \"\"}}, \"marker\": {\"colorbar\": {\"outlinewidth\": 0, \"ticks\": \"\"}}, \"type\": \"scatter3d\"}], \"scattercarpet\": [{\"marker\": {\"colorbar\": {\"outlinewidth\": 0, \"ticks\": \"\"}}, \"type\": \"scattercarpet\"}], \"scattergeo\": [{\"marker\": {\"colorbar\": {\"outlinewidth\": 0, \"ticks\": \"\"}}, \"type\": \"scattergeo\"}], \"scattergl\": [{\"marker\": {\"colorbar\": {\"outlinewidth\": 0, \"ticks\": \"\"}}, \"type\": \"scattergl\"}], \"scattermapbox\": [{\"marker\": {\"colorbar\": {\"outlinewidth\": 0, \"ticks\": \"\"}}, \"type\": \"scattermapbox\"}], \"scatterpolar\": [{\"marker\": {\"colorbar\": {\"outlinewidth\": 0, \"ticks\": \"\"}}, \"type\": \"scatterpolar\"}], \"scatterpolargl\": [{\"marker\": {\"colorbar\": {\"outlinewidth\": 0, \"ticks\": \"\"}}, \"type\": \"scatterpolargl\"}], \"scatterternary\": [{\"marker\": {\"colorbar\": {\"outlinewidth\": 0, \"ticks\": \"\"}}, \"type\": \"scatterternary\"}], \"surface\": [{\"colorbar\": {\"outlinewidth\": 0, \"ticks\": \"\"}, \"colorscale\": [[0.0, \"#0d0887\"], [0.1111111111111111, \"#46039f\"], [0.2222222222222222, \"#7201a8\"], [0.3333333333333333, \"#9c179e\"], [0.4444444444444444, \"#bd3786\"], [0.5555555555555556, \"#d8576b\"], [0.6666666666666666, \"#ed7953\"], [0.7777777777777778, \"#fb9f3a\"], [0.8888888888888888, \"#fdca26\"], [1.0, \"#f0f921\"]], \"type\": \"surface\"}], \"table\": [{\"cells\": {\"fill\": {\"color\": \"#EBF0F8\"}, \"line\": {\"color\": \"white\"}}, \"header\": {\"fill\": {\"color\": \"#C8D4E3\"}, \"line\": {\"color\": \"white\"}}, \"type\": \"table\"}]}, \"layout\": {\"annotationdefaults\": {\"arrowcolor\": \"#2a3f5f\", \"arrowhead\": 0, \"arrowwidth\": 1}, \"coloraxis\": {\"colorbar\": {\"outlinewidth\": 0, \"ticks\": \"\"}}, \"colorscale\": {\"diverging\": [[0, \"#8e0152\"], [0.1, \"#c51b7d\"], [0.2, \"#de77ae\"], [0.3, \"#f1b6da\"], [0.4, \"#fde0ef\"], [0.5, \"#f7f7f7\"], [0.6, \"#e6f5d0\"], [0.7, \"#b8e186\"], [0.8, \"#7fbc41\"], [0.9, \"#4d9221\"], [1, \"#276419\"]], \"sequential\": [[0.0, \"#0d0887\"], [0.1111111111111111, \"#46039f\"], [0.2222222222222222, \"#7201a8\"], [0.3333333333333333, \"#9c179e\"], [0.4444444444444444, \"#bd3786\"], [0.5555555555555556, \"#d8576b\"], [0.6666666666666666, \"#ed7953\"], [0.7777777777777778, \"#fb9f3a\"], [0.8888888888888888, \"#fdca26\"], [1.0, \"#f0f921\"]], \"sequentialminus\": [[0.0, \"#0d0887\"], [0.1111111111111111, \"#46039f\"], [0.2222222222222222, \"#7201a8\"], [0.3333333333333333, \"#9c179e\"], [0.4444444444444444, \"#bd3786\"], [0.5555555555555556, \"#d8576b\"], [0.6666666666666666, \"#ed7953\"], [0.7777777777777778, \"#fb9f3a\"], [0.8888888888888888, \"#fdca26\"], [1.0, \"#f0f921\"]]}, \"colorway\": [\"#636efa\", \"#EF553B\", \"#00cc96\", \"#ab63fa\", \"#FFA15A\", \"#19d3f3\", \"#FF6692\", \"#B6E880\", \"#FF97FF\", \"#FECB52\"], \"font\": {\"color\": \"#2a3f5f\"}, \"geo\": {\"bgcolor\": \"white\", \"lakecolor\": \"white\", \"landcolor\": \"#E5ECF6\", \"showlakes\": true, \"showland\": true, \"subunitcolor\": \"white\"}, \"hoverlabel\": {\"align\": \"left\"}, \"hovermode\": \"closest\", \"mapbox\": {\"style\": \"light\"}, \"paper_bgcolor\": \"white\", \"plot_bgcolor\": \"#E5ECF6\", \"polar\": {\"angularaxis\": {\"gridcolor\": \"white\", \"linecolor\": \"white\", \"ticks\": \"\"}, \"bgcolor\": \"#E5ECF6\", \"radialaxis\": {\"gridcolor\": \"white\", \"linecolor\": \"white\", \"ticks\": \"\"}}, \"scene\": {\"xaxis\": {\"backgroundcolor\": \"#E5ECF6\", \"gridcolor\": \"white\", \"gridwidth\": 2, \"linecolor\": \"white\", \"showbackground\": true, \"ticks\": \"\", \"zerolinecolor\": \"white\"}, \"yaxis\": {\"backgroundcolor\": \"#E5ECF6\", \"gridcolor\": \"white\", \"gridwidth\": 2, \"linecolor\": \"white\", \"showbackground\": true, \"ticks\": \"\", \"zerolinecolor\": \"white\"}, \"zaxis\": {\"backgroundcolor\": \"#E5ECF6\", \"gridcolor\": \"white\", \"gridwidth\": 2, \"linecolor\": \"white\", \"showbackground\": true, \"ticks\": \"\", \"zerolinecolor\": \"white\"}}, \"shapedefaults\": {\"line\": {\"color\": \"#2a3f5f\"}}, \"ternary\": {\"aaxis\": {\"gridcolor\": \"white\", \"linecolor\": \"white\", \"ticks\": \"\"}, \"baxis\": {\"gridcolor\": \"white\", \"linecolor\": \"white\", \"ticks\": \"\"}, \"bgcolor\": \"#E5ECF6\", \"caxis\": {\"gridcolor\": \"white\", \"linecolor\": \"white\", \"ticks\": \"\"}}, \"title\": {\"x\": 0.05}, \"xaxis\": {\"automargin\": true, \"gridcolor\": \"white\", \"linecolor\": \"white\", \"ticks\": \"\", \"title\": {\"standoff\": 15}, \"zerolinecolor\": \"white\", \"zerolinewidth\": 2}, \"yaxis\": {\"automargin\": true, \"gridcolor\": \"white\", \"linecolor\": \"white\", \"ticks\": \"\", \"title\": {\"standoff\": 15}, \"zerolinecolor\": \"white\", \"zerolinewidth\": 2}}}},\n",
       "                        {\"responsive\": true}\n",
       "                    ).then(function(){\n",
       "                            \n",
       "var gd = document.getElementById('3d8facc5-a235-4bf6-9987-f8c290eaace8');\n",
       "var x = new MutationObserver(function (mutations, observer) {{\n",
       "        var display = window.getComputedStyle(gd).display;\n",
       "        if (!display || display === 'none') {{\n",
       "            console.log([gd, 'removed!']);\n",
       "            Plotly.purge(gd);\n",
       "            observer.disconnect();\n",
       "        }}\n",
       "}});\n",
       "\n",
       "// Listen for the removal of the full notebook cells\n",
       "var notebookContainer = gd.closest('#notebook-container');\n",
       "if (notebookContainer) {{\n",
       "    x.observe(notebookContainer, {childList: true});\n",
       "}}\n",
       "\n",
       "// Listen for the clearing of the current output cell\n",
       "var outputEl = gd.closest('.output');\n",
       "if (outputEl) {{\n",
       "    x.observe(outputEl, {childList: true});\n",
       "}}\n",
       "\n",
       "                        })\n",
       "                };\n",
       "                });\n",
       "            </script>\n",
       "        </div>"
      ]
     },
     "metadata": {},
     "output_type": "display_data"
    }
   ],
   "source": [
    "fig = px.scatter_mapbox(df_toPlot, lat=\"latitude\", lon=\"longitude\",color=\"category_long\",\n",
    "                  color_continuous_scale=px.colors.cyclical.IceFire, size_max=20,zoom=12)\n",
    "fig.show()"
   ]
  },
  {
   "cell_type": "code",
   "execution_count": 49,
   "metadata": {},
   "outputs": [],
   "source": [
    "df_toPlot=df[df['Country name']=='Mexico']"
   ]
  },
  {
   "cell_type": "code",
   "execution_count": 50,
   "metadata": {},
   "outputs": [
    {
     "data": {
      "application/vnd.plotly.v1+json": {
       "config": {
        "plotlyServerURL": "https://plot.ly"
       },
       "data": [
        {
         "hovertemplate": "category_long=Natural<br>latitude=%{lat}<br>longitude=%{lon}<extra></extra>",
         "lat": [
          19.383329999999997,
          27.79222,
          27.62667,
          19.60638889,
          32,
          18.78805556
         ],
         "legendgroup": "Natural",
         "lon": [
          -87.79167,
          -114.22778000000001,
          -112.54583000000001,
          -100.2416667,
          -113.91666670000001,
          -110.97527779999999
         ],
         "marker": {
          "color": "#636efa"
         },
         "mode": "markers",
         "name": "Natural",
         "showlegend": true,
         "subplot": "mapbox",
         "type": "scattermapbox"
        },
        {
         "hovertemplate": "category_long=Cultural<br>latitude=%{lat}<br>longitude=%{lon}<extra></extra>",
         "lat": [
          17.48333,
          19.418329999999997,
          19.691670000000002,
          17.061579000000002,
          19.045967,
          21.016939999999998,
          20.682739,
          19.700927,
          20.446095,
          22.775484,
          27.626963,
          18.93472222,
          20.36166667,
          20.593292,
          20.676888,
          30.367128000000005,
          18.613459,
          19.84639,
          18.803972,
          21.20438889,
          19.41119788,
          20.86305556,
          19.33222222,
          20.91444444,
          22.60805556,
          16.95083333,
          19.83527778
         ],
         "legendgroup": "Cultural",
         "lon": [
          -92.05,
          -99.13278000000001,
          -98.84167,
          -96.72588499999999,
          -98.197769,
          -101.25556,
          -88.56865400000001,
          -101.190376,
          -97.37764200000001,
          -102.573531,
          -113.020427,
          -98.89777778,
          -89.77027778,
          -100.392135,
          -103.33779799999999,
          -107.948122,
          -95.658676,
          -90.53721999999999,
          -99.29639,
          -99.46411111,
          -99.19235334,
          -103.77861109999999,
          -99.18805556,
          -100.74638890000001,
          -102.3791667,
          -96.42111111,
          -98.66256667
         ],
         "marker": {
          "color": "#EF553B"
         },
         "mode": "markers",
         "name": "Cultural",
         "showlegend": true,
         "subplot": "mapbox",
         "type": "scattermapbox"
        },
        {
         "hovertemplate": "category_long=Mixed<br>latitude=%{lat}<br>longitude=%{lon}<extra></extra>",
         "lat": [
          18.05302778,
          17.98996111
         ],
         "legendgroup": "Mixed",
         "lon": [
          -89.73728333,
          -97.18715278
         ],
         "marker": {
          "color": "#00cc96"
         },
         "mode": "markers",
         "name": "Mixed",
         "showlegend": true,
         "subplot": "mapbox",
         "type": "scattermapbox"
        }
       ],
       "layout": {
        "legend": {
         "title": {
          "text": "category_long"
         },
         "tracegroupgap": 0
        },
        "mapbox": {
         "accesstoken": "pk.eyJ1IjoiZXZlZ2FyY2lhbnoiLCJhIjoiY2t5ZXR6MXVrMWNlNjJxbzhjcmptdWg2bSJ9.fmrbGI8SzC0WlouTElFzlA",
         "center": {
          "lat": 21.01447631114285,
          "lon": -100.03509663885715
         },
         "domain": {
          "x": [
           0,
           1
          ],
          "y": [
           0,
           1
          ]
         },
         "zoom": 12
        },
        "margin": {
         "t": 60
        },
        "template": {
         "data": {
          "bar": [
           {
            "error_x": {
             "color": "#2a3f5f"
            },
            "error_y": {
             "color": "#2a3f5f"
            },
            "marker": {
             "line": {
              "color": "#E5ECF6",
              "width": 0.5
             }
            },
            "type": "bar"
           }
          ],
          "barpolar": [
           {
            "marker": {
             "line": {
              "color": "#E5ECF6",
              "width": 0.5
             }
            },
            "type": "barpolar"
           }
          ],
          "carpet": [
           {
            "aaxis": {
             "endlinecolor": "#2a3f5f",
             "gridcolor": "white",
             "linecolor": "white",
             "minorgridcolor": "white",
             "startlinecolor": "#2a3f5f"
            },
            "baxis": {
             "endlinecolor": "#2a3f5f",
             "gridcolor": "white",
             "linecolor": "white",
             "minorgridcolor": "white",
             "startlinecolor": "#2a3f5f"
            },
            "type": "carpet"
           }
          ],
          "choropleth": [
           {
            "colorbar": {
             "outlinewidth": 0,
             "ticks": ""
            },
            "type": "choropleth"
           }
          ],
          "contour": [
           {
            "colorbar": {
             "outlinewidth": 0,
             "ticks": ""
            },
            "colorscale": [
             [
              0,
              "#0d0887"
             ],
             [
              0.1111111111111111,
              "#46039f"
             ],
             [
              0.2222222222222222,
              "#7201a8"
             ],
             [
              0.3333333333333333,
              "#9c179e"
             ],
             [
              0.4444444444444444,
              "#bd3786"
             ],
             [
              0.5555555555555556,
              "#d8576b"
             ],
             [
              0.6666666666666666,
              "#ed7953"
             ],
             [
              0.7777777777777778,
              "#fb9f3a"
             ],
             [
              0.8888888888888888,
              "#fdca26"
             ],
             [
              1,
              "#f0f921"
             ]
            ],
            "type": "contour"
           }
          ],
          "contourcarpet": [
           {
            "colorbar": {
             "outlinewidth": 0,
             "ticks": ""
            },
            "type": "contourcarpet"
           }
          ],
          "heatmap": [
           {
            "colorbar": {
             "outlinewidth": 0,
             "ticks": ""
            },
            "colorscale": [
             [
              0,
              "#0d0887"
             ],
             [
              0.1111111111111111,
              "#46039f"
             ],
             [
              0.2222222222222222,
              "#7201a8"
             ],
             [
              0.3333333333333333,
              "#9c179e"
             ],
             [
              0.4444444444444444,
              "#bd3786"
             ],
             [
              0.5555555555555556,
              "#d8576b"
             ],
             [
              0.6666666666666666,
              "#ed7953"
             ],
             [
              0.7777777777777778,
              "#fb9f3a"
             ],
             [
              0.8888888888888888,
              "#fdca26"
             ],
             [
              1,
              "#f0f921"
             ]
            ],
            "type": "heatmap"
           }
          ],
          "heatmapgl": [
           {
            "colorbar": {
             "outlinewidth": 0,
             "ticks": ""
            },
            "colorscale": [
             [
              0,
              "#0d0887"
             ],
             [
              0.1111111111111111,
              "#46039f"
             ],
             [
              0.2222222222222222,
              "#7201a8"
             ],
             [
              0.3333333333333333,
              "#9c179e"
             ],
             [
              0.4444444444444444,
              "#bd3786"
             ],
             [
              0.5555555555555556,
              "#d8576b"
             ],
             [
              0.6666666666666666,
              "#ed7953"
             ],
             [
              0.7777777777777778,
              "#fb9f3a"
             ],
             [
              0.8888888888888888,
              "#fdca26"
             ],
             [
              1,
              "#f0f921"
             ]
            ],
            "type": "heatmapgl"
           }
          ],
          "histogram": [
           {
            "marker": {
             "colorbar": {
              "outlinewidth": 0,
              "ticks": ""
             }
            },
            "type": "histogram"
           }
          ],
          "histogram2d": [
           {
            "colorbar": {
             "outlinewidth": 0,
             "ticks": ""
            },
            "colorscale": [
             [
              0,
              "#0d0887"
             ],
             [
              0.1111111111111111,
              "#46039f"
             ],
             [
              0.2222222222222222,
              "#7201a8"
             ],
             [
              0.3333333333333333,
              "#9c179e"
             ],
             [
              0.4444444444444444,
              "#bd3786"
             ],
             [
              0.5555555555555556,
              "#d8576b"
             ],
             [
              0.6666666666666666,
              "#ed7953"
             ],
             [
              0.7777777777777778,
              "#fb9f3a"
             ],
             [
              0.8888888888888888,
              "#fdca26"
             ],
             [
              1,
              "#f0f921"
             ]
            ],
            "type": "histogram2d"
           }
          ],
          "histogram2dcontour": [
           {
            "colorbar": {
             "outlinewidth": 0,
             "ticks": ""
            },
            "colorscale": [
             [
              0,
              "#0d0887"
             ],
             [
              0.1111111111111111,
              "#46039f"
             ],
             [
              0.2222222222222222,
              "#7201a8"
             ],
             [
              0.3333333333333333,
              "#9c179e"
             ],
             [
              0.4444444444444444,
              "#bd3786"
             ],
             [
              0.5555555555555556,
              "#d8576b"
             ],
             [
              0.6666666666666666,
              "#ed7953"
             ],
             [
              0.7777777777777778,
              "#fb9f3a"
             ],
             [
              0.8888888888888888,
              "#fdca26"
             ],
             [
              1,
              "#f0f921"
             ]
            ],
            "type": "histogram2dcontour"
           }
          ],
          "mesh3d": [
           {
            "colorbar": {
             "outlinewidth": 0,
             "ticks": ""
            },
            "type": "mesh3d"
           }
          ],
          "parcoords": [
           {
            "line": {
             "colorbar": {
              "outlinewidth": 0,
              "ticks": ""
             }
            },
            "type": "parcoords"
           }
          ],
          "pie": [
           {
            "automargin": true,
            "type": "pie"
           }
          ],
          "scatter": [
           {
            "marker": {
             "colorbar": {
              "outlinewidth": 0,
              "ticks": ""
             }
            },
            "type": "scatter"
           }
          ],
          "scatter3d": [
           {
            "line": {
             "colorbar": {
              "outlinewidth": 0,
              "ticks": ""
             }
            },
            "marker": {
             "colorbar": {
              "outlinewidth": 0,
              "ticks": ""
             }
            },
            "type": "scatter3d"
           }
          ],
          "scattercarpet": [
           {
            "marker": {
             "colorbar": {
              "outlinewidth": 0,
              "ticks": ""
             }
            },
            "type": "scattercarpet"
           }
          ],
          "scattergeo": [
           {
            "marker": {
             "colorbar": {
              "outlinewidth": 0,
              "ticks": ""
             }
            },
            "type": "scattergeo"
           }
          ],
          "scattergl": [
           {
            "marker": {
             "colorbar": {
              "outlinewidth": 0,
              "ticks": ""
             }
            },
            "type": "scattergl"
           }
          ],
          "scattermapbox": [
           {
            "marker": {
             "colorbar": {
              "outlinewidth": 0,
              "ticks": ""
             }
            },
            "type": "scattermapbox"
           }
          ],
          "scatterpolar": [
           {
            "marker": {
             "colorbar": {
              "outlinewidth": 0,
              "ticks": ""
             }
            },
            "type": "scatterpolar"
           }
          ],
          "scatterpolargl": [
           {
            "marker": {
             "colorbar": {
              "outlinewidth": 0,
              "ticks": ""
             }
            },
            "type": "scatterpolargl"
           }
          ],
          "scatterternary": [
           {
            "marker": {
             "colorbar": {
              "outlinewidth": 0,
              "ticks": ""
             }
            },
            "type": "scatterternary"
           }
          ],
          "surface": [
           {
            "colorbar": {
             "outlinewidth": 0,
             "ticks": ""
            },
            "colorscale": [
             [
              0,
              "#0d0887"
             ],
             [
              0.1111111111111111,
              "#46039f"
             ],
             [
              0.2222222222222222,
              "#7201a8"
             ],
             [
              0.3333333333333333,
              "#9c179e"
             ],
             [
              0.4444444444444444,
              "#bd3786"
             ],
             [
              0.5555555555555556,
              "#d8576b"
             ],
             [
              0.6666666666666666,
              "#ed7953"
             ],
             [
              0.7777777777777778,
              "#fb9f3a"
             ],
             [
              0.8888888888888888,
              "#fdca26"
             ],
             [
              1,
              "#f0f921"
             ]
            ],
            "type": "surface"
           }
          ],
          "table": [
           {
            "cells": {
             "fill": {
              "color": "#EBF0F8"
             },
             "line": {
              "color": "white"
             }
            },
            "header": {
             "fill": {
              "color": "#C8D4E3"
             },
             "line": {
              "color": "white"
             }
            },
            "type": "table"
           }
          ]
         },
         "layout": {
          "annotationdefaults": {
           "arrowcolor": "#2a3f5f",
           "arrowhead": 0,
           "arrowwidth": 1
          },
          "coloraxis": {
           "colorbar": {
            "outlinewidth": 0,
            "ticks": ""
           }
          },
          "colorscale": {
           "diverging": [
            [
             0,
             "#8e0152"
            ],
            [
             0.1,
             "#c51b7d"
            ],
            [
             0.2,
             "#de77ae"
            ],
            [
             0.3,
             "#f1b6da"
            ],
            [
             0.4,
             "#fde0ef"
            ],
            [
             0.5,
             "#f7f7f7"
            ],
            [
             0.6,
             "#e6f5d0"
            ],
            [
             0.7,
             "#b8e186"
            ],
            [
             0.8,
             "#7fbc41"
            ],
            [
             0.9,
             "#4d9221"
            ],
            [
             1,
             "#276419"
            ]
           ],
           "sequential": [
            [
             0,
             "#0d0887"
            ],
            [
             0.1111111111111111,
             "#46039f"
            ],
            [
             0.2222222222222222,
             "#7201a8"
            ],
            [
             0.3333333333333333,
             "#9c179e"
            ],
            [
             0.4444444444444444,
             "#bd3786"
            ],
            [
             0.5555555555555556,
             "#d8576b"
            ],
            [
             0.6666666666666666,
             "#ed7953"
            ],
            [
             0.7777777777777778,
             "#fb9f3a"
            ],
            [
             0.8888888888888888,
             "#fdca26"
            ],
            [
             1,
             "#f0f921"
            ]
           ],
           "sequentialminus": [
            [
             0,
             "#0d0887"
            ],
            [
             0.1111111111111111,
             "#46039f"
            ],
            [
             0.2222222222222222,
             "#7201a8"
            ],
            [
             0.3333333333333333,
             "#9c179e"
            ],
            [
             0.4444444444444444,
             "#bd3786"
            ],
            [
             0.5555555555555556,
             "#d8576b"
            ],
            [
             0.6666666666666666,
             "#ed7953"
            ],
            [
             0.7777777777777778,
             "#fb9f3a"
            ],
            [
             0.8888888888888888,
             "#fdca26"
            ],
            [
             1,
             "#f0f921"
            ]
           ]
          },
          "colorway": [
           "#636efa",
           "#EF553B",
           "#00cc96",
           "#ab63fa",
           "#FFA15A",
           "#19d3f3",
           "#FF6692",
           "#B6E880",
           "#FF97FF",
           "#FECB52"
          ],
          "font": {
           "color": "#2a3f5f"
          },
          "geo": {
           "bgcolor": "white",
           "lakecolor": "white",
           "landcolor": "#E5ECF6",
           "showlakes": true,
           "showland": true,
           "subunitcolor": "white"
          },
          "hoverlabel": {
           "align": "left"
          },
          "hovermode": "closest",
          "mapbox": {
           "style": "light"
          },
          "paper_bgcolor": "white",
          "plot_bgcolor": "#E5ECF6",
          "polar": {
           "angularaxis": {
            "gridcolor": "white",
            "linecolor": "white",
            "ticks": ""
           },
           "bgcolor": "#E5ECF6",
           "radialaxis": {
            "gridcolor": "white",
            "linecolor": "white",
            "ticks": ""
           }
          },
          "scene": {
           "xaxis": {
            "backgroundcolor": "#E5ECF6",
            "gridcolor": "white",
            "gridwidth": 2,
            "linecolor": "white",
            "showbackground": true,
            "ticks": "",
            "zerolinecolor": "white"
           },
           "yaxis": {
            "backgroundcolor": "#E5ECF6",
            "gridcolor": "white",
            "gridwidth": 2,
            "linecolor": "white",
            "showbackground": true,
            "ticks": "",
            "zerolinecolor": "white"
           },
           "zaxis": {
            "backgroundcolor": "#E5ECF6",
            "gridcolor": "white",
            "gridwidth": 2,
            "linecolor": "white",
            "showbackground": true,
            "ticks": "",
            "zerolinecolor": "white"
           }
          },
          "shapedefaults": {
           "line": {
            "color": "#2a3f5f"
           }
          },
          "ternary": {
           "aaxis": {
            "gridcolor": "white",
            "linecolor": "white",
            "ticks": ""
           },
           "baxis": {
            "gridcolor": "white",
            "linecolor": "white",
            "ticks": ""
           },
           "bgcolor": "#E5ECF6",
           "caxis": {
            "gridcolor": "white",
            "linecolor": "white",
            "ticks": ""
           }
          },
          "title": {
           "x": 0.05
          },
          "xaxis": {
           "automargin": true,
           "gridcolor": "white",
           "linecolor": "white",
           "ticks": "",
           "title": {
            "standoff": 15
           },
           "zerolinecolor": "white",
           "zerolinewidth": 2
          },
          "yaxis": {
           "automargin": true,
           "gridcolor": "white",
           "linecolor": "white",
           "ticks": "",
           "title": {
            "standoff": 15
           },
           "zerolinecolor": "white",
           "zerolinewidth": 2
          }
         }
        }
       }
      },
      "text/html": [
       "<div>\n",
       "        \n",
       "        \n",
       "            <div id=\"74e3e476-1cdf-4212-ba96-cc04e925914d\" class=\"plotly-graph-div\" style=\"height:525px; width:100%;\"></div>\n",
       "            <script type=\"text/javascript\">\n",
       "                require([\"plotly\"], function(Plotly) {\n",
       "                    window.PLOTLYENV=window.PLOTLYENV || {};\n",
       "                    \n",
       "                if (document.getElementById(\"74e3e476-1cdf-4212-ba96-cc04e925914d\")) {\n",
       "                    Plotly.newPlot(\n",
       "                        '74e3e476-1cdf-4212-ba96-cc04e925914d',\n",
       "                        [{\"hovertemplate\": \"category_long=Natural<br>latitude=%{lat}<br>longitude=%{lon}<extra></extra>\", \"lat\": [19.383329999999997, 27.79222, 27.62667, 19.60638889, 32.0, 18.78805556], \"legendgroup\": \"Natural\", \"lon\": [-87.79167, -114.22778000000001, -112.54583000000001, -100.2416667, -113.91666670000001, -110.97527779999999], \"marker\": {\"color\": \"#636efa\"}, \"mode\": \"markers\", \"name\": \"Natural\", \"showlegend\": true, \"subplot\": \"mapbox\", \"type\": \"scattermapbox\"}, {\"hovertemplate\": \"category_long=Cultural<br>latitude=%{lat}<br>longitude=%{lon}<extra></extra>\", \"lat\": [17.48333, 19.418329999999997, 19.691670000000002, 17.061579000000002, 19.045967, 21.016939999999998, 20.682739, 19.700927, 20.446095, 22.775484, 27.626963, 18.93472222, 20.36166667, 20.593292, 20.676888, 30.367128000000005, 18.613459, 19.84639, 18.803972, 21.20438889, 19.41119788, 20.86305556, 19.33222222, 20.91444444, 22.60805556, 16.95083333, 19.83527778], \"legendgroup\": \"Cultural\", \"lon\": [-92.05, -99.13278000000001, -98.84167, -96.72588499999999, -98.197769, -101.25556, -88.56865400000001, -101.190376, -97.37764200000001, -102.573531, -113.020427, -98.89777778, -89.77027778, -100.392135, -103.33779799999999, -107.948122, -95.658676, -90.53721999999999, -99.29639, -99.46411111, -99.19235334, -103.77861109999999, -99.18805556, -100.74638890000001, -102.3791667, -96.42111111, -98.66256667], \"marker\": {\"color\": \"#EF553B\"}, \"mode\": \"markers\", \"name\": \"Cultural\", \"showlegend\": true, \"subplot\": \"mapbox\", \"type\": \"scattermapbox\"}, {\"hovertemplate\": \"category_long=Mixed<br>latitude=%{lat}<br>longitude=%{lon}<extra></extra>\", \"lat\": [18.05302778, 17.98996111], \"legendgroup\": \"Mixed\", \"lon\": [-89.73728333, -97.18715278], \"marker\": {\"color\": \"#00cc96\"}, \"mode\": \"markers\", \"name\": \"Mixed\", \"showlegend\": true, \"subplot\": \"mapbox\", \"type\": \"scattermapbox\"}],\n",
       "                        {\"legend\": {\"title\": {\"text\": \"category_long\"}, \"tracegroupgap\": 0}, \"mapbox\": {\"accesstoken\": \"pk.eyJ1IjoiZXZlZ2FyY2lhbnoiLCJhIjoiY2t5ZXR6MXVrMWNlNjJxbzhjcmptdWg2bSJ9.fmrbGI8SzC0WlouTElFzlA\", \"center\": {\"lat\": 21.01447631114285, \"lon\": -100.03509663885715}, \"domain\": {\"x\": [0.0, 1.0], \"y\": [0.0, 1.0]}, \"zoom\": 12}, \"margin\": {\"t\": 60}, \"template\": {\"data\": {\"bar\": [{\"error_x\": {\"color\": \"#2a3f5f\"}, \"error_y\": {\"color\": \"#2a3f5f\"}, \"marker\": {\"line\": {\"color\": \"#E5ECF6\", \"width\": 0.5}}, \"type\": \"bar\"}], \"barpolar\": [{\"marker\": {\"line\": {\"color\": \"#E5ECF6\", \"width\": 0.5}}, \"type\": \"barpolar\"}], \"carpet\": [{\"aaxis\": {\"endlinecolor\": \"#2a3f5f\", \"gridcolor\": \"white\", \"linecolor\": \"white\", \"minorgridcolor\": \"white\", \"startlinecolor\": \"#2a3f5f\"}, \"baxis\": {\"endlinecolor\": \"#2a3f5f\", \"gridcolor\": \"white\", \"linecolor\": \"white\", \"minorgridcolor\": \"white\", \"startlinecolor\": \"#2a3f5f\"}, \"type\": \"carpet\"}], \"choropleth\": [{\"colorbar\": {\"outlinewidth\": 0, \"ticks\": \"\"}, \"type\": \"choropleth\"}], \"contour\": [{\"colorbar\": {\"outlinewidth\": 0, \"ticks\": \"\"}, \"colorscale\": [[0.0, \"#0d0887\"], [0.1111111111111111, \"#46039f\"], [0.2222222222222222, \"#7201a8\"], [0.3333333333333333, \"#9c179e\"], [0.4444444444444444, \"#bd3786\"], [0.5555555555555556, \"#d8576b\"], [0.6666666666666666, \"#ed7953\"], [0.7777777777777778, \"#fb9f3a\"], [0.8888888888888888, \"#fdca26\"], [1.0, \"#f0f921\"]], \"type\": \"contour\"}], \"contourcarpet\": [{\"colorbar\": {\"outlinewidth\": 0, \"ticks\": \"\"}, \"type\": \"contourcarpet\"}], \"heatmap\": [{\"colorbar\": {\"outlinewidth\": 0, \"ticks\": \"\"}, \"colorscale\": [[0.0, \"#0d0887\"], [0.1111111111111111, \"#46039f\"], [0.2222222222222222, \"#7201a8\"], [0.3333333333333333, \"#9c179e\"], [0.4444444444444444, \"#bd3786\"], [0.5555555555555556, \"#d8576b\"], [0.6666666666666666, \"#ed7953\"], [0.7777777777777778, \"#fb9f3a\"], [0.8888888888888888, \"#fdca26\"], [1.0, \"#f0f921\"]], \"type\": \"heatmap\"}], \"heatmapgl\": [{\"colorbar\": {\"outlinewidth\": 0, \"ticks\": \"\"}, \"colorscale\": [[0.0, \"#0d0887\"], [0.1111111111111111, \"#46039f\"], [0.2222222222222222, \"#7201a8\"], [0.3333333333333333, \"#9c179e\"], [0.4444444444444444, \"#bd3786\"], [0.5555555555555556, \"#d8576b\"], [0.6666666666666666, \"#ed7953\"], [0.7777777777777778, \"#fb9f3a\"], [0.8888888888888888, \"#fdca26\"], [1.0, \"#f0f921\"]], \"type\": \"heatmapgl\"}], \"histogram\": [{\"marker\": {\"colorbar\": {\"outlinewidth\": 0, \"ticks\": \"\"}}, \"type\": \"histogram\"}], \"histogram2d\": [{\"colorbar\": {\"outlinewidth\": 0, \"ticks\": \"\"}, \"colorscale\": [[0.0, \"#0d0887\"], [0.1111111111111111, \"#46039f\"], [0.2222222222222222, \"#7201a8\"], [0.3333333333333333, \"#9c179e\"], [0.4444444444444444, \"#bd3786\"], [0.5555555555555556, \"#d8576b\"], [0.6666666666666666, \"#ed7953\"], [0.7777777777777778, \"#fb9f3a\"], [0.8888888888888888, \"#fdca26\"], [1.0, \"#f0f921\"]], \"type\": \"histogram2d\"}], \"histogram2dcontour\": [{\"colorbar\": {\"outlinewidth\": 0, \"ticks\": \"\"}, \"colorscale\": [[0.0, \"#0d0887\"], [0.1111111111111111, \"#46039f\"], [0.2222222222222222, \"#7201a8\"], [0.3333333333333333, \"#9c179e\"], [0.4444444444444444, \"#bd3786\"], [0.5555555555555556, \"#d8576b\"], [0.6666666666666666, \"#ed7953\"], [0.7777777777777778, \"#fb9f3a\"], [0.8888888888888888, \"#fdca26\"], [1.0, \"#f0f921\"]], \"type\": \"histogram2dcontour\"}], \"mesh3d\": [{\"colorbar\": {\"outlinewidth\": 0, \"ticks\": \"\"}, \"type\": \"mesh3d\"}], \"parcoords\": [{\"line\": {\"colorbar\": {\"outlinewidth\": 0, \"ticks\": \"\"}}, \"type\": \"parcoords\"}], \"pie\": [{\"automargin\": true, \"type\": \"pie\"}], \"scatter\": [{\"marker\": {\"colorbar\": {\"outlinewidth\": 0, \"ticks\": \"\"}}, \"type\": \"scatter\"}], \"scatter3d\": [{\"line\": {\"colorbar\": {\"outlinewidth\": 0, \"ticks\": \"\"}}, \"marker\": {\"colorbar\": {\"outlinewidth\": 0, \"ticks\": \"\"}}, \"type\": \"scatter3d\"}], \"scattercarpet\": [{\"marker\": {\"colorbar\": {\"outlinewidth\": 0, \"ticks\": \"\"}}, \"type\": \"scattercarpet\"}], \"scattergeo\": [{\"marker\": {\"colorbar\": {\"outlinewidth\": 0, \"ticks\": \"\"}}, \"type\": \"scattergeo\"}], \"scattergl\": [{\"marker\": {\"colorbar\": {\"outlinewidth\": 0, \"ticks\": \"\"}}, \"type\": \"scattergl\"}], \"scattermapbox\": [{\"marker\": {\"colorbar\": {\"outlinewidth\": 0, \"ticks\": \"\"}}, \"type\": \"scattermapbox\"}], \"scatterpolar\": [{\"marker\": {\"colorbar\": {\"outlinewidth\": 0, \"ticks\": \"\"}}, \"type\": \"scatterpolar\"}], \"scatterpolargl\": [{\"marker\": {\"colorbar\": {\"outlinewidth\": 0, \"ticks\": \"\"}}, \"type\": \"scatterpolargl\"}], \"scatterternary\": [{\"marker\": {\"colorbar\": {\"outlinewidth\": 0, \"ticks\": \"\"}}, \"type\": \"scatterternary\"}], \"surface\": [{\"colorbar\": {\"outlinewidth\": 0, \"ticks\": \"\"}, \"colorscale\": [[0.0, \"#0d0887\"], [0.1111111111111111, \"#46039f\"], [0.2222222222222222, \"#7201a8\"], [0.3333333333333333, \"#9c179e\"], [0.4444444444444444, \"#bd3786\"], [0.5555555555555556, \"#d8576b\"], [0.6666666666666666, \"#ed7953\"], [0.7777777777777778, \"#fb9f3a\"], [0.8888888888888888, \"#fdca26\"], [1.0, \"#f0f921\"]], \"type\": \"surface\"}], \"table\": [{\"cells\": {\"fill\": {\"color\": \"#EBF0F8\"}, \"line\": {\"color\": \"white\"}}, \"header\": {\"fill\": {\"color\": \"#C8D4E3\"}, \"line\": {\"color\": \"white\"}}, \"type\": \"table\"}]}, \"layout\": {\"annotationdefaults\": {\"arrowcolor\": \"#2a3f5f\", \"arrowhead\": 0, \"arrowwidth\": 1}, \"coloraxis\": {\"colorbar\": {\"outlinewidth\": 0, \"ticks\": \"\"}}, \"colorscale\": {\"diverging\": [[0, \"#8e0152\"], [0.1, \"#c51b7d\"], [0.2, \"#de77ae\"], [0.3, \"#f1b6da\"], [0.4, \"#fde0ef\"], [0.5, \"#f7f7f7\"], [0.6, \"#e6f5d0\"], [0.7, \"#b8e186\"], [0.8, \"#7fbc41\"], [0.9, \"#4d9221\"], [1, \"#276419\"]], \"sequential\": [[0.0, \"#0d0887\"], [0.1111111111111111, \"#46039f\"], [0.2222222222222222, \"#7201a8\"], [0.3333333333333333, \"#9c179e\"], [0.4444444444444444, \"#bd3786\"], [0.5555555555555556, \"#d8576b\"], [0.6666666666666666, \"#ed7953\"], [0.7777777777777778, \"#fb9f3a\"], [0.8888888888888888, \"#fdca26\"], [1.0, \"#f0f921\"]], \"sequentialminus\": [[0.0, \"#0d0887\"], [0.1111111111111111, \"#46039f\"], [0.2222222222222222, \"#7201a8\"], [0.3333333333333333, \"#9c179e\"], [0.4444444444444444, \"#bd3786\"], [0.5555555555555556, \"#d8576b\"], [0.6666666666666666, \"#ed7953\"], [0.7777777777777778, \"#fb9f3a\"], [0.8888888888888888, \"#fdca26\"], [1.0, \"#f0f921\"]]}, \"colorway\": [\"#636efa\", \"#EF553B\", \"#00cc96\", \"#ab63fa\", \"#FFA15A\", \"#19d3f3\", \"#FF6692\", \"#B6E880\", \"#FF97FF\", \"#FECB52\"], \"font\": {\"color\": \"#2a3f5f\"}, \"geo\": {\"bgcolor\": \"white\", \"lakecolor\": \"white\", \"landcolor\": \"#E5ECF6\", \"showlakes\": true, \"showland\": true, \"subunitcolor\": \"white\"}, \"hoverlabel\": {\"align\": \"left\"}, \"hovermode\": \"closest\", \"mapbox\": {\"style\": \"light\"}, \"paper_bgcolor\": \"white\", \"plot_bgcolor\": \"#E5ECF6\", \"polar\": {\"angularaxis\": {\"gridcolor\": \"white\", \"linecolor\": \"white\", \"ticks\": \"\"}, \"bgcolor\": \"#E5ECF6\", \"radialaxis\": {\"gridcolor\": \"white\", \"linecolor\": \"white\", \"ticks\": \"\"}}, \"scene\": {\"xaxis\": {\"backgroundcolor\": \"#E5ECF6\", \"gridcolor\": \"white\", \"gridwidth\": 2, \"linecolor\": \"white\", \"showbackground\": true, \"ticks\": \"\", \"zerolinecolor\": \"white\"}, \"yaxis\": {\"backgroundcolor\": \"#E5ECF6\", \"gridcolor\": \"white\", \"gridwidth\": 2, \"linecolor\": \"white\", \"showbackground\": true, \"ticks\": \"\", \"zerolinecolor\": \"white\"}, \"zaxis\": {\"backgroundcolor\": \"#E5ECF6\", \"gridcolor\": \"white\", \"gridwidth\": 2, \"linecolor\": \"white\", \"showbackground\": true, \"ticks\": \"\", \"zerolinecolor\": \"white\"}}, \"shapedefaults\": {\"line\": {\"color\": \"#2a3f5f\"}}, \"ternary\": {\"aaxis\": {\"gridcolor\": \"white\", \"linecolor\": \"white\", \"ticks\": \"\"}, \"baxis\": {\"gridcolor\": \"white\", \"linecolor\": \"white\", \"ticks\": \"\"}, \"bgcolor\": \"#E5ECF6\", \"caxis\": {\"gridcolor\": \"white\", \"linecolor\": \"white\", \"ticks\": \"\"}}, \"title\": {\"x\": 0.05}, \"xaxis\": {\"automargin\": true, \"gridcolor\": \"white\", \"linecolor\": \"white\", \"ticks\": \"\", \"title\": {\"standoff\": 15}, \"zerolinecolor\": \"white\", \"zerolinewidth\": 2}, \"yaxis\": {\"automargin\": true, \"gridcolor\": \"white\", \"linecolor\": \"white\", \"ticks\": \"\", \"title\": {\"standoff\": 15}, \"zerolinecolor\": \"white\", \"zerolinewidth\": 2}}}},\n",
       "                        {\"responsive\": true}\n",
       "                    ).then(function(){\n",
       "                            \n",
       "var gd = document.getElementById('74e3e476-1cdf-4212-ba96-cc04e925914d');\n",
       "var x = new MutationObserver(function (mutations, observer) {{\n",
       "        var display = window.getComputedStyle(gd).display;\n",
       "        if (!display || display === 'none') {{\n",
       "            console.log([gd, 'removed!']);\n",
       "            Plotly.purge(gd);\n",
       "            observer.disconnect();\n",
       "        }}\n",
       "}});\n",
       "\n",
       "// Listen for the removal of the full notebook cells\n",
       "var notebookContainer = gd.closest('#notebook-container');\n",
       "if (notebookContainer) {{\n",
       "    x.observe(notebookContainer, {childList: true});\n",
       "}}\n",
       "\n",
       "// Listen for the clearing of the current output cell\n",
       "var outputEl = gd.closest('.output');\n",
       "if (outputEl) {{\n",
       "    x.observe(outputEl, {childList: true});\n",
       "}}\n",
       "\n",
       "                        })\n",
       "                };\n",
       "                });\n",
       "            </script>\n",
       "        </div>"
      ]
     },
     "metadata": {},
     "output_type": "display_data"
    }
   ],
   "source": [
    "fig = px.scatter_mapbox(df_toPlot, lat=\"latitude\", lon=\"longitude\",color=\"category_long\",\n",
    "                  color_continuous_scale=px.colors.cyclical.IceFire, size_max=20,zoom=12)\n",
    "fig.show()"
   ]
  }
 ],
 "metadata": {
  "kernelspec": {
   "display_name": "Python 3",
   "language": "python",
   "name": "python3"
  },
  "language_info": {
   "codemirror_mode": {
    "name": "ipython",
    "version": 3
   },
   "file_extension": ".py",
   "mimetype": "text/x-python",
   "name": "python",
   "nbconvert_exporter": "python",
   "pygments_lexer": "ipython3",
   "version": "3.8.3"
  }
 },
 "nbformat": 4,
 "nbformat_minor": 4
}
