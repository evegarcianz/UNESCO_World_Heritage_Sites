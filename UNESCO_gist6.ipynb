{
 "cells": [
  {
   "cell_type": "markdown",
   "metadata": {},
   "source": [
    "We can get the top 5 by region using the query shown below."
   ]
  },
  {
   "cell_type": "code",
   "execution_count": 26,
   "metadata": {},
   "outputs": [
    {
     "data": {
      "text/html": [
       "<div>\n",
       "<style scoped>\n",
       "    .dataframe tbody tr th:only-of-type {\n",
       "        vertical-align: middle;\n",
       "    }\n",
       "\n",
       "    .dataframe tbody tr th {\n",
       "        vertical-align: top;\n",
       "    }\n",
       "\n",
       "    .dataframe thead th {\n",
       "        text-align: right;\n",
       "    }\n",
       "</style>\n",
       "<table border=\"1\" class=\"dataframe\">\n",
       "  <thead>\n",
       "    <tr style=\"text-align: right;\">\n",
       "      <th></th>\n",
       "      <th>Name</th>\n",
       "      <th>short_description</th>\n",
       "      <th>date_inscribed</th>\n",
       "      <th>danger</th>\n",
       "      <th>date_end</th>\n",
       "      <th>longitude</th>\n",
       "      <th>latitude</th>\n",
       "      <th>area_hectares</th>\n",
       "      <th>category_long</th>\n",
       "      <th>Region</th>\n",
       "      <th>transboundary</th>\n",
       "    </tr>\n",
       "    <tr>\n",
       "      <th>Country name</th>\n",
       "      <th></th>\n",
       "      <th></th>\n",
       "      <th></th>\n",
       "      <th></th>\n",
       "      <th></th>\n",
       "      <th></th>\n",
       "      <th></th>\n",
       "      <th></th>\n",
       "      <th></th>\n",
       "      <th></th>\n",
       "      <th></th>\n",
       "    </tr>\n",
       "  </thead>\n",
       "  <tbody>\n",
       "    <tr>\n",
       "      <th>Mexico</th>\n",
       "      <td>35</td>\n",
       "      <td>35</td>\n",
       "      <td>35</td>\n",
       "      <td>35</td>\n",
       "      <td>0</td>\n",
       "      <td>35</td>\n",
       "      <td>35</td>\n",
       "      <td>35</td>\n",
       "      <td>35</td>\n",
       "      <td>35</td>\n",
       "      <td>35</td>\n",
       "    </tr>\n",
       "    <tr>\n",
       "      <th>Brazil</th>\n",
       "      <td>22</td>\n",
       "      <td>22</td>\n",
       "      <td>22</td>\n",
       "      <td>22</td>\n",
       "      <td>1</td>\n",
       "      <td>22</td>\n",
       "      <td>22</td>\n",
       "      <td>22</td>\n",
       "      <td>22</td>\n",
       "      <td>22</td>\n",
       "      <td>22</td>\n",
       "    </tr>\n",
       "    <tr>\n",
       "      <th>Peru</th>\n",
       "      <td>12</td>\n",
       "      <td>12</td>\n",
       "      <td>12</td>\n",
       "      <td>12</td>\n",
       "      <td>0</td>\n",
       "      <td>12</td>\n",
       "      <td>12</td>\n",
       "      <td>12</td>\n",
       "      <td>12</td>\n",
       "      <td>12</td>\n",
       "      <td>12</td>\n",
       "    </tr>\n",
       "    <tr>\n",
       "      <th>Cuba</th>\n",
       "      <td>9</td>\n",
       "      <td>9</td>\n",
       "      <td>9</td>\n",
       "      <td>9</td>\n",
       "      <td>0</td>\n",
       "      <td>9</td>\n",
       "      <td>9</td>\n",
       "      <td>9</td>\n",
       "      <td>9</td>\n",
       "      <td>9</td>\n",
       "      <td>9</td>\n",
       "    </tr>\n",
       "    <tr>\n",
       "      <th>Colombia</th>\n",
       "      <td>8</td>\n",
       "      <td>8</td>\n",
       "      <td>8</td>\n",
       "      <td>8</td>\n",
       "      <td>1</td>\n",
       "      <td>8</td>\n",
       "      <td>8</td>\n",
       "      <td>8</td>\n",
       "      <td>8</td>\n",
       "      <td>8</td>\n",
       "      <td>8</td>\n",
       "    </tr>\n",
       "  </tbody>\n",
       "</table>\n",
       "</div>"
      ],
      "text/plain": [
       "              Name  short_description  date_inscribed  danger  date_end  \\\n",
       "Country name                                                              \n",
       "Mexico          35                 35              35      35         0   \n",
       "Brazil          22                 22              22      22         1   \n",
       "Peru            12                 12              12      12         0   \n",
       "Cuba             9                  9               9       9         0   \n",
       "Colombia         8                  8               8       8         1   \n",
       "\n",
       "              longitude  latitude  area_hectares  category_long  Region  \\\n",
       "Country name                                                              \n",
       "Mexico               35        35             35             35      35   \n",
       "Brazil               22        22             22             22      22   \n",
       "Peru                 12        12             12             12      12   \n",
       "Cuba                  9         9              9              9       9   \n",
       "Colombia              8         8              8              8       8   \n",
       "\n",
       "              transboundary  \n",
       "Country name                 \n",
       "Mexico                   35  \n",
       "Brazil                   22  \n",
       "Peru                     12  \n",
       "Cuba                      9  \n",
       "Colombia                  8  "
      ]
     },
     "execution_count": 26,
     "metadata": {},
     "output_type": "execute_result"
    }
   ],
   "source": [
    "df[df['Region']=='Latin America and the Caribbean'].groupby('Country name').count().sort_values(by='Name',ascending=False).head()"
   ]
  },
  {
   "cell_type": "markdown",
   "metadata": {},
   "source": [
    "The fastest way of getting the top 5 of every region is populating a list with these top 5's created through a for loop."
   ]
  },
  {
   "cell_type": "code",
   "execution_count": 27,
   "metadata": {},
   "outputs": [],
   "source": [
    "regions_top5_list=[]\n",
    "for region in df['Region'].unique():\n",
    "    top5_df=df[df['Region']==region].groupby('Country name').count().sort_values(by='Name',ascending=False).head()\n",
    "    top5_df.reset_index(inplace=True)\n",
    "    regions_top5_list.append(top5_df)\n",
    "    "
   ]
  },
  {
   "cell_type": "markdown",
   "metadata": {},
   "source": [
    "Time to plot every region Top 5."
   ]
  },
  {
   "cell_type": "code",
   "execution_count": 36,
   "metadata": {},
   "outputs": [
    {
     "data": {
      "image/png": "[encoded data removed]",
      "text/plain": [
       "<Figure size 720x576 with 6 Axes>"
      ]
     },
     "metadata": {
      "needs_background": "light"
     },
     "output_type": "display_data"
    }
   ],
   "source": [
    "fig, axes = plt.subplots(2, 3, figsize=(10,8), sharey=True)\n",
    "fig.tight_layout(pad=6.0)\n",
    "\n",
    "\n",
    "sns.barplot(data=regions_top5_list[3], x='Country name', y='Name',ax=axes[0,0], palette='RdBu_r')\n",
    "sns.barplot(data=regions_top5_list[5], x='Country name', y='Name', ax=axes[0,1], palette='RdBu_r')\n",
    "sns.barplot(data=regions_top5_list[1], x='Country name', y='Name', ax=axes[0,2], palette='RdBu_r')\n",
    "sns.barplot(data=regions_top5_list[0], x='Country name', y='Name',ax=axes[1,0], palette='RdBu_r')\n",
    "sns.barplot(data=regions_top5_list[4], x='Country name', y='Name', ax=axes[1,1], palette='RdBu_r')\n",
    "sns.barplot(data=regions_top5_list[2], x='Country name', y='Name', ax=axes[1,2], palette='RdBu_r')\n",
    "\n",
    "axes[0,0].set(ylabel=\"Sites\", xlabel=\"\")\n",
    "axes[0,1].set(ylabel=\"\" , xlabel=\"\")\n",
    "axes[0,2].set(ylabel=\"\", xlabel=\"\")\n",
    "axes[1,0].set(ylabel=\"Sites\", xlabel=\"\")\n",
    "axes[1,1].set(ylabel=\"\", xlabel=\"\")\n",
    "axes[1,2].set(ylabel=\"\", xlabel=\"\")\n",
    "  \n",
    "axes[0,0].tick_params('x', labelrotation=75)\n",
    "axes[0,1].tick_params('x', labelrotation=75)\n",
    "axes[0,2].tick_params('x', labelrotation=75)\n",
    "axes[1,0].tick_params('x', labelrotation=75)\n",
    "axes[1,1].tick_params('x', labelrotation=75)\n",
    "axes[1,2].tick_params('x', labelrotation=75)"
   ]
  }
 ],
 "metadata": {
  "kernelspec": {
   "display_name": "Python 3",
   "language": "python",
   "name": "python3"
  },
  "language_info": {
   "codemirror_mode": {
    "name": "ipython",
    "version": 3
   },
   "file_extension": ".py",
   "mimetype": "text/x-python",
   "name": "python",
   "nbconvert_exporter": "python",
   "pygments_lexer": "ipython3",
   "version": "3.8.3"
  }
 },
 "nbformat": 4,
 "nbformat_minor": 4
}
